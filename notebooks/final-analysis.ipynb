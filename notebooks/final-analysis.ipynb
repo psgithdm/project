{
 "cells": [
  {
   "cell_type": "markdown",
   "metadata": {},
   "source": [
    "# Final analysis \n",
    "\n",
    "---\n",
    "\n",
    "Student name: Priscila Strömsdörfer - ps178@hdm-stuttgart.de\n",
    "\n",
    "---\n"
   ]
  },
  {
   "cell_type": "markdown",
   "metadata": {},
   "source": [
    "## Introduction\n",
    "\n",
    "**Motivation**\n",
    "\n",
    "Die Sicherstellung der Lieferzuverlässigkeit in der Automobilindustrie ist entscheidend. Probleme mit Liefertermintreue können Produktionsprozesse stören und die Effizienz der Lieferkette beeinträchtigen. Mithilfe von datenbasierten Analysen sollen Schwachstellen identifiziert und Optimierungspotenziale aufgedeckt werden.\n",
    "\n",
    "Ein typisches Beispiel: Ein wichtiger Lieferant für Radlager meldet einen Lieferverzug von drei Tagen aufgrund von logistischen Problemen. In der Zwischenzeit kann die Montage der Fahrzeuge nicht fortgesetzt werden, da die benötigten Teile fehlen. Dieser Stillstand verursacht nicht nur direkte Produktionskosten, sondern führt auch zu Verzögerungen bei der Auslieferung der Fahrzeuge an Kunden. In hochvernetzten Lieferketten können solche Verzögerungen dominoartige Auswirkungen haben, was das Risiko von Umsatzverlusten und einer geringeren Kundenzufriedenheit erhöht.\n",
    "\n",
    "**Research Question**\n",
    "\n",
    "Die zentrale Forschungsfrage lautet:\n",
    "Welche Faktoren beeinflussen die Liefertermintreue bei produktiven Materialien, und wie können diese Informationen genutzt werden, um zukünftige Abweichungen zu minimieren?"
   ]
  },
  {
   "cell_type": "markdown",
   "metadata": {},
   "source": [
    "## Setup"
   ]
  },
  {
   "cell_type": "markdown",
   "metadata": {},
   "source": [
    "**Vorgehensweise**\n",
    "\n",
    "Die folgende Tabelle beschreibt die geplanten Schritte, die ich für die Datenanalyse vorsehe. Diese Schritte bieten eine klare Struktur, sind jedoch flexibel gestaltet: Es können während der Implementierung neue Schritte hinzukommen oder bestehende entfallen, abhängig von den Anforderungen und Erkenntnissen im Prozess. \n",
    "\n",
    "| **Schritt**                              | **Beschreibung**                                                                                   |\n",
    "|------------------------------------------|---------------------------------------------------------------------------------------------------|\n",
    "| **1 - Datenextraktion aus SAP**          | Extraktion relevanter Daten aus SAP-Systemen (z. B. EKPO, LIKP, MARA) und Sicherstellung der Integrität. |\n",
    "| **2 - Datenvorbereitung**                |                                                                                                   |\n",
    "| **2.1 - Formatierung der Daten**         | Umwandlung der extrahierten Daten in analysierbare Formate (z. B. CSV, Excel).                    |\n",
    "| **2.2 - Konsistenzprüfung**              | Kontrolle der Daten auf Vollständigkeit und strukturelle Konsistenz.                              |\n",
    "| **3 - Daten in Python einlesen**         | Import der Dateien in Python (z. B. mit `pandas`) und Prüfung der korrekten Tabellendefinition.   |\n",
    "| **4 - Explorative Datenanalyse (EDA)**   |                                                                                                   |\n",
    "| **4.1 - Datenprofiling**                 | Überblick über Struktur: Zeilen, Spalten, Datentypen, fehlende Werte und doppelte Einträge.       |\n",
    "| **4.2 - Datenbereinigung und Qualität**  | Korrektur fehlender Werte, Inkonsistenzen und doppelter Einträge; Sicherstellung der Datenqualität. |\n",
    "| **4.3 - Tabellenverknüpfung erstellen**  | Verknüpfung relevanter SAP-Tabellen anhand gemeinsamer Schlüsselspalten (z. B. Bestellnummer).    |\n",
    "| **4.4 - Descriptive Statistics**         | Berechnung von Mittelwert, Median, Minimum, Maximum, Häufigkeiten und Standardabweichung.         |\n",
    "| **4.5 - Graphische Datenverteilung**     | Visualisierung: Histogramme, Balkendiagramme, Boxplots zur Verteilung und Ausreißeranalyse.       |\n",
    "| **5 - Hypothesenprüfung und Modellierung** |                                                                                                   |\n",
    "| **5.1 - Hypothesenvalidierung**          | Durchführung von Tests (z. B. Chi-Quadrat) zur Überprüfung der definierten Hypothesen.     |\n",
    "| **5.2 - Statistische Modelle**           | Aufbau von Modellen wie Logistische Regression oder Random Forest zur Analyse von Einflussfaktoren. |\n",
    "| **5.3 - Zeitreihenanalyse**              | Untersuchung von Trends und saisonalen Mustern in den Lieferdaten.                               |\n",
    "| **6 - Ergebnisdarstellung und Interpretation** | Zusammenfassung der Erkenntnisse, Diagramme und identifizierte Einflussfaktoren.                |\n",
    "| **7 - Optimierungspotenziale**           | Handlungsempfehlungen zur Verbesserung der Liefertermintreue und datenbasierte Optimierungsstrategien. |"
   ]
  },
  {
   "cell_type": "markdown",
   "metadata": {},
   "source": [
    "## Data"
   ]
  },
  {
   "cell_type": "markdown",
   "metadata": {},
   "source": [
    "### Import data"
   ]
  },
  {
   "cell_type": "markdown",
   "metadata": {},
   "source": [
    "Die Daten-Logik für diese Analyse stammen aus dem SAP-basierten Logistiksystem Automotive Supply. Sie wurden zuvor aus den relevanten Tabellen (z. B. EKKO, EKPO, EKBE, LIKP, LIPS, MSEG, MARA, MARC, MAKT, LFA1) extrahiert. Diese Tabellen enthalten Informationen zu Bestellungen, Lieferungen, Material- und Lieferantenstammdaten, die essenziell für die Untersuchung der Liefertermintreue sind.\n",
    "\n",
    "Datentabellen werden direkt in SAP abgerufen und mit einander verknüpft sodass, eine finale Datei entsteht. \n",
    "\n",
    "Für diese Projektarbeit wurden Dummy-Daten auf Basis der Tabellenstruktur aus SAP generiert. Vorteil dabei ist, dass der Python-Notebook ausführbar ist und keine Sensible Daten komprometiert werden. \n",
    "Bei eine zukünftige Zeitpunkt kann das Model auf das original Daten angewendet werden. Das ist aber nicht bestandteil dieses Projektarbeit.\n",
    "\n",
    "*Punkt 1 und 2 - Datenbereinigung findet sonfern nötig hier statt. \n",
    "*Punkt 3, 4 und 5 findet direkt in SAP statt. \n",
    "\n",
    "| **Schritt**               | **Beschreibung**                                                                                   |\n",
    "|---------------------------|---------------------------------------------------------------------------------------------------|\n",
    "| **1. Einlesen der Daten**  | Import der extrahierten Daten aus SAP in das Notebook (z. B. CSV- oder Excel-Dateien).            |\n",
    "| **2. Bereinigung der Daten** | Prüfung auf Konsistenz: Entfernen von fehlenden Werten, doppelten Einträgen und fehlerhaften Daten. |\n",
    "| **3. Standardisierung**    | Vereinheitlichung der Formate, z. B. für Datumsangaben oder numerische Werte.                     |\n",
    "| **4. Verknüpfung der Tabellen** | Verknüpfung der Daten mithilfe gemeinsamer Schlüsselspalten (z. B. Bestellnummer, Lieferantennummer). |\n",
    "| **5. Konsolidierung**      | Erstellung eines konsolidierten Datensatzes als Basis für weitere Analysen.                       |"
   ]
  },
  {
   "cell_type": "code",
   "execution_count": 1,
   "metadata": {},
   "outputs": [
    {
     "name": "stdout",
     "output_type": "stream",
     "text": [
      "Requirement already satisfied: scikit-learn in /Users/priscilastromsdorfer/opt/anaconda3/envs/analytics/lib/python3.12/site-packages (1.6.0)\n",
      "Requirement already satisfied: numpy>=1.19.5 in /Users/priscilastromsdorfer/opt/anaconda3/envs/analytics/lib/python3.12/site-packages (from scikit-learn) (2.2.0)\n",
      "Requirement already satisfied: scipy>=1.6.0 in /Users/priscilastromsdorfer/opt/anaconda3/envs/analytics/lib/python3.12/site-packages (from scikit-learn) (1.14.1)\n",
      "Requirement already satisfied: joblib>=1.2.0 in /Users/priscilastromsdorfer/opt/anaconda3/envs/analytics/lib/python3.12/site-packages (from scikit-learn) (1.4.2)\n",
      "Requirement already satisfied: threadpoolctl>=3.1.0 in /Users/priscilastromsdorfer/opt/anaconda3/envs/analytics/lib/python3.12/site-packages (from scikit-learn) (3.5.0)\n",
      "Note: you may need to restart the kernel to use updated packages.\n"
     ]
    }
   ],
   "source": [
    "pip install scikit-learn"
   ]
  },
  {
   "cell_type": "code",
   "execution_count": 2,
   "metadata": {},
   "outputs": [],
   "source": [
    "\n",
    "# Bibliotheken\n",
    "import pandas as pd\n",
    "import numpy as np\n",
    "import pandas as pd\n",
    "import matplotlib.pyplot as plt\n",
    "import seaborn as sns\n",
    "from datetime import datetime\n",
    "from IPython.display import Markdown, display\n",
    "from sklearn.model_selection import train_test_split\n",
    "from sklearn.preprocessing import StandardScaler\n",
    "from sklearn.metrics import accuracy_score, confusion_matrix, classification_report\n",
    "import sklearn\n",
    "import joblib\n",
    "from scipy.stats import chi2_contingency"
   ]
  },
  {
   "cell_type": "markdown",
   "metadata": {},
   "source": [
    "### Datenladen"
   ]
  },
  {
   "cell_type": "code",
   "execution_count": 3,
   "metadata": {},
   "outputs": [],
   "source": [
    "# Einlesen der Excel-Daten\n",
    "var_file_path = \"../data/raw/liefertreue_dataset_2024.xlsx\"  # 2024\n",
    "dataset_2024_df = pd.read_excel(var_file_path)"
   ]
  },
  {
   "cell_type": "markdown",
   "metadata": {},
   "source": [
    "### Datenvorschau: Erste 5 Einträge"
   ]
  },
  {
   "cell_type": "code",
   "execution_count": 4,
   "metadata": {},
   "outputs": [
    {
     "data": {
      "text/html": [
       "<div>\n",
       "<style scoped>\n",
       "    .dataframe tbody tr th:only-of-type {\n",
       "        vertical-align: middle;\n",
       "    }\n",
       "\n",
       "    .dataframe tbody tr th {\n",
       "        vertical-align: top;\n",
       "    }\n",
       "\n",
       "    .dataframe thead th {\n",
       "        text-align: right;\n",
       "    }\n",
       "</style>\n",
       "<table border=\"1\" class=\"dataframe\">\n",
       "  <thead>\n",
       "    <tr style=\"text-align: right;\">\n",
       "      <th></th>\n",
       "      <th>Lieferscheinnummer</th>\n",
       "      <th>Lieferantennummer</th>\n",
       "      <th>Lieferantenbezeichnung</th>\n",
       "      <th>Materialnummer</th>\n",
       "      <th>Materialbezeichnung</th>\n",
       "      <th>Land</th>\n",
       "      <th>Bestelldatum</th>\n",
       "      <th>Lieferdatum (Soll)</th>\n",
       "      <th>Wareneingangsdatum (WE)</th>\n",
       "      <th>Soll-Menge</th>\n",
       "      <th>WE-Menge</th>\n",
       "    </tr>\n",
       "  </thead>\n",
       "  <tbody>\n",
       "    <tr>\n",
       "      <th>0</th>\n",
       "      <td>LS5412357</td>\n",
       "      <td>LA1031</td>\n",
       "      <td>SEW-EUR</td>\n",
       "      <td>A2341441</td>\n",
       "      <td>Steuerungen</td>\n",
       "      <td>PL</td>\n",
       "      <td>2024-03-11</td>\n",
       "      <td>2024-04-09</td>\n",
       "      <td>2024-04-09</td>\n",
       "      <td>110</td>\n",
       "      <td>104</td>\n",
       "    </tr>\n",
       "    <tr>\n",
       "      <th>1</th>\n",
       "      <td>LS9371283</td>\n",
       "      <td>LA1015</td>\n",
       "      <td>Wieland-Werk</td>\n",
       "      <td>A1842836</td>\n",
       "      <td>Kupferlegierungen</td>\n",
       "      <td>DE</td>\n",
       "      <td>2024-07-15</td>\n",
       "      <td>2024-08-08</td>\n",
       "      <td>2024-08-11</td>\n",
       "      <td>198</td>\n",
       "      <td>210</td>\n",
       "    </tr>\n",
       "    <tr>\n",
       "      <th>2</th>\n",
       "      <td>LS6013338</td>\n",
       "      <td>LA1014</td>\n",
       "      <td>LEONI AG</td>\n",
       "      <td>A1624957</td>\n",
       "      <td>Kabel</td>\n",
       "      <td>CH</td>\n",
       "      <td>2024-03-19</td>\n",
       "      <td>2024-03-26</td>\n",
       "      <td>2024-03-26</td>\n",
       "      <td>94</td>\n",
       "      <td>88</td>\n",
       "    </tr>\n",
       "    <tr>\n",
       "      <th>3</th>\n",
       "      <td>LS7058941</td>\n",
       "      <td>LA1018</td>\n",
       "      <td>SEW-EURODRIV</td>\n",
       "      <td>A8657694</td>\n",
       "      <td>Getriebemotoren</td>\n",
       "      <td>DE</td>\n",
       "      <td>2024-08-12</td>\n",
       "      <td>2024-08-26</td>\n",
       "      <td>2024-08-31</td>\n",
       "      <td>250</td>\n",
       "      <td>237</td>\n",
       "    </tr>\n",
       "    <tr>\n",
       "      <th>4</th>\n",
       "      <td>LS2038973</td>\n",
       "      <td>LA1025</td>\n",
       "      <td>thyssenkrupp</td>\n",
       "      <td>A1864991</td>\n",
       "      <td>Lenksysteme</td>\n",
       "      <td>DE</td>\n",
       "      <td>2024-11-30</td>\n",
       "      <td>2024-12-21</td>\n",
       "      <td>2024-12-21</td>\n",
       "      <td>227</td>\n",
       "      <td>230</td>\n",
       "    </tr>\n",
       "  </tbody>\n",
       "</table>\n",
       "</div>"
      ],
      "text/plain": [
       "  Lieferscheinnummer Lieferantennummer Lieferantenbezeichnung Materialnummer  \\\n",
       "0          LS5412357            LA1031                SEW-EUR       A2341441   \n",
       "1          LS9371283            LA1015           Wieland-Werk       A1842836   \n",
       "2          LS6013338            LA1014               LEONI AG       A1624957   \n",
       "3          LS7058941            LA1018           SEW-EURODRIV       A8657694   \n",
       "4          LS2038973            LA1025           thyssenkrupp       A1864991   \n",
       "\n",
       "  Materialbezeichnung Land Bestelldatum Lieferdatum (Soll)  \\\n",
       "0         Steuerungen   PL   2024-03-11         2024-04-09   \n",
       "1   Kupferlegierungen   DE   2024-07-15         2024-08-08   \n",
       "2               Kabel   CH   2024-03-19         2024-03-26   \n",
       "3     Getriebemotoren   DE   2024-08-12         2024-08-26   \n",
       "4         Lenksysteme   DE   2024-11-30         2024-12-21   \n",
       "\n",
       "  Wareneingangsdatum (WE)  Soll-Menge  WE-Menge  \n",
       "0              2024-04-09         110       104  \n",
       "1              2024-08-11         198       210  \n",
       "2              2024-03-26          94        88  \n",
       "3              2024-08-31         250       237  \n",
       "4              2024-12-21         227       230  "
      ]
     },
     "execution_count": 4,
     "metadata": {},
     "output_type": "execute_result"
    }
   ],
   "source": [
    "# Überblick über die Daten\n",
    "dataset_2024_df.head()"
   ]
  },
  {
   "cell_type": "markdown",
   "metadata": {},
   "source": [
    "### Überprüfung Datentypen und Null-Werte"
   ]
  },
  {
   "cell_type": "code",
   "execution_count": 5,
   "metadata": {},
   "outputs": [
    {
     "name": "stdout",
     "output_type": "stream",
     "text": [
      "<class 'pandas.core.frame.DataFrame'>\n",
      "RangeIndex: 30000 entries, 0 to 29999\n",
      "Data columns (total 11 columns):\n",
      " #   Column                   Non-Null Count  Dtype         \n",
      "---  ------                   --------------  -----         \n",
      " 0   Lieferscheinnummer       30000 non-null  object        \n",
      " 1   Lieferantennummer        30000 non-null  object        \n",
      " 2   Lieferantenbezeichnung   30000 non-null  object        \n",
      " 3   Materialnummer           30000 non-null  object        \n",
      " 4   Materialbezeichnung      30000 non-null  object        \n",
      " 5   Land                     30000 non-null  object        \n",
      " 6   Bestelldatum             30000 non-null  datetime64[ns]\n",
      " 7   Lieferdatum (Soll)       30000 non-null  datetime64[ns]\n",
      " 8   Wareneingangsdatum (WE)  30000 non-null  datetime64[ns]\n",
      " 9   Soll-Menge               30000 non-null  int64         \n",
      " 10  WE-Menge                 30000 non-null  int64         \n",
      "dtypes: datetime64[ns](3), int64(2), object(6)\n",
      "memory usage: 2.5+ MB\n"
     ]
    }
   ],
   "source": [
    "# Überprüfung Datentypen und Null-Werte\n",
    "dataset_2024_df.info()"
   ]
  },
  {
   "cell_type": "markdown",
   "metadata": {},
   "source": [
    "### Datenqualitäsprüfung"
   ]
  },
  {
   "cell_type": "markdown",
   "metadata": {},
   "source": [
    "In diese Abschnitt wurden folgedege Datenüberprüfungen durchgeführt: \n",
    "\n",
    "1.\tPrüfung fehlender Werte:\n",
    "\n",
    "- Identifikation fehlender Werte in jeder Spalte.\n",
    "\n",
    "- Entfernung von Zeilen mit fehlenden Schlüsseldaten (z. B. Lieferscheinnummer, Materialnummer).\n",
    "\n",
    "2.\tDuplikate im Datensatz identifizieren:\n",
    "\n",
    "- Überprüfung auf doppelte Einträge im Datensatz.\n",
    "\n",
    "- Entfernung redundanter Daten, um Konsistenz sicherzustellen.\n",
    "\n",
    "3.\tPlausibilitätsprüfung:\n",
    "\n",
    "- Datum: Überprüfung, ob das Wareneingangsdatum (WE) nicht vor dem Bestelldatum liegt.\n",
    "\n",
    "- Menge: Sicherstellen, dass Soll-Menge und WE-Menge keine negativen Werte aufweisen.\n",
    "\n",
    "- Datenplausibilisierung der Datumsfeldern und Menge, im Anschluss Anomalie entfernen. \n",
    "\n",
    "\n",
    "4.\tPrüfung eindeutiger Werte:\n",
    "\n",
    "- Zählen der unique values je Spalte, um die Datenvielfalt zu analysieren (z. B. unterschiedliche Lieferanten, Materialien, Länder).\n",
    "\t\n",
    "5.\tStatistische Werte:\n",
    "\n",
    "- Berechnung beschreibender Statistiken für numerische Spalten (Soll-Menge, WE-Menge, verspätungstage).\n",
    "\t\n",
    "- Analyse von Mittelwert, Median, Standardabweichung und Quartilen."
   ]
  },
  {
   "cell_type": "markdown",
   "metadata": {},
   "source": [
    "### Fehlende Werte überprüfen"
   ]
  },
  {
   "cell_type": "code",
   "execution_count": 6,
   "metadata": {},
   "outputs": [
    {
     "name": "stdout",
     "output_type": "stream",
     "text": [
      "Fehlende Werte:\n",
      " Lieferscheinnummer         0\n",
      "Lieferantennummer          0\n",
      "Lieferantenbezeichnung     0\n",
      "Materialnummer             0\n",
      "Materialbezeichnung        0\n",
      "Land                       0\n",
      "Bestelldatum               0\n",
      "Lieferdatum (Soll)         0\n",
      "Wareneingangsdatum (WE)    0\n",
      "Soll-Menge                 0\n",
      "WE-Menge                   0\n",
      "dtype: int64\n"
     ]
    }
   ],
   "source": [
    "# Fehlende Werte prüfen\n",
    "missing_values = dataset_2024_df.isnull().sum()\n",
    "print(\"Fehlende Werte:\\n\", missing_values)\n",
    "\n",
    "# Zeilen mit fehlenden Werten entfernen\n",
    "cleaned_liefertreue_2024_df = dataset_2024_df.dropna()"
   ]
  },
  {
   "cell_type": "markdown",
   "metadata": {},
   "source": [
    "### Duplikate im Datensatz identifizieren"
   ]
  },
  {
   "cell_type": "code",
   "execution_count": 7,
   "metadata": {},
   "outputs": [
    {
     "name": "stdout",
     "output_type": "stream",
     "text": [
      "Anzahl doppelte Einträge: 846\n",
      "Duplikaten wurden in duplicates_dataset gespeichert.\n",
      "Duplikaten wurden aus cleaned_liefertreue_2024_df entfernt.\n"
     ]
    }
   ],
   "source": [
    "# Doppelte Einträge prüfen\n",
    "var_anzahl_doppelte_Einträge = cleaned_liefertreue_2024_df.duplicated().sum()\n",
    "print(f\"Anzahl doppelte Einträge: {var_anzahl_doppelte_Einträge}\")\n",
    "\n",
    "# Für künftige Analyse möchte ich gerne die Duplikaten anschauen, um die Datenqualität zu verbessern\n",
    "# Doppelte Einträge in einen separaten DataFrame speichern\n",
    "duplicates_dataset = cleaned_liefertreue_2024_df[cleaned_liefertreue_2024_df.duplicated()]\n",
    "print(\"Duplikaten wurden in duplicates_dataset gespeichert.\")\n",
    "\n",
    "# Doppelte Einträge entfernen\n",
    "cleaned_liefertreue_2024_df = cleaned_liefertreue_2024_df.drop_duplicates()\n",
    "print(\"Duplikaten wurden aus cleaned_liefertreue_2024_df entfernt.\")"
   ]
  },
  {
   "cell_type": "markdown",
   "metadata": {},
   "source": [
    "### Plausibilitätsprüfung - Menge\n",
    "### **Daten Anomalien beseitigen** \n",
    "Die Anomalien wurden anhand der folgenden Regeln identifiziert:\n",
    "- Negative Soll-Menge: Ein negativer Wert bei Soll-Menge bedeutet, dass die angeforderte Menge fehlerhaft ist. Es sollte keine Bestellung mit negativen Mengen geben.\n",
    "- Negative WE-Menge: Ein negativer Wert bei WE-Menge (Wareneingangsmenge) ist ebenfalls ein klarer Fehler, da physische Lieferungen keine negativen Werte haben können.\n",
    "- Unlogisches Wareneingangsdatum: Wenn das Wareneingangsdatum (WE) vor dem Bestelldatum liegt, deutet dies auf einen Fehler in der Datenerfassung hin, da eine Lieferung nicht vor der Bestellung erfolgen kann.\n",
    "\n",
    "| **Aspekt**            | **Beschreibung**                                                                             | **Maßnahmen**                                                                                 |\n",
    "|------------------------|---------------------------------------------------------------------------------------------|---------------------------------------------------------------------------------------------|\n",
    "| **Fehlende Werte**     | Identifikation und Umgang mit fehlenden Einträgen                                           | - Imputation (z. B. Mittelwert, Median)                                                     |\n",
    "|                        |                                                                                             | - Löschen von Einträgen, wenn nicht ausreichend Informationen verfügbar sind                |\n",
    "| **Doppelte Werte**     | Identifikation und Bereinigung redundanter Daten                                            | - Entfernen doppelter Einträge auf Basis relevanter Schlüsselfelder                         |\n",
    "| **Anomalien**          | Identifikation ungewöhnlicher Werte (z. B. negative Mengen, unrealistische Zeitangaben)     | - Überprüfung auf Plausibilität und Entfernung oder Korrektur dieser Werte                  |\n",
    "| **Standardisierung**   | Einheitliche Formate für Daten wie LIFNR, MATNR |                  |"
   ]
  },
  {
   "cell_type": "code",
   "execution_count": 8,
   "metadata": {},
   "outputs": [
    {
     "name": "stdout",
     "output_type": "stream",
     "text": [
      "Überprüfung auf Anomalien:\n",
      "Anzahl der Anomalien: 230\n",
      "Anomalien gefunden:\n",
      "     Lieferscheinnummer Lieferantennummer Lieferantenbezeichnung  \\\n",
      "214          LS9267244            LA1027           ZF Friedrich   \n",
      "522          LS9705895            LA1025           thyssenkrupp   \n",
      "604          LS1315992            LA1025           thyssenkrupp   \n",
      "641          LS8762809            LA1006            Freudenberg   \n",
      "755          LS3469208            LA1005             MAHLE GmbH   \n",
      "\n",
      "    Materialnummer Materialbezeichnung Land Bestelldatum Lieferdatum (Soll)  \\\n",
      "214       A4588446            Fahrwerk   FR   2024-12-13         2024-01-10   \n",
      "522       A1725455         Lenksysteme   DE   2024-12-06         2024-01-02   \n",
      "604       A6724311             Dämpfer   DE   2024-12-09         2024-01-03   \n",
      "641       A2010580            Bauteile   PL   2024-12-10         2024-01-04   \n",
      "755       A1164566             Antrieb   DE   2024-12-13         2024-01-07   \n",
      "\n",
      "    Wareneingangsdatum (WE)  Soll-Menge  WE-Menge  \n",
      "214              2024-01-10          59        63  \n",
      "522              2024-01-02         264       287  \n",
      "604              2024-01-03         273       253  \n",
      "641              2024-01-09         445       478  \n",
      "755              2024-01-07         227       242  \n",
      "\n",
      "230 Anomalien wurden in 'anomalies_df' gespeichert für künftige Betrachtung.\n",
      "Anomalien wurden aus 'cleaned_liefertreue_2024_df' entfernt.\n",
      "\n",
      "Anzahl der verbleibenden Datensätze nach Bereinigung: 28924\n"
     ]
    }
   ],
   "source": [
    "# Überprüfung auf Anomalien\n",
    "print(\"Überprüfung auf Anomalien:\")\n",
    "anomalies = cleaned_liefertreue_2024_df[\n",
    "    (cleaned_liefertreue_2024_df[\"Soll-Menge\"] < 0) |\n",
    "    (cleaned_liefertreue_2024_df[\"WE-Menge\"] < 0) |\n",
    "    (cleaned_liefertreue_2024_df[\"Wareneingangsdatum (WE)\"] < cleaned_liefertreue_2024_df[\"Bestelldatum\"])\n",
    "]\n",
    "\n",
    "# Anzahl der Anomalien\n",
    "var_anzahl_anomalie = len(anomalies)\n",
    "print(\"Anzahl der Anomalien:\", var_anzahl_anomalie)\n",
    "\n",
    "# Wenn keine Anomalien vorhanden sind\n",
    "if anomalies.empty:\n",
    "    print(\"Ergebnis: Keine Anomalien gefunden – alle Werte sind logisch konsistent.\")\n",
    "else:\n",
    "    # Zeige die ersten Anomalien zur Überprüfung\n",
    "    print(\"Anomalien gefunden:\\n\", anomalies.head())\n",
    "    \n",
    "    # Speichere die Anomalien in einen separaten DataFrame\n",
    "    anomalies_df = anomalies.copy()\n",
    "    print(f\"\\n{var_anzahl_anomalie} Anomalien wurden in 'anomalies_df' gespeichert für künftige Betrachtung.\")\n",
    "    anomalies_df.head()\n",
    "    \n",
    "    # Entferne die Anomalien aus dem ursprünglichen DataFrame\n",
    "    cleaned_liefertreue_2024_df = cleaned_liefertreue_2024_df.drop(anomalies.index)\n",
    "    print(f\"Anomalien wurden aus 'cleaned_liefertreue_2024_df' entfernt.\")\n",
    "    \n",
    "    # Zeige die Anzahl der verbleibenden Datensätze\n",
    "    print(f\"\\nAnzahl der verbleibenden Datensätze nach Bereinigung: {len(cleaned_liefertreue_2024_df)}\")\n",
    "    cleaned_liefertreue_2024_df.head()"
   ]
  },
  {
   "cell_type": "markdown",
   "metadata": {},
   "source": [
    "### Anzahl eindeutige Werte pro Spalte"
   ]
  },
  {
   "cell_type": "code",
   "execution_count": 9,
   "metadata": {},
   "outputs": [
    {
     "name": "stdout",
     "output_type": "stream",
     "text": [
      "Anzahl Zeilen: 28924, Anzahl Spalten: 11\n",
      "\n",
      "Anzahl der eindeutigen Werte je Spalte:\n"
     ]
    },
    {
     "data": {
      "text/html": [
       "<div>\n",
       "<style scoped>\n",
       "    .dataframe tbody tr th:only-of-type {\n",
       "        vertical-align: middle;\n",
       "    }\n",
       "\n",
       "    .dataframe tbody tr th {\n",
       "        vertical-align: top;\n",
       "    }\n",
       "\n",
       "    .dataframe thead th {\n",
       "        text-align: right;\n",
       "    }\n",
       "</style>\n",
       "<table border=\"1\" class=\"dataframe\">\n",
       "  <thead>\n",
       "    <tr style=\"text-align: right;\">\n",
       "      <th></th>\n",
       "      <th>Spalte-Bezeichnung</th>\n",
       "      <th>Anzahl eindeutige Werte</th>\n",
       "    </tr>\n",
       "  </thead>\n",
       "  <tbody>\n",
       "    <tr>\n",
       "      <th>0</th>\n",
       "      <td>Lieferscheinnummer</td>\n",
       "      <td>28869</td>\n",
       "    </tr>\n",
       "    <tr>\n",
       "      <th>1</th>\n",
       "      <td>Lieferantennummer</td>\n",
       "      <td>21</td>\n",
       "    </tr>\n",
       "    <tr>\n",
       "      <th>2</th>\n",
       "      <td>Lieferantenbezeichnung</td>\n",
       "      <td>21</td>\n",
       "    </tr>\n",
       "    <tr>\n",
       "      <th>3</th>\n",
       "      <td>Materialnummer</td>\n",
       "      <td>32</td>\n",
       "    </tr>\n",
       "    <tr>\n",
       "      <th>4</th>\n",
       "      <td>Materialbezeichnung</td>\n",
       "      <td>25</td>\n",
       "    </tr>\n",
       "    <tr>\n",
       "      <th>5</th>\n",
       "      <td>Land</td>\n",
       "      <td>8</td>\n",
       "    </tr>\n",
       "    <tr>\n",
       "      <th>6</th>\n",
       "      <td>Bestelldatum</td>\n",
       "      <td>349</td>\n",
       "    </tr>\n",
       "    <tr>\n",
       "      <th>7</th>\n",
       "      <td>Lieferdatum (Soll)</td>\n",
       "      <td>365</td>\n",
       "    </tr>\n",
       "    <tr>\n",
       "      <th>8</th>\n",
       "      <td>Wareneingangsdatum (WE)</td>\n",
       "      <td>365</td>\n",
       "    </tr>\n",
       "    <tr>\n",
       "      <th>9</th>\n",
       "      <td>Soll-Menge</td>\n",
       "      <td>451</td>\n",
       "    </tr>\n",
       "    <tr>\n",
       "      <th>10</th>\n",
       "      <td>WE-Menge</td>\n",
       "      <td>505</td>\n",
       "    </tr>\n",
       "  </tbody>\n",
       "</table>\n",
       "</div>"
      ],
      "text/plain": [
       "         Spalte-Bezeichnung  Anzahl eindeutige Werte\n",
       "0        Lieferscheinnummer                    28869\n",
       "1         Lieferantennummer                       21\n",
       "2    Lieferantenbezeichnung                       21\n",
       "3            Materialnummer                       32\n",
       "4       Materialbezeichnung                       25\n",
       "5                      Land                        8\n",
       "6              Bestelldatum                      349\n",
       "7        Lieferdatum (Soll)                      365\n",
       "8   Wareneingangsdatum (WE)                      365\n",
       "9                Soll-Menge                      451\n",
       "10                 WE-Menge                      505"
      ]
     },
     "execution_count": 9,
     "metadata": {},
     "output_type": "execute_result"
    }
   ],
   "source": [
    "# Anzahl der Zeilen und Spalten anzeigen\n",
    "shape = cleaned_liefertreue_2024_df.shape\n",
    "print(f\"Anzahl Zeilen: {shape[0]}, Anzahl Spalten: {shape[1]}\\n\")\n",
    "\n",
    "var_anzahl_datensätze_start_analyse = shape[0]\n",
    "var_anzahl_spalten_start_analyse = shape[1]\n",
    "\n",
    "# Anzahl der eindeutigen Werte je Spalte\n",
    "\n",
    "unique_counts = cleaned_liefertreue_2024_df.nunique()\n",
    "\n",
    "print(\"Anzahl der eindeutigen Werte je Spalte:\")\n",
    "\n",
    "# Konvertiere das Dictionary in einen DataFrame\n",
    "df_unique_counts = pd.DataFrame(list(unique_counts.items()), columns=['Spalte-Bezeichnung', 'Anzahl eindeutige Werte'])\n",
    "\n",
    "# Ergebnis als Pivot-Tabelle anzeigen\n",
    "df_unique_counts\n"
   ]
  },
  {
   "cell_type": "markdown",
   "metadata": {},
   "source": [
    "### Statistische Zusammenfassung der numerische Daten"
   ]
  },
  {
   "cell_type": "code",
   "execution_count": 10,
   "metadata": {},
   "outputs": [
    {
     "name": "stdout",
     "output_type": "stream",
     "text": [
      "Statistische Beschreibung der Integer-Werte:\n",
      "         Soll-Menge      WE-Menge\n",
      "count  28924.000000  28924.000000\n",
      "mean     275.904232    275.366789\n",
      "std      129.880551    131.024802\n",
      "min       50.000000     45.000000\n",
      "25%      164.000000    162.000000\n",
      "50%      275.000000    274.000000\n",
      "75%      388.000000    387.000000\n",
      "max      500.000000    549.000000\n"
     ]
    }
   ],
   "source": [
    "# Statistische Zusammenfassung der numerischen Spalten\n",
    "int_columns_description = cleaned_liefertreue_2024_df.select_dtypes(include=['int64']).describe()\n",
    "\n",
    "print(\"Statistische Beschreibung der Integer-Werte:\")\n",
    "print(int_columns_description)"
   ]
  },
  {
   "cell_type": "markdown",
   "metadata": {},
   "source": [
    "### Statistische Zusammenfassung der Datumsfelder"
   ]
  },
  {
   "cell_type": "code",
   "execution_count": 11,
   "metadata": {},
   "outputs": [
    {
     "name": "stdout",
     "output_type": "stream",
     "text": [
      "    Bestelldatum Wareneingangsdatum (WE)\n",
      "min   2024-01-01              2024-01-02\n",
      "max   2024-12-14              2024-12-31\n"
     ]
    }
   ],
   "source": [
    "# Minimum und Maximum für die Datumsfelder\n",
    "date_columns = [\"Bestelldatum\", \"lieferdatum (Soll)\", \"Wareneingangsdatum (WE)\"]\n",
    "\n",
    "# Überprüfen, ob die Spalten im DataFrame vorhanden sind\n",
    "date_columns = [col for col in date_columns if col in cleaned_liefertreue_2024_df.columns]\n",
    "\n",
    "# Min und Max für die Datumsfelder berechnen\n",
    "date_min_max = cleaned_liefertreue_2024_df[date_columns].agg([\"min\", \"max\"])\n",
    "\n",
    "#print(\"Min- und Max-Werte für die Datumsfelder:\")\n",
    "print(date_min_max)"
   ]
  },
  {
   "cell_type": "markdown",
   "metadata": {},
   "source": [
    "## Data structure"
   ]
  },
  {
   "cell_type": "markdown",
   "metadata": {},
   "source": [
    "EKKO/EKPO (Bestellungen) --> EKBE (Einkaufsbelege Historie) --> LIKP (Lieferungen) --> LIPS (Lieferpositionen)\n",
    "               |                          |                           |\n",
    "               +-----> LFA1 (Lieferanten) +-----> MARA (Material) -----> MARC (Materialstandorte)\n"
   ]
  },
  {
   "cell_type": "markdown",
   "metadata": {},
   "source": [
    "### **Tabellen und Spalten** \n",
    "\n",
    "Diese Tabellenstruktur beschreibt eine SAP-basierte Datenquelle, die in der realen Welt genutzt wird. In dieser Projektarbeit wurden jedoch generierte Dummy-Datensätze verwendet, die auf dieser Logik basieren.\n",
    "\n",
    "| **Feldbezeichnung**                 | **Tabellenname** | **Technischer Spaltenname** | **Beschreibung**                                                             | **Rolle**          | **Typ**       | **Format**    |\n",
    "|:--------------------------|------------------|-----------------------------|-----------------------------------------------------------------------------|--------------------|---------------|---------------|\n",
    "| **Bestellnummer**        | EKKO/EKPO        | EBELN                       | Eindeutige Kennung jeder Bestellung                                         | ID                 | Nominal       | String        |\n",
    "| **Bestelldatum**         | EKKO             | BEDAT                       | Datum, an dem die Bestellung erstellt wurde                                | Prädiktor          | Ordinal       | Datum         |\n",
    "| **Geplantes Lieferdatum**| EKBE           | EINDT                       | Geplantes Datum der Lieferung                                              | Prädiktor          | Ordinal       | Datum         |\n",
    "| **Bestellte Menge**      | EKPO             | MENGE                       | Anzahl der bestellten Einheiten                                            | Prädiktor          | Numerisch     | Ganzzahl      |\n",
    "| **Liefernummer**         | LIKP             | VBELN                       | Eindeutige Kennung jeder Lieferung                                         | ID                 | Nominal       | String        |\n",
    "| **Lieferdatum**          | LIKP             | WADAT                       | Tatsächliches Datum der Lieferung                                          | Prädiktor          | Ordinal       | Datum         |\n",
    "| **Gelieferte Menge**     | LIPS             | LFIMG                       | Anzahl der tatsächlich gelieferten Einheiten                               | Prädiktor          | Numerisch     | Ganzzahl      |\n",
    "| **Lieferabweichung**     | Berechnet        | Berechnet                   | Differenz zwischen geplantem und tatsächlichem Lieferdatum                 | Prädiktor          | Numerisch     | Dezimal       |\n",
    "| **Mengenabweichung**     | Berechnet        | Berechnet                   | Differenz zwischen bestellter und gelieferter Menge                        | Prädiktor          | Numerisch     | Dezimal       |\n",
    "| **Termintreue**          | Berechnet        | Berechnet                   | Indikator, ob die Lieferung pünktlich, verspätet oder früh erfolgte        | Zielvariable       | Nominal       | Kategorie     |\n",
    "| **Lieferantennummer**    | LFA1             | LIFNR                       | Eindeutige Kennung des Lieferanten                                         | ID                 | Nominal       | String        |\n",
    "| **Lieferantenname**      | LFA1             | NAME1                       | Name des Lieferanten                                                       | Prädiktor          | Nominal       | String        |\n",
    "| **Land**                 | LFA1             | LAND1                       | Land des Lieferanten                                                       | Prädiktor          | Nominal       | String        |\n",
    "| **Materialnummer**       | MARA             | MATNR                       | Eindeutige Kennung des Materials                                           | ID                 | Nominal       | String        |\n",
    "| **Materialkategorie**    | MARA             | MTART                       | Typ oder Kategorie des Materials (z. B. Rohmaterial, Fertigprodukt)        | Prädiktor          | Nominal       | String        |\n",
    "| **Werk**                 | MARC             | WERKS                       | Werk oder Produktionsstandort, der mit dem Material verbunden ist          | Prädiktor          | Nominal       | String        |\n",
    "| **Belieferungsmethode**  | MARC             | CC_DELMTHD           | Methode der Lieferung (JIT, JIS, KON)               | Prädiktor          | Nominal       | Kategorie        |\n",
    "\n",
    "Die Spalten Belieferungsmethode, Werk und Bestellnummer sind aus organisatorischen Gründen in diesem Datensatz nicht enthalten."
   ]
  },
  {
   "cell_type": "markdown",
   "metadata": {},
   "source": [
    "### **Standardisierung - Werte**"
   ]
  },
  {
   "cell_type": "code",
   "execution_count": 12,
   "metadata": {},
   "outputs": [
    {
     "name": "stdout",
     "output_type": "stream",
     "text": [
      "\n",
      "Standardisierungsmaßnahmen:\n",
      "- Lieferantenbezeichnungen auf Großbuchstaben standardisiert. (Spalte: Lieferantenbezeichnung)\n",
      "- Materialbezeichnungen auf Großbuchstaben standardisiert. (Spalte: Materialbezeichnung)\n",
      "- Ländercodes auf Großbuchstaben standardisiert. (Spalte: Land)\n",
      "\n",
      "Vorschau auf die verbesserten Daten:\n"
     ]
    },
    {
     "data": {
      "text/html": [
       "<div>\n",
       "<style scoped>\n",
       "    .dataframe tbody tr th:only-of-type {\n",
       "        vertical-align: middle;\n",
       "    }\n",
       "\n",
       "    .dataframe tbody tr th {\n",
       "        vertical-align: top;\n",
       "    }\n",
       "\n",
       "    .dataframe thead th {\n",
       "        text-align: right;\n",
       "    }\n",
       "</style>\n",
       "<table border=\"1\" class=\"dataframe\">\n",
       "  <thead>\n",
       "    <tr style=\"text-align: right;\">\n",
       "      <th></th>\n",
       "      <th>Lieferscheinnummer</th>\n",
       "      <th>Lieferantennummer</th>\n",
       "      <th>Lieferantenbezeichnung</th>\n",
       "      <th>Materialnummer</th>\n",
       "      <th>Materialbezeichnung</th>\n",
       "      <th>Land</th>\n",
       "      <th>Bestelldatum</th>\n",
       "      <th>Lieferdatum (Soll)</th>\n",
       "      <th>Wareneingangsdatum (WE)</th>\n",
       "      <th>Soll-Menge</th>\n",
       "      <th>WE-Menge</th>\n",
       "    </tr>\n",
       "  </thead>\n",
       "  <tbody>\n",
       "    <tr>\n",
       "      <th>0</th>\n",
       "      <td>LS5412357</td>\n",
       "      <td>LA1031</td>\n",
       "      <td>SEW-EUR</td>\n",
       "      <td>A2341441</td>\n",
       "      <td>STEUERUNGEN</td>\n",
       "      <td>PL</td>\n",
       "      <td>2024-03-11</td>\n",
       "      <td>2024-04-09</td>\n",
       "      <td>2024-04-09</td>\n",
       "      <td>110</td>\n",
       "      <td>104</td>\n",
       "    </tr>\n",
       "    <tr>\n",
       "      <th>1</th>\n",
       "      <td>LS9371283</td>\n",
       "      <td>LA1015</td>\n",
       "      <td>WIELAND-WERK</td>\n",
       "      <td>A1842836</td>\n",
       "      <td>KUPFERLEGIERUNGEN</td>\n",
       "      <td>DE</td>\n",
       "      <td>2024-07-15</td>\n",
       "      <td>2024-08-08</td>\n",
       "      <td>2024-08-11</td>\n",
       "      <td>198</td>\n",
       "      <td>210</td>\n",
       "    </tr>\n",
       "    <tr>\n",
       "      <th>2</th>\n",
       "      <td>LS6013338</td>\n",
       "      <td>LA1014</td>\n",
       "      <td>LEONI AG</td>\n",
       "      <td>A1624957</td>\n",
       "      <td>KABEL</td>\n",
       "      <td>CH</td>\n",
       "      <td>2024-03-19</td>\n",
       "      <td>2024-03-26</td>\n",
       "      <td>2024-03-26</td>\n",
       "      <td>94</td>\n",
       "      <td>88</td>\n",
       "    </tr>\n",
       "    <tr>\n",
       "      <th>3</th>\n",
       "      <td>LS7058941</td>\n",
       "      <td>LA1018</td>\n",
       "      <td>SEW-EURODRIV</td>\n",
       "      <td>A8657694</td>\n",
       "      <td>GETRIEBEMOTOREN</td>\n",
       "      <td>DE</td>\n",
       "      <td>2024-08-12</td>\n",
       "      <td>2024-08-26</td>\n",
       "      <td>2024-08-31</td>\n",
       "      <td>250</td>\n",
       "      <td>237</td>\n",
       "    </tr>\n",
       "    <tr>\n",
       "      <th>4</th>\n",
       "      <td>LS2038973</td>\n",
       "      <td>LA1025</td>\n",
       "      <td>THYSSENKRUPP</td>\n",
       "      <td>A1864991</td>\n",
       "      <td>LENKSYSTEME</td>\n",
       "      <td>DE</td>\n",
       "      <td>2024-11-30</td>\n",
       "      <td>2024-12-21</td>\n",
       "      <td>2024-12-21</td>\n",
       "      <td>227</td>\n",
       "      <td>230</td>\n",
       "    </tr>\n",
       "  </tbody>\n",
       "</table>\n",
       "</div>"
      ],
      "text/plain": [
       "  Lieferscheinnummer Lieferantennummer Lieferantenbezeichnung Materialnummer  \\\n",
       "0          LS5412357            LA1031                SEW-EUR       A2341441   \n",
       "1          LS9371283            LA1015           WIELAND-WERK       A1842836   \n",
       "2          LS6013338            LA1014               LEONI AG       A1624957   \n",
       "3          LS7058941            LA1018           SEW-EURODRIV       A8657694   \n",
       "4          LS2038973            LA1025           THYSSENKRUPP       A1864991   \n",
       "\n",
       "  Materialbezeichnung Land Bestelldatum Lieferdatum (Soll)  \\\n",
       "0         STEUERUNGEN   PL   2024-03-11         2024-04-09   \n",
       "1   KUPFERLEGIERUNGEN   DE   2024-07-15         2024-08-08   \n",
       "2               KABEL   CH   2024-03-19         2024-03-26   \n",
       "3     GETRIEBEMOTOREN   DE   2024-08-12         2024-08-26   \n",
       "4         LENKSYSTEME   DE   2024-11-30         2024-12-21   \n",
       "\n",
       "  Wareneingangsdatum (WE)  Soll-Menge  WE-Menge  \n",
       "0              2024-04-09         110       104  \n",
       "1              2024-08-11         198       210  \n",
       "2              2024-03-26          94        88  \n",
       "3              2024-08-31         250       237  \n",
       "4              2024-12-21         227       230  "
      ]
     },
     "execution_count": 12,
     "metadata": {},
     "output_type": "execute_result"
    }
   ],
   "source": [
    "# Standardisierung Bezeichnungen und LAND und Spaltenname ohne Leerzeichen\n",
    "\n",
    "print(\"\\nStandardisierungsmaßnahmen:\")\n",
    "standardizations = {\n",
    "    \"Lieferantenbezeichnung\": \"Lieferantenbezeichnungen auf Großbuchstaben standardisiert.\",\n",
    "    \"Materialbezeichnung\": \"Materialbezeichnungen auf Großbuchstaben standardisiert.\",\n",
    "    \"Land\": \"Ländercodes auf Großbuchstaben standardisiert.\"\n",
    "}\n",
    "\n",
    "# Anwenden der Standardisierung\n",
    "cleaned_liefertreue_2024_df[\"Lieferantenbezeichnung\"] = cleaned_liefertreue_2024_df[\"Lieferantenbezeichnung\"].str.upper()\n",
    "cleaned_liefertreue_2024_df[\"Materialbezeichnung\"] = cleaned_liefertreue_2024_df[\"Materialbezeichnung\"].str.upper()\n",
    "cleaned_liefertreue_2024_df[\"Land\"] = cleaned_liefertreue_2024_df[\"Land\"].str.upper()\n",
    "\n",
    "# Liste der Standardisierungen ausgeben\n",
    "for column, description in standardizations.items():\n",
    "    print(f\"- {description} (Spalte: {column})\")\n",
    "\n",
    "# Vorschau auf die verbesserten Daten\n",
    "print(\"\\nVorschau auf die verbesserten Daten:\")\n",
    "cleaned_liefertreue_2024_df.head()\n",
    "\n",
    "#cleaned_liefertreue_2024_df = cleaned_liefertreue_2024_df.copy()\n"
   ]
  },
  {
   "cell_type": "markdown",
   "metadata": {},
   "source": [
    "### **Standardisierung - Spaltenname**"
   ]
  },
  {
   "cell_type": "code",
   "execution_count": 13,
   "metadata": {},
   "outputs": [
    {
     "name": "stdout",
     "output_type": "stream",
     "text": [
      "Bereinigte Spaltennamen (Kleingeschrieben, ohne Klammer, Leerzeichen und Minus-Zeichen):\n",
      "['lieferscheinnummer', 'lieferantennummer', 'lieferantenbezeichnung', 'materialnummer', 'materialbezeichnung', 'land', 'bestelldatum', 'lieferdatum_soll', 'wareneingangsdatum_we', 'soll_menge', 'we_menge']\n"
     ]
    }
   ],
   "source": [
    "# Entferne doppelte Unterstriche nach der Ersetzung\n",
    "cleaned_liefertreue_2024_df.columns = (\n",
    "    cleaned_liefertreue_2024_df.columns\n",
    "    .str.replace(\" \", \"_\", regex=False)         # Leerzeichen durch \"_\"\n",
    "    .str.replace(r\"\\(|\\)\", \"\", regex=True)\n",
    "    .str.replace(\"-\", \"_\", regex=True)   \n",
    "    .str.lower()                                # Konvertiere in Kleinschreibung\n",
    ")\n",
    "\n",
    "# Überprüfung der aktualisierten Spaltennamen\n",
    "print(\"Bereinigte Spaltennamen (Kleingeschrieben, ohne Klammer, Leerzeichen und Minus-Zeichen):\")\n",
    "print(cleaned_liefertreue_2024_df.columns.tolist())"
   ]
  },
  {
   "cell_type": "code",
   "execution_count": 14,
   "metadata": {},
   "outputs": [
    {
     "data": {
      "text/html": [
       "<div>\n",
       "<style scoped>\n",
       "    .dataframe tbody tr th:only-of-type {\n",
       "        vertical-align: middle;\n",
       "    }\n",
       "\n",
       "    .dataframe tbody tr th {\n",
       "        vertical-align: top;\n",
       "    }\n",
       "\n",
       "    .dataframe thead th {\n",
       "        text-align: right;\n",
       "    }\n",
       "</style>\n",
       "<table border=\"1\" class=\"dataframe\">\n",
       "  <thead>\n",
       "    <tr style=\"text-align: right;\">\n",
       "      <th></th>\n",
       "      <th>lieferscheinnummer</th>\n",
       "      <th>lieferantennummer</th>\n",
       "      <th>lieferantenbezeichnung</th>\n",
       "      <th>materialnummer</th>\n",
       "      <th>materialbezeichnung</th>\n",
       "      <th>land</th>\n",
       "      <th>bestelldatum</th>\n",
       "      <th>lieferdatum_soll</th>\n",
       "      <th>wareneingangsdatum_we</th>\n",
       "      <th>soll_menge</th>\n",
       "      <th>we_menge</th>\n",
       "    </tr>\n",
       "  </thead>\n",
       "  <tbody>\n",
       "    <tr>\n",
       "      <th>0</th>\n",
       "      <td>LS5412357</td>\n",
       "      <td>LA1031</td>\n",
       "      <td>SEW-EUR</td>\n",
       "      <td>A2341441</td>\n",
       "      <td>STEUERUNGEN</td>\n",
       "      <td>PL</td>\n",
       "      <td>2024-03-11</td>\n",
       "      <td>2024-04-09</td>\n",
       "      <td>2024-04-09</td>\n",
       "      <td>110</td>\n",
       "      <td>104</td>\n",
       "    </tr>\n",
       "    <tr>\n",
       "      <th>1</th>\n",
       "      <td>LS9371283</td>\n",
       "      <td>LA1015</td>\n",
       "      <td>WIELAND-WERK</td>\n",
       "      <td>A1842836</td>\n",
       "      <td>KUPFERLEGIERUNGEN</td>\n",
       "      <td>DE</td>\n",
       "      <td>2024-07-15</td>\n",
       "      <td>2024-08-08</td>\n",
       "      <td>2024-08-11</td>\n",
       "      <td>198</td>\n",
       "      <td>210</td>\n",
       "    </tr>\n",
       "    <tr>\n",
       "      <th>2</th>\n",
       "      <td>LS6013338</td>\n",
       "      <td>LA1014</td>\n",
       "      <td>LEONI AG</td>\n",
       "      <td>A1624957</td>\n",
       "      <td>KABEL</td>\n",
       "      <td>CH</td>\n",
       "      <td>2024-03-19</td>\n",
       "      <td>2024-03-26</td>\n",
       "      <td>2024-03-26</td>\n",
       "      <td>94</td>\n",
       "      <td>88</td>\n",
       "    </tr>\n",
       "    <tr>\n",
       "      <th>3</th>\n",
       "      <td>LS7058941</td>\n",
       "      <td>LA1018</td>\n",
       "      <td>SEW-EURODRIV</td>\n",
       "      <td>A8657694</td>\n",
       "      <td>GETRIEBEMOTOREN</td>\n",
       "      <td>DE</td>\n",
       "      <td>2024-08-12</td>\n",
       "      <td>2024-08-26</td>\n",
       "      <td>2024-08-31</td>\n",
       "      <td>250</td>\n",
       "      <td>237</td>\n",
       "    </tr>\n",
       "    <tr>\n",
       "      <th>4</th>\n",
       "      <td>LS2038973</td>\n",
       "      <td>LA1025</td>\n",
       "      <td>THYSSENKRUPP</td>\n",
       "      <td>A1864991</td>\n",
       "      <td>LENKSYSTEME</td>\n",
       "      <td>DE</td>\n",
       "      <td>2024-11-30</td>\n",
       "      <td>2024-12-21</td>\n",
       "      <td>2024-12-21</td>\n",
       "      <td>227</td>\n",
       "      <td>230</td>\n",
       "    </tr>\n",
       "  </tbody>\n",
       "</table>\n",
       "</div>"
      ],
      "text/plain": [
       "  lieferscheinnummer lieferantennummer lieferantenbezeichnung materialnummer  \\\n",
       "0          LS5412357            LA1031                SEW-EUR       A2341441   \n",
       "1          LS9371283            LA1015           WIELAND-WERK       A1842836   \n",
       "2          LS6013338            LA1014               LEONI AG       A1624957   \n",
       "3          LS7058941            LA1018           SEW-EURODRIV       A8657694   \n",
       "4          LS2038973            LA1025           THYSSENKRUPP       A1864991   \n",
       "\n",
       "  materialbezeichnung land bestelldatum lieferdatum_soll  \\\n",
       "0         STEUERUNGEN   PL   2024-03-11       2024-04-09   \n",
       "1   KUPFERLEGIERUNGEN   DE   2024-07-15       2024-08-08   \n",
       "2               KABEL   CH   2024-03-19       2024-03-26   \n",
       "3     GETRIEBEMOTOREN   DE   2024-08-12       2024-08-26   \n",
       "4         LENKSYSTEME   DE   2024-11-30       2024-12-21   \n",
       "\n",
       "  wareneingangsdatum_we  soll_menge  we_menge  \n",
       "0            2024-04-09         110       104  \n",
       "1            2024-08-11         198       210  \n",
       "2            2024-03-26          94        88  \n",
       "3            2024-08-31         250       237  \n",
       "4            2024-12-21         227       230  "
      ]
     },
     "execution_count": 14,
     "metadata": {},
     "output_type": "execute_result"
    }
   ],
   "source": [
    "cleaned_liefertreue_2024_df.head()"
   ]
  },
  {
   "cell_type": "code",
   "execution_count": 15,
   "metadata": {},
   "outputs": [
    {
     "name": "stdout",
     "output_type": "stream",
     "text": [
      "Die Datenanomalien wurden gespeichert unter: ../data/processed/anomalien_dataset_liefertreue_2024.xlsx\n",
      "\n",
      "Die bereinigten Daten wurden gespeichert unter: ../data/processed/bereinigte_dataset_leifertreue_2024.xlsx\n",
      "\n",
      "Anzahl Zeilen: 28924, Anzahl Spalten: 11\n",
      "\n"
     ]
    }
   ],
   "source": [
    "# Anomalien speichern\n",
    "output_path = \"../data/processed/anomalien_dataset_liefertreue_2024.xlsx\"\n",
    "anomalies_df.to_excel(output_path, index=False)\n",
    "print(f\"Die Datenanomalien wurden gespeichert unter: {output_path}\\n\")\n",
    "\n",
    "# Speichere den bereinigten Datensatz\n",
    "output_path = \"../data/processed/bereinigte_dataset_leifertreue_2024.xlsx\"\n",
    "cleaned_liefertreue_2024_df.to_excel(output_path, index=False)\n",
    "print(f\"Die bereinigten Daten wurden gespeichert unter: {output_path}\\n\")\n",
    "\n",
    "# Anzahl der Zeilen und Spalten anzeigen\n",
    "shape = cleaned_liefertreue_2024_df.shape\n",
    "print(f\"Anzahl Zeilen: {shape[0]}, Anzahl Spalten: {shape[1]}\\n\")"
   ]
  },
  {
   "cell_type": "markdown",
   "metadata": {},
   "source": [
    "### Variable/Kennzahlen Liste"
   ]
  },
  {
   "cell_type": "markdown",
   "metadata": {},
   "source": [
    "**Tabellarische Übersicht: Kennzahlen im Datensatz**\n",
    "\n",
    "| **Variable Name**          | **Type**          | **Description**                                                        | **Role**              | **Format**      |\n",
    "|-----------------------------|-------------------|------------------------------------------------------------------------|-----------------------|-----------------|\n",
    "| **liefertreue**             | Float             | Anteil pünktlicher Lieferungen (in %)                                   | Zielvariable          | Dezimalzahl     |\n",
    "| **otd_rate**                | Float             | On-Time Delivery: Anteil der pünktlich gelieferten Bestellungen         | Kennzahl/Prädiktor    | Dezimalzahl     |\n",
    "| **otif_rate**               | Float             | On-Time In-Full: Anteil der pünktlich und vollständig gelieferten Bestellungen | Kennzahl/Prädiktor    | Dezimalzahl     |\n",
    "| **mengenabweichung**        | Float             | Differenz zwischen der Soll- und Ist-Menge pro Bestellung (in %)         | Kennzahl/Prädiktor    | Dezimalzahl     |\n",
    "| **jahreszeit**              | String/Kategorie  | Jahreszeit des geplanten Lieferdatums (Winter, Sommer, Frühling, Herbst)| Abgeleitet/Prädiktor  | Kategorie       |\n",
    "| **verspätungstage**         | Integer           | Anzahl der Tage zwischen dem geplanten und dem tatsächlichen Lieferdatum| Kennzahl/Prädiktor    | Ganzzahl        |\n",
    "\n",
    "**Zusammenfassung**\n",
    "Diese Übersicht bietet eine klare Darstellung der relevanten Kennzahlen im Datensatz:\n",
    "1. **Liefertreue**, **OTD-Rate**, und **OTIF-Rate** bewerten die Termintreue und Qualität der Lieferungen.\n",
    "2. **Mengenabweichung** untersucht Probleme bei Über- oder Unterlieferungen.\n",
    "3. **Jahreszeit** ermöglicht die Analyse saisonaler Muster.\n",
    "4. **Verspätungstage** quantifizieren Verzögerungen und identifizieren kritische Lieferanten.\n",
    "\n",
    "Diese Kennzahlen bilden die Grundlage für die Analyse der Lieferperformance."
   ]
  },
  {
   "cell_type": "markdown",
   "metadata": {},
   "source": [
    "#### Verspätungstage\n",
    "- **Definition:** Anzahl der Tage, um die das tatsächliche Lieferdatum vom geplanten Lieferdatum abweicht.\n",
    "- **Berechnung:**\n",
    "  `Verspätungstage = Wareneingangsdatum - Lieferdatum (Soll)`\n",
    "- **Bedeutung:** Quantifiziert die Verzögerung bei Lieferungen.\n",
    "\n",
    "#### Liefertreue und Termintreue\n",
    "- **Definition:** Der prozentuale Anteil der Lieferungen, die pünktlich erfolgten.\n",
    "- **Berechnung:**\n",
    "  `Liefertreue = (Anzahl der pünktlichen Lieferungen / Gesamtanzahl der Lieferungen) * 100`\n",
    "- **Bedeutung:** Zeigt, wie zuverlässig die Lieferanten die geplanten Liefertermine eingehalten haben.\n"
   ]
  },
  {
   "cell_type": "code",
   "execution_count": 16,
   "metadata": {},
   "outputs": [
    {
     "data": {
      "text/html": [
       "<div>\n",
       "<style scoped>\n",
       "    .dataframe tbody tr th:only-of-type {\n",
       "        vertical-align: middle;\n",
       "    }\n",
       "\n",
       "    .dataframe tbody tr th {\n",
       "        vertical-align: top;\n",
       "    }\n",
       "\n",
       "    .dataframe thead th {\n",
       "        text-align: right;\n",
       "    }\n",
       "</style>\n",
       "<table border=\"1\" class=\"dataframe\">\n",
       "  <thead>\n",
       "    <tr style=\"text-align: right;\">\n",
       "      <th></th>\n",
       "      <th>lieferscheinnummer</th>\n",
       "      <th>lieferantennummer</th>\n",
       "      <th>lieferantenbezeichnung</th>\n",
       "      <th>materialnummer</th>\n",
       "      <th>materialbezeichnung</th>\n",
       "      <th>land</th>\n",
       "      <th>bestelldatum</th>\n",
       "      <th>lieferdatum_soll</th>\n",
       "      <th>wareneingangsdatum_we</th>\n",
       "      <th>soll_menge</th>\n",
       "      <th>we_menge</th>\n",
       "    </tr>\n",
       "  </thead>\n",
       "  <tbody>\n",
       "    <tr>\n",
       "      <th>0</th>\n",
       "      <td>LS5412357</td>\n",
       "      <td>LA1031</td>\n",
       "      <td>SEW-EUR</td>\n",
       "      <td>A2341441</td>\n",
       "      <td>STEUERUNGEN</td>\n",
       "      <td>PL</td>\n",
       "      <td>2024-03-11</td>\n",
       "      <td>2024-04-09</td>\n",
       "      <td>2024-04-09</td>\n",
       "      <td>110</td>\n",
       "      <td>104</td>\n",
       "    </tr>\n",
       "    <tr>\n",
       "      <th>1</th>\n",
       "      <td>LS9371283</td>\n",
       "      <td>LA1015</td>\n",
       "      <td>WIELAND-WERK</td>\n",
       "      <td>A1842836</td>\n",
       "      <td>KUPFERLEGIERUNGEN</td>\n",
       "      <td>DE</td>\n",
       "      <td>2024-07-15</td>\n",
       "      <td>2024-08-08</td>\n",
       "      <td>2024-08-11</td>\n",
       "      <td>198</td>\n",
       "      <td>210</td>\n",
       "    </tr>\n",
       "    <tr>\n",
       "      <th>2</th>\n",
       "      <td>LS6013338</td>\n",
       "      <td>LA1014</td>\n",
       "      <td>LEONI AG</td>\n",
       "      <td>A1624957</td>\n",
       "      <td>KABEL</td>\n",
       "      <td>CH</td>\n",
       "      <td>2024-03-19</td>\n",
       "      <td>2024-03-26</td>\n",
       "      <td>2024-03-26</td>\n",
       "      <td>94</td>\n",
       "      <td>88</td>\n",
       "    </tr>\n",
       "    <tr>\n",
       "      <th>3</th>\n",
       "      <td>LS7058941</td>\n",
       "      <td>LA1018</td>\n",
       "      <td>SEW-EURODRIV</td>\n",
       "      <td>A8657694</td>\n",
       "      <td>GETRIEBEMOTOREN</td>\n",
       "      <td>DE</td>\n",
       "      <td>2024-08-12</td>\n",
       "      <td>2024-08-26</td>\n",
       "      <td>2024-08-31</td>\n",
       "      <td>250</td>\n",
       "      <td>237</td>\n",
       "    </tr>\n",
       "    <tr>\n",
       "      <th>4</th>\n",
       "      <td>LS2038973</td>\n",
       "      <td>LA1025</td>\n",
       "      <td>THYSSENKRUPP</td>\n",
       "      <td>A1864991</td>\n",
       "      <td>LENKSYSTEME</td>\n",
       "      <td>DE</td>\n",
       "      <td>2024-11-30</td>\n",
       "      <td>2024-12-21</td>\n",
       "      <td>2024-12-21</td>\n",
       "      <td>227</td>\n",
       "      <td>230</td>\n",
       "    </tr>\n",
       "    <tr>\n",
       "      <th>...</th>\n",
       "      <td>...</td>\n",
       "      <td>...</td>\n",
       "      <td>...</td>\n",
       "      <td>...</td>\n",
       "      <td>...</td>\n",
       "      <td>...</td>\n",
       "      <td>...</td>\n",
       "      <td>...</td>\n",
       "      <td>...</td>\n",
       "      <td>...</td>\n",
       "      <td>...</td>\n",
       "    </tr>\n",
       "    <tr>\n",
       "      <th>29995</th>\n",
       "      <td>LS1146480</td>\n",
       "      <td>LA1027</td>\n",
       "      <td>ZF FRIEDRICH</td>\n",
       "      <td>A4588446</td>\n",
       "      <td>FAHRWERK</td>\n",
       "      <td>FR</td>\n",
       "      <td>2024-10-09</td>\n",
       "      <td>2024-10-28</td>\n",
       "      <td>2024-10-28</td>\n",
       "      <td>389</td>\n",
       "      <td>412</td>\n",
       "    </tr>\n",
       "    <tr>\n",
       "      <th>29996</th>\n",
       "      <td>LS9135955</td>\n",
       "      <td>LA1015</td>\n",
       "      <td>WIELAND-WERK</td>\n",
       "      <td>A1842836</td>\n",
       "      <td>KUPFERLEGIERUNGEN</td>\n",
       "      <td>DE</td>\n",
       "      <td>2024-03-22</td>\n",
       "      <td>2024-04-02</td>\n",
       "      <td>2024-04-02</td>\n",
       "      <td>214</td>\n",
       "      <td>213</td>\n",
       "    </tr>\n",
       "    <tr>\n",
       "      <th>29997</th>\n",
       "      <td>LS3895714</td>\n",
       "      <td>LA1014</td>\n",
       "      <td>LEONI AG</td>\n",
       "      <td>A1624957</td>\n",
       "      <td>KABEL</td>\n",
       "      <td>CH</td>\n",
       "      <td>2024-08-20</td>\n",
       "      <td>2024-08-26</td>\n",
       "      <td>2024-08-26</td>\n",
       "      <td>405</td>\n",
       "      <td>370</td>\n",
       "    </tr>\n",
       "    <tr>\n",
       "      <th>29998</th>\n",
       "      <td>LS2800736</td>\n",
       "      <td>LA1014</td>\n",
       "      <td>LEONI AG</td>\n",
       "      <td>A1624957</td>\n",
       "      <td>KABEL</td>\n",
       "      <td>CH</td>\n",
       "      <td>2024-02-01</td>\n",
       "      <td>2024-02-27</td>\n",
       "      <td>2024-02-27</td>\n",
       "      <td>499</td>\n",
       "      <td>526</td>\n",
       "    </tr>\n",
       "    <tr>\n",
       "      <th>29999</th>\n",
       "      <td>LS4406344</td>\n",
       "      <td>LA1014</td>\n",
       "      <td>LEONI AG</td>\n",
       "      <td>A1624957</td>\n",
       "      <td>KABEL</td>\n",
       "      <td>CH</td>\n",
       "      <td>2024-05-07</td>\n",
       "      <td>2024-05-28</td>\n",
       "      <td>2024-05-28</td>\n",
       "      <td>220</td>\n",
       "      <td>226</td>\n",
       "    </tr>\n",
       "  </tbody>\n",
       "</table>\n",
       "<p>28924 rows × 11 columns</p>\n",
       "</div>"
      ],
      "text/plain": [
       "      lieferscheinnummer lieferantennummer lieferantenbezeichnung  \\\n",
       "0              LS5412357            LA1031                SEW-EUR   \n",
       "1              LS9371283            LA1015           WIELAND-WERK   \n",
       "2              LS6013338            LA1014               LEONI AG   \n",
       "3              LS7058941            LA1018           SEW-EURODRIV   \n",
       "4              LS2038973            LA1025           THYSSENKRUPP   \n",
       "...                  ...               ...                    ...   \n",
       "29995          LS1146480            LA1027           ZF FRIEDRICH   \n",
       "29996          LS9135955            LA1015           WIELAND-WERK   \n",
       "29997          LS3895714            LA1014               LEONI AG   \n",
       "29998          LS2800736            LA1014               LEONI AG   \n",
       "29999          LS4406344            LA1014               LEONI AG   \n",
       "\n",
       "      materialnummer materialbezeichnung land bestelldatum lieferdatum_soll  \\\n",
       "0           A2341441         STEUERUNGEN   PL   2024-03-11       2024-04-09   \n",
       "1           A1842836   KUPFERLEGIERUNGEN   DE   2024-07-15       2024-08-08   \n",
       "2           A1624957               KABEL   CH   2024-03-19       2024-03-26   \n",
       "3           A8657694     GETRIEBEMOTOREN   DE   2024-08-12       2024-08-26   \n",
       "4           A1864991         LENKSYSTEME   DE   2024-11-30       2024-12-21   \n",
       "...              ...                 ...  ...          ...              ...   \n",
       "29995       A4588446            FAHRWERK   FR   2024-10-09       2024-10-28   \n",
       "29996       A1842836   KUPFERLEGIERUNGEN   DE   2024-03-22       2024-04-02   \n",
       "29997       A1624957               KABEL   CH   2024-08-20       2024-08-26   \n",
       "29998       A1624957               KABEL   CH   2024-02-01       2024-02-27   \n",
       "29999       A1624957               KABEL   CH   2024-05-07       2024-05-28   \n",
       "\n",
       "      wareneingangsdatum_we  soll_menge  we_menge  \n",
       "0                2024-04-09         110       104  \n",
       "1                2024-08-11         198       210  \n",
       "2                2024-03-26          94        88  \n",
       "3                2024-08-31         250       237  \n",
       "4                2024-12-21         227       230  \n",
       "...                     ...         ...       ...  \n",
       "29995            2024-10-28         389       412  \n",
       "29996            2024-04-02         214       213  \n",
       "29997            2024-08-26         405       370  \n",
       "29998            2024-02-27         499       526  \n",
       "29999            2024-05-28         220       226  \n",
       "\n",
       "[28924 rows x 11 columns]"
      ]
     },
     "execution_count": 16,
     "metadata": {},
     "output_type": "execute_result"
    }
   ],
   "source": [
    "cleaned_liefertreue_2024_df"
   ]
  },
  {
   "cell_type": "code",
   "execution_count": 17,
   "metadata": {},
   "outputs": [
    {
     "data": {
      "text/html": [
       "<div>\n",
       "<style scoped>\n",
       "    .dataframe tbody tr th:only-of-type {\n",
       "        vertical-align: middle;\n",
       "    }\n",
       "\n",
       "    .dataframe tbody tr th {\n",
       "        vertical-align: top;\n",
       "    }\n",
       "\n",
       "    .dataframe thead th {\n",
       "        text-align: right;\n",
       "    }\n",
       "</style>\n",
       "<table border=\"1\" class=\"dataframe\">\n",
       "  <thead>\n",
       "    <tr style=\"text-align: right;\">\n",
       "      <th></th>\n",
       "      <th>lieferscheinnummer</th>\n",
       "      <th>lieferantennummer</th>\n",
       "      <th>lieferantenbezeichnung</th>\n",
       "      <th>materialnummer</th>\n",
       "      <th>materialbezeichnung</th>\n",
       "      <th>land</th>\n",
       "      <th>bestelldatum</th>\n",
       "      <th>lieferdatum_soll</th>\n",
       "      <th>wareneingangsdatum_we</th>\n",
       "      <th>soll_menge</th>\n",
       "      <th>we_menge</th>\n",
       "      <th>verspätungstage</th>\n",
       "      <th>liefertreue</th>\n",
       "      <th>termintreue</th>\n",
       "    </tr>\n",
       "  </thead>\n",
       "  <tbody>\n",
       "    <tr>\n",
       "      <th>0</th>\n",
       "      <td>LS5412357</td>\n",
       "      <td>LA1031</td>\n",
       "      <td>SEW-EUR</td>\n",
       "      <td>A2341441</td>\n",
       "      <td>STEUERUNGEN</td>\n",
       "      <td>PL</td>\n",
       "      <td>2024-03-11</td>\n",
       "      <td>2024-04-09</td>\n",
       "      <td>2024-04-09</td>\n",
       "      <td>110</td>\n",
       "      <td>104</td>\n",
       "      <td>0</td>\n",
       "      <td>Ja</td>\n",
       "      <td>pünktlich</td>\n",
       "    </tr>\n",
       "    <tr>\n",
       "      <th>1</th>\n",
       "      <td>LS9371283</td>\n",
       "      <td>LA1015</td>\n",
       "      <td>WIELAND-WERK</td>\n",
       "      <td>A1842836</td>\n",
       "      <td>KUPFERLEGIERUNGEN</td>\n",
       "      <td>DE</td>\n",
       "      <td>2024-07-15</td>\n",
       "      <td>2024-08-08</td>\n",
       "      <td>2024-08-11</td>\n",
       "      <td>198</td>\n",
       "      <td>210</td>\n",
       "      <td>3</td>\n",
       "      <td>Nein</td>\n",
       "      <td>verspätet</td>\n",
       "    </tr>\n",
       "    <tr>\n",
       "      <th>2</th>\n",
       "      <td>LS6013338</td>\n",
       "      <td>LA1014</td>\n",
       "      <td>LEONI AG</td>\n",
       "      <td>A1624957</td>\n",
       "      <td>KABEL</td>\n",
       "      <td>CH</td>\n",
       "      <td>2024-03-19</td>\n",
       "      <td>2024-03-26</td>\n",
       "      <td>2024-03-26</td>\n",
       "      <td>94</td>\n",
       "      <td>88</td>\n",
       "      <td>0</td>\n",
       "      <td>Ja</td>\n",
       "      <td>pünktlich</td>\n",
       "    </tr>\n",
       "    <tr>\n",
       "      <th>3</th>\n",
       "      <td>LS7058941</td>\n",
       "      <td>LA1018</td>\n",
       "      <td>SEW-EURODRIV</td>\n",
       "      <td>A8657694</td>\n",
       "      <td>GETRIEBEMOTOREN</td>\n",
       "      <td>DE</td>\n",
       "      <td>2024-08-12</td>\n",
       "      <td>2024-08-26</td>\n",
       "      <td>2024-08-31</td>\n",
       "      <td>250</td>\n",
       "      <td>237</td>\n",
       "      <td>5</td>\n",
       "      <td>Nein</td>\n",
       "      <td>verspätet</td>\n",
       "    </tr>\n",
       "    <tr>\n",
       "      <th>4</th>\n",
       "      <td>LS2038973</td>\n",
       "      <td>LA1025</td>\n",
       "      <td>THYSSENKRUPP</td>\n",
       "      <td>A1864991</td>\n",
       "      <td>LENKSYSTEME</td>\n",
       "      <td>DE</td>\n",
       "      <td>2024-11-30</td>\n",
       "      <td>2024-12-21</td>\n",
       "      <td>2024-12-21</td>\n",
       "      <td>227</td>\n",
       "      <td>230</td>\n",
       "      <td>0</td>\n",
       "      <td>Ja</td>\n",
       "      <td>pünktlich</td>\n",
       "    </tr>\n",
       "  </tbody>\n",
       "</table>\n",
       "</div>"
      ],
      "text/plain": [
       "  lieferscheinnummer lieferantennummer lieferantenbezeichnung materialnummer  \\\n",
       "0          LS5412357            LA1031                SEW-EUR       A2341441   \n",
       "1          LS9371283            LA1015           WIELAND-WERK       A1842836   \n",
       "2          LS6013338            LA1014               LEONI AG       A1624957   \n",
       "3          LS7058941            LA1018           SEW-EURODRIV       A8657694   \n",
       "4          LS2038973            LA1025           THYSSENKRUPP       A1864991   \n",
       "\n",
       "  materialbezeichnung land bestelldatum lieferdatum_soll  \\\n",
       "0         STEUERUNGEN   PL   2024-03-11       2024-04-09   \n",
       "1   KUPFERLEGIERUNGEN   DE   2024-07-15       2024-08-08   \n",
       "2               KABEL   CH   2024-03-19       2024-03-26   \n",
       "3     GETRIEBEMOTOREN   DE   2024-08-12       2024-08-26   \n",
       "4         LENKSYSTEME   DE   2024-11-30       2024-12-21   \n",
       "\n",
       "  wareneingangsdatum_we  soll_menge  we_menge  verspätungstage liefertreue  \\\n",
       "0            2024-04-09         110       104                0          Ja   \n",
       "1            2024-08-11         198       210                3        Nein   \n",
       "2            2024-03-26          94        88                0          Ja   \n",
       "3            2024-08-31         250       237                5        Nein   \n",
       "4            2024-12-21         227       230                0          Ja   \n",
       "\n",
       "  termintreue  \n",
       "0   pünktlich  \n",
       "1   verspätet  \n",
       "2   pünktlich  \n",
       "3   verspätet  \n",
       "4   pünktlich  "
      ]
     },
     "execution_count": 17,
     "metadata": {},
     "output_type": "execute_result"
    }
   ],
   "source": [
    "# Verspätungen\n",
    "# Konvertiere die Spalten in datetime und setze ungültige Werte auf NaT\n",
    "cleaned_liefertreue_2024_df[\"lieferdatum_soll\"] = pd.to_datetime(\n",
    "    cleaned_liefertreue_2024_df[\"lieferdatum_soll\"], errors=\"coerce\"\n",
    ")\n",
    "cleaned_liefertreue_2024_df[\"wareneingangsdatum_we\"] = pd.to_datetime(\n",
    "    cleaned_liefertreue_2024_df[\"wareneingangsdatum_we\"], errors=\"coerce\"\n",
    ")\n",
    "\n",
    "# Berechnung der Verspätungstage\n",
    "cleaned_liefertreue_2024_df[\"verspätungstage\"] = (\n",
    "    cleaned_liefertreue_2024_df[\"wareneingangsdatum_we\"] - cleaned_liefertreue_2024_df[\"lieferdatum_soll\"]\n",
    ").dt.days\n",
    "\n",
    "# Berechnung der Liefertreue (Ja/Nein)\n",
    "cleaned_liefertreue_2024_df[\"liefertreue\"] = cleaned_liefertreue_2024_df[\"verspätungstage\"].apply(\n",
    "    lambda x: \"Ja\" if x <= 0 else \"Nein\"\n",
    ")\n",
    "\n",
    "# Berechnung der Termintreue (pünktlich, früh, verspätet)\n",
    "def calculate_termintreue(row):\n",
    "    if row[\"wareneingangsdatum_we\"] == row[\"lieferdatum_soll\"]:\n",
    "        return \"pünktlich\"\n",
    "    elif row[\"wareneingangsdatum_we\"] < row[\"lieferdatum_soll\"]:\n",
    "        return \"früh\"\n",
    "    else:\n",
    "        return \"verspätet\"\n",
    "\n",
    "cleaned_liefertreue_2024_df[\"termintreue\"] = cleaned_liefertreue_2024_df.apply(calculate_termintreue, axis=1)\n",
    "\n",
    "cleaned_liefertreue_2024_df.head()"
   ]
  },
  {
   "cell_type": "markdown",
   "metadata": {},
   "source": [
    "#### Mengenabweichung\n",
    "- **Definition:** Prozentsatz der Abweichung zwischen der Soll-Menge und der Ist-Menge einer Lieferung.\n",
    "- **Berechnung:**\n",
    "  `Mengenabweichung (%) = ((Soll-Menge - Ist-Menge) / Soll-Menge) * 100`\n",
    "- **Bedeutung:** Identifiziert Lieferprobleme durch Über- oder Unterlieferungen."
   ]
  },
  {
   "cell_type": "code",
   "execution_count": 18,
   "metadata": {},
   "outputs": [
    {
     "data": {
      "text/html": [
       "<div>\n",
       "<style scoped>\n",
       "    .dataframe tbody tr th:only-of-type {\n",
       "        vertical-align: middle;\n",
       "    }\n",
       "\n",
       "    .dataframe tbody tr th {\n",
       "        vertical-align: top;\n",
       "    }\n",
       "\n",
       "    .dataframe thead th {\n",
       "        text-align: right;\n",
       "    }\n",
       "</style>\n",
       "<table border=\"1\" class=\"dataframe\">\n",
       "  <thead>\n",
       "    <tr style=\"text-align: right;\">\n",
       "      <th></th>\n",
       "      <th>lieferscheinnummer</th>\n",
       "      <th>lieferantennummer</th>\n",
       "      <th>lieferantenbezeichnung</th>\n",
       "      <th>materialnummer</th>\n",
       "      <th>materialbezeichnung</th>\n",
       "      <th>land</th>\n",
       "      <th>bestelldatum</th>\n",
       "      <th>lieferdatum_soll</th>\n",
       "      <th>wareneingangsdatum_we</th>\n",
       "      <th>soll_menge</th>\n",
       "      <th>we_menge</th>\n",
       "      <th>verspätungstage</th>\n",
       "      <th>liefertreue</th>\n",
       "      <th>termintreue</th>\n",
       "      <th>mengenabweichung_anteil</th>\n",
       "      <th>mengenabweichung</th>\n",
       "    </tr>\n",
       "  </thead>\n",
       "  <tbody>\n",
       "    <tr>\n",
       "      <th>0</th>\n",
       "      <td>LS5412357</td>\n",
       "      <td>LA1031</td>\n",
       "      <td>SEW-EUR</td>\n",
       "      <td>A2341441</td>\n",
       "      <td>STEUERUNGEN</td>\n",
       "      <td>PL</td>\n",
       "      <td>2024-03-11</td>\n",
       "      <td>2024-04-09</td>\n",
       "      <td>2024-04-09</td>\n",
       "      <td>110</td>\n",
       "      <td>104</td>\n",
       "      <td>0</td>\n",
       "      <td>Ja</td>\n",
       "      <td>pünktlich</td>\n",
       "      <td>5.454545</td>\n",
       "      <td>-6</td>\n",
       "    </tr>\n",
       "    <tr>\n",
       "      <th>1</th>\n",
       "      <td>LS9371283</td>\n",
       "      <td>LA1015</td>\n",
       "      <td>WIELAND-WERK</td>\n",
       "      <td>A1842836</td>\n",
       "      <td>KUPFERLEGIERUNGEN</td>\n",
       "      <td>DE</td>\n",
       "      <td>2024-07-15</td>\n",
       "      <td>2024-08-08</td>\n",
       "      <td>2024-08-11</td>\n",
       "      <td>198</td>\n",
       "      <td>210</td>\n",
       "      <td>3</td>\n",
       "      <td>Nein</td>\n",
       "      <td>verspätet</td>\n",
       "      <td>-6.060606</td>\n",
       "      <td>12</td>\n",
       "    </tr>\n",
       "    <tr>\n",
       "      <th>2</th>\n",
       "      <td>LS6013338</td>\n",
       "      <td>LA1014</td>\n",
       "      <td>LEONI AG</td>\n",
       "      <td>A1624957</td>\n",
       "      <td>KABEL</td>\n",
       "      <td>CH</td>\n",
       "      <td>2024-03-19</td>\n",
       "      <td>2024-03-26</td>\n",
       "      <td>2024-03-26</td>\n",
       "      <td>94</td>\n",
       "      <td>88</td>\n",
       "      <td>0</td>\n",
       "      <td>Ja</td>\n",
       "      <td>pünktlich</td>\n",
       "      <td>6.382979</td>\n",
       "      <td>-6</td>\n",
       "    </tr>\n",
       "    <tr>\n",
       "      <th>3</th>\n",
       "      <td>LS7058941</td>\n",
       "      <td>LA1018</td>\n",
       "      <td>SEW-EURODRIV</td>\n",
       "      <td>A8657694</td>\n",
       "      <td>GETRIEBEMOTOREN</td>\n",
       "      <td>DE</td>\n",
       "      <td>2024-08-12</td>\n",
       "      <td>2024-08-26</td>\n",
       "      <td>2024-08-31</td>\n",
       "      <td>250</td>\n",
       "      <td>237</td>\n",
       "      <td>5</td>\n",
       "      <td>Nein</td>\n",
       "      <td>verspätet</td>\n",
       "      <td>5.200000</td>\n",
       "      <td>-13</td>\n",
       "    </tr>\n",
       "    <tr>\n",
       "      <th>4</th>\n",
       "      <td>LS2038973</td>\n",
       "      <td>LA1025</td>\n",
       "      <td>THYSSENKRUPP</td>\n",
       "      <td>A1864991</td>\n",
       "      <td>LENKSYSTEME</td>\n",
       "      <td>DE</td>\n",
       "      <td>2024-11-30</td>\n",
       "      <td>2024-12-21</td>\n",
       "      <td>2024-12-21</td>\n",
       "      <td>227</td>\n",
       "      <td>230</td>\n",
       "      <td>0</td>\n",
       "      <td>Ja</td>\n",
       "      <td>pünktlich</td>\n",
       "      <td>-1.321586</td>\n",
       "      <td>3</td>\n",
       "    </tr>\n",
       "  </tbody>\n",
       "</table>\n",
       "</div>"
      ],
      "text/plain": [
       "  lieferscheinnummer lieferantennummer lieferantenbezeichnung materialnummer  \\\n",
       "0          LS5412357            LA1031                SEW-EUR       A2341441   \n",
       "1          LS9371283            LA1015           WIELAND-WERK       A1842836   \n",
       "2          LS6013338            LA1014               LEONI AG       A1624957   \n",
       "3          LS7058941            LA1018           SEW-EURODRIV       A8657694   \n",
       "4          LS2038973            LA1025           THYSSENKRUPP       A1864991   \n",
       "\n",
       "  materialbezeichnung land bestelldatum lieferdatum_soll  \\\n",
       "0         STEUERUNGEN   PL   2024-03-11       2024-04-09   \n",
       "1   KUPFERLEGIERUNGEN   DE   2024-07-15       2024-08-08   \n",
       "2               KABEL   CH   2024-03-19       2024-03-26   \n",
       "3     GETRIEBEMOTOREN   DE   2024-08-12       2024-08-26   \n",
       "4         LENKSYSTEME   DE   2024-11-30       2024-12-21   \n",
       "\n",
       "  wareneingangsdatum_we  soll_menge  we_menge  verspätungstage liefertreue  \\\n",
       "0            2024-04-09         110       104                0          Ja   \n",
       "1            2024-08-11         198       210                3        Nein   \n",
       "2            2024-03-26          94        88                0          Ja   \n",
       "3            2024-08-31         250       237                5        Nein   \n",
       "4            2024-12-21         227       230                0          Ja   \n",
       "\n",
       "  termintreue  mengenabweichung_anteil  mengenabweichung  \n",
       "0   pünktlich                 5.454545                -6  \n",
       "1   verspätet                -6.060606                12  \n",
       "2   pünktlich                 6.382979                -6  \n",
       "3   verspätet                 5.200000               -13  \n",
       "4   pünktlich                -1.321586                 3  "
      ]
     },
     "execution_count": 18,
     "metadata": {},
     "output_type": "execute_result"
    }
   ],
   "source": [
    "# Berechnung der Anteil Mengenabweichung\n",
    "cleaned_liefertreue_2024_df[\"mengenabweichung_anteil\"] = (\n",
    "    (cleaned_liefertreue_2024_df[\"soll_menge\"] - cleaned_liefertreue_2024_df[\"we_menge\"]) /\n",
    "    cleaned_liefertreue_2024_df[\"soll_menge\"]\n",
    ") * 100\n",
    "\n",
    "# Berechnung der Mengenabweichung\n",
    "cleaned_liefertreue_2024_df[\"mengenabweichung\"] = (\n",
    "    cleaned_liefertreue_2024_df[\"we_menge\"] - cleaned_liefertreue_2024_df[\"soll_menge\"]\n",
    ")\n",
    "\n",
    "cleaned_liefertreue_2024_df.head()"
   ]
  },
  {
   "cell_type": "markdown",
   "metadata": {},
   "source": [
    "#### Jahreszeit\n",
    "\n",
    "- **Definition:** Jahreszeit basierend auf dem geplanten Lieferdatum.\n",
    "- **Mögliche Werte:** `Winter`, `Frühling`, `Sommer`, `Herbst`\n",
    "- **Bedeutung:** Erkennt saisonale Muster und deren Einfluss auf die Liefertreue."
   ]
  },
  {
   "cell_type": "code",
   "execution_count": 19,
   "metadata": {},
   "outputs": [
    {
     "data": {
      "text/html": [
       "<div>\n",
       "<style scoped>\n",
       "    .dataframe tbody tr th:only-of-type {\n",
       "        vertical-align: middle;\n",
       "    }\n",
       "\n",
       "    .dataframe tbody tr th {\n",
       "        vertical-align: top;\n",
       "    }\n",
       "\n",
       "    .dataframe thead th {\n",
       "        text-align: right;\n",
       "    }\n",
       "</style>\n",
       "<table border=\"1\" class=\"dataframe\">\n",
       "  <thead>\n",
       "    <tr style=\"text-align: right;\">\n",
       "      <th></th>\n",
       "      <th>lieferscheinnummer</th>\n",
       "      <th>lieferantennummer</th>\n",
       "      <th>lieferantenbezeichnung</th>\n",
       "      <th>materialnummer</th>\n",
       "      <th>materialbezeichnung</th>\n",
       "      <th>land</th>\n",
       "      <th>bestelldatum</th>\n",
       "      <th>lieferdatum_soll</th>\n",
       "      <th>wareneingangsdatum_we</th>\n",
       "      <th>soll_menge</th>\n",
       "      <th>we_menge</th>\n",
       "      <th>verspätungstage</th>\n",
       "      <th>liefertreue</th>\n",
       "      <th>termintreue</th>\n",
       "      <th>mengenabweichung_anteil</th>\n",
       "      <th>mengenabweichung</th>\n",
       "      <th>jahreszeit</th>\n",
       "    </tr>\n",
       "  </thead>\n",
       "  <tbody>\n",
       "    <tr>\n",
       "      <th>0</th>\n",
       "      <td>LS5412357</td>\n",
       "      <td>LA1031</td>\n",
       "      <td>SEW-EUR</td>\n",
       "      <td>A2341441</td>\n",
       "      <td>STEUERUNGEN</td>\n",
       "      <td>PL</td>\n",
       "      <td>2024-03-11</td>\n",
       "      <td>2024-04-09</td>\n",
       "      <td>2024-04-09</td>\n",
       "      <td>110</td>\n",
       "      <td>104</td>\n",
       "      <td>0</td>\n",
       "      <td>Ja</td>\n",
       "      <td>pünktlich</td>\n",
       "      <td>5.454545</td>\n",
       "      <td>-6</td>\n",
       "      <td>Frühling</td>\n",
       "    </tr>\n",
       "    <tr>\n",
       "      <th>1</th>\n",
       "      <td>LS9371283</td>\n",
       "      <td>LA1015</td>\n",
       "      <td>WIELAND-WERK</td>\n",
       "      <td>A1842836</td>\n",
       "      <td>KUPFERLEGIERUNGEN</td>\n",
       "      <td>DE</td>\n",
       "      <td>2024-07-15</td>\n",
       "      <td>2024-08-08</td>\n",
       "      <td>2024-08-11</td>\n",
       "      <td>198</td>\n",
       "      <td>210</td>\n",
       "      <td>3</td>\n",
       "      <td>Nein</td>\n",
       "      <td>verspätet</td>\n",
       "      <td>-6.060606</td>\n",
       "      <td>12</td>\n",
       "      <td>Sommer</td>\n",
       "    </tr>\n",
       "    <tr>\n",
       "      <th>2</th>\n",
       "      <td>LS6013338</td>\n",
       "      <td>LA1014</td>\n",
       "      <td>LEONI AG</td>\n",
       "      <td>A1624957</td>\n",
       "      <td>KABEL</td>\n",
       "      <td>CH</td>\n",
       "      <td>2024-03-19</td>\n",
       "      <td>2024-03-26</td>\n",
       "      <td>2024-03-26</td>\n",
       "      <td>94</td>\n",
       "      <td>88</td>\n",
       "      <td>0</td>\n",
       "      <td>Ja</td>\n",
       "      <td>pünktlich</td>\n",
       "      <td>6.382979</td>\n",
       "      <td>-6</td>\n",
       "      <td>Frühling</td>\n",
       "    </tr>\n",
       "    <tr>\n",
       "      <th>3</th>\n",
       "      <td>LS7058941</td>\n",
       "      <td>LA1018</td>\n",
       "      <td>SEW-EURODRIV</td>\n",
       "      <td>A8657694</td>\n",
       "      <td>GETRIEBEMOTOREN</td>\n",
       "      <td>DE</td>\n",
       "      <td>2024-08-12</td>\n",
       "      <td>2024-08-26</td>\n",
       "      <td>2024-08-31</td>\n",
       "      <td>250</td>\n",
       "      <td>237</td>\n",
       "      <td>5</td>\n",
       "      <td>Nein</td>\n",
       "      <td>verspätet</td>\n",
       "      <td>5.200000</td>\n",
       "      <td>-13</td>\n",
       "      <td>Sommer</td>\n",
       "    </tr>\n",
       "    <tr>\n",
       "      <th>4</th>\n",
       "      <td>LS2038973</td>\n",
       "      <td>LA1025</td>\n",
       "      <td>THYSSENKRUPP</td>\n",
       "      <td>A1864991</td>\n",
       "      <td>LENKSYSTEME</td>\n",
       "      <td>DE</td>\n",
       "      <td>2024-11-30</td>\n",
       "      <td>2024-12-21</td>\n",
       "      <td>2024-12-21</td>\n",
       "      <td>227</td>\n",
       "      <td>230</td>\n",
       "      <td>0</td>\n",
       "      <td>Ja</td>\n",
       "      <td>pünktlich</td>\n",
       "      <td>-1.321586</td>\n",
       "      <td>3</td>\n",
       "      <td>Winter</td>\n",
       "    </tr>\n",
       "  </tbody>\n",
       "</table>\n",
       "</div>"
      ],
      "text/plain": [
       "  lieferscheinnummer lieferantennummer lieferantenbezeichnung materialnummer  \\\n",
       "0          LS5412357            LA1031                SEW-EUR       A2341441   \n",
       "1          LS9371283            LA1015           WIELAND-WERK       A1842836   \n",
       "2          LS6013338            LA1014               LEONI AG       A1624957   \n",
       "3          LS7058941            LA1018           SEW-EURODRIV       A8657694   \n",
       "4          LS2038973            LA1025           THYSSENKRUPP       A1864991   \n",
       "\n",
       "  materialbezeichnung land bestelldatum lieferdatum_soll  \\\n",
       "0         STEUERUNGEN   PL   2024-03-11       2024-04-09   \n",
       "1   KUPFERLEGIERUNGEN   DE   2024-07-15       2024-08-08   \n",
       "2               KABEL   CH   2024-03-19       2024-03-26   \n",
       "3     GETRIEBEMOTOREN   DE   2024-08-12       2024-08-26   \n",
       "4         LENKSYSTEME   DE   2024-11-30       2024-12-21   \n",
       "\n",
       "  wareneingangsdatum_we  soll_menge  we_menge  verspätungstage liefertreue  \\\n",
       "0            2024-04-09         110       104                0          Ja   \n",
       "1            2024-08-11         198       210                3        Nein   \n",
       "2            2024-03-26          94        88                0          Ja   \n",
       "3            2024-08-31         250       237                5        Nein   \n",
       "4            2024-12-21         227       230                0          Ja   \n",
       "\n",
       "  termintreue  mengenabweichung_anteil  mengenabweichung jahreszeit  \n",
       "0   pünktlich                 5.454545                -6   Frühling  \n",
       "1   verspätet                -6.060606                12     Sommer  \n",
       "2   pünktlich                 6.382979                -6   Frühling  \n",
       "3   verspätet                 5.200000               -13     Sommer  \n",
       "4   pünktlich                -1.321586                 3     Winter  "
      ]
     },
     "execution_count": 19,
     "metadata": {},
     "output_type": "execute_result"
    }
   ],
   "source": [
    "# Konvertiere die Spalten in datetime und setze ungültige Werte auf NaT\n",
    "cleaned_liefertreue_2024_df[\"lieferdatum_soll\"] = pd.to_datetime(\n",
    "    cleaned_liefertreue_2024_df[\"lieferdatum_soll\"], errors=\"coerce\"\n",
    ")\n",
    "cleaned_liefertreue_2024_df[\"wareneingangsdatum_we\"] = pd.to_datetime(\n",
    "    cleaned_liefertreue_2024_df[\"wareneingangsdatum_we\"], errors=\"coerce\"\n",
    ")\n",
    "\n",
    "# Berechnung der Jahreszeit - Vereinfacht\n",
    "def determine_season(date):\n",
    "    month = date.month\n",
    "    if month in [12, 1, 2]:\n",
    "        return \"Winter\"\n",
    "    elif month in [3, 4, 5]:\n",
    "        return \"Frühling\"\n",
    "    elif month in [6, 7, 8]:\n",
    "        return \"Sommer\"\n",
    "    else:\n",
    "        return \"Herbst\"\n",
    "\n",
    "cleaned_liefertreue_2024_df[\"jahreszeit\"] = cleaned_liefertreue_2024_df[\"lieferdatum_soll\"].apply(determine_season)\n",
    "\n",
    "cleaned_liefertreue_2024_df.head()"
   ]
  },
  {
   "cell_type": "markdown",
   "metadata": {},
   "source": [
    "#### OTD-Rate (On-Time Delivery Rate)\n",
    "- **Definition:** Anteil der Lieferungen, die innerhalb des geplanten Lieferdatums erfolgten.\n",
    "- **Berechnung:**\n",
    "  `OTD-Rate = (Anzahl der pünktlichen Lieferungen / Gesamtanzahl der Lieferungen) * 100`\n",
    "- **Bedeutung:** Bewertet die Termintreue der Lieferanten.\n",
    "\n",
    "#### OTIF-Rate (On-Time In-Full Rate)\n",
    "- **Definition:** Anteil der Lieferungen, die sowohl pünktlich als auch vollständig geliefert wurden.\n",
    "- **Berechnung:**\n",
    "  `OTIF-Rate = (Anzahl der pünktlichen und vollständigen Lieferungen / Gesamtanzahl der Lieferungen) * 100`\n",
    "- **Bedeutung:** Bewertet die Qualität und Zuverlässigkeit der Lieferanten hinsichtlich Pünktlichkeit und Vollständigkeit."
   ]
  },
  {
   "cell_type": "code",
   "execution_count": 20,
   "metadata": {},
   "outputs": [
    {
     "name": "stdout",
     "output_type": "stream",
     "text": [
      "OTD-Rate (On-Time Delivery): 85.07%\n",
      "OTIF-Rate (On-Time In-Full): 2.12%\n",
      "Berechnete Kennzahlen:\n",
      "   verspätungstage liefertreue termintreue  mengenabweichung jahreszeit\n",
      "0                0          Ja   pünktlich                -6   Frühling\n",
      "1                3        Nein   verspätet                12     Sommer\n",
      "2                0          Ja   pünktlich                -6   Frühling\n",
      "3                5        Nein   verspätet               -13     Sommer\n",
      "4                0          Ja   pünktlich                 3     Winter\n",
      "Die aktualisierten Daten wurden gespeichert unter: ../data/processed/liefertreue_dataset_2024_mit_kennzahlen.xlsx\n"
     ]
    }
   ],
   "source": [
    "# Berechnung der OTD-Rate (On-Time Delivery Rate)\n",
    "otd_total = len(cleaned_liefertreue_2024_df)\n",
    "otd_on_time = len(cleaned_liefertreue_2024_df[cleaned_liefertreue_2024_df[\"liefertreue\"] == \"Ja\"])\n",
    "otd_rate = (otd_on_time / otd_total) * 100\n",
    "\n",
    "# Berechnung der OTIF-Rate (On-Time In-Full Rate)\n",
    "otif_on_time_full = len(cleaned_liefertreue_2024_df[\n",
    "    (cleaned_liefertreue_2024_df[\"liefertreue\"] == \"Ja\") &\n",
    "    (cleaned_liefertreue_2024_df[\"mengenabweichung\"] == 0)  # Keine Mengenabweichung (0 Stück Differenz)\n",
    "])\n",
    "otif_rate = (otif_on_time_full / otd_total) * 100\n",
    "\n",
    "# Ausgabe der berechneten Werte \n",
    "print(f\"OTD-Rate (On-Time Delivery): {otd_rate:.2f}%\")\n",
    "print(f\"OTIF-Rate (On-Time In-Full): {otif_rate:.2f}%\")\n",
    "\n",
    "# Vorschau der berechneten Kennzahlen\n",
    "print(\"Berechnete Kennzahlen:\")\n",
    "print(cleaned_liefertreue_2024_df[[\n",
    "    \"verspätungstage\", \"liefertreue\", \"termintreue\", \"mengenabweichung\", \"jahreszeit\"\n",
    "]].head(5))\n",
    "\n",
    "# 9. **Speichern des aktualisierten DataFrames**\n",
    "output_path = \"../data/processed/liefertreue_dataset_2024_mit_kennzahlen.xlsx\"\n",
    "cleaned_liefertreue_2024_df.to_excel(output_path, index=False)\n",
    "print(f\"Die aktualisierten Daten wurden gespeichert unter: {output_path}\")"
   ]
  },
  {
   "cell_type": "markdown",
   "metadata": {},
   "source": [
    "### **Nachträgliche Standardisierung der Datumsfeldern**"
   ]
  },
  {
   "cell_type": "code",
   "execution_count": 21,
   "metadata": {},
   "outputs": [],
   "source": [
    "# Liste der Datumsfelder, die formatiert werden sollen\n",
    "# Nachträglich, da sonst konflikt bei der Berechnung der Kennzahlen verursachen würde\n",
    "#date_columns = [\"bestelldatum\", \"lieferdatum_soll\", \"wareneingangsdatum_we\"]\n",
    "\n",
    "# Überprüfen und Konvertieren der Spalten in das gewünschte Datumsformat\n",
    "#for col in date_columns:\n",
    "   # cleaned_liefertreue_2024_df[col] = pd.to_datetime(cleaned_liefertreue_2024_df[col]).dt.strftime(\"%d.%m.%Y\")\n",
    "\n",
    "# Vorschau der formatierten Datumsfelder\n",
    "#print(\"Formatierte Datumsfelder (TT.MM.JJJJ):\")\n",
    "#print(cleaned_liefertreue_2024_df[date_columns].head())"
   ]
  },
  {
   "cell_type": "markdown",
   "metadata": {},
   "source": [
    "### Data splitting"
   ]
  },
  {
   "cell_type": "markdown",
   "metadata": {},
   "source": [
    "Datensatz für Analysen und Modellierung vorbereiten.\n",
    "\n",
    "•\tTrainingsdaten (70%): Für Modelltraining und explorative Analysen.\n",
    "\n",
    "•\tTestdaten (30%): Für Modellvalidierung und Hypothesentests."
   ]
  },
  {
   "cell_type": "code",
   "execution_count": 22,
   "metadata": {},
   "outputs": [
    {
     "name": "stdout",
     "output_type": "stream",
     "text": [
      "Trainingsdaten gespeichert unter: ../data/processed/train_dataset_liefertreue_2024.xlsx (Anzahl: 20246)\n",
      "Testdaten gespeichert unter: ../data/processed/test_dataset_liefertreue_2024.xlsx (Anzahl: 8678)\n"
     ]
    }
   ],
   "source": [
    "# Datenaufteilung in Trainings- und Testdaten (70-30)\n",
    "train_data_df, test_data_df = train_test_split(\n",
    "    cleaned_liefertreue_2024_df,  # Der bereinigte Datensatz\n",
    "    test_size=0.3,                # 30% der Daten werden als Testdaten verwendet\n",
    "    random_state=42               # Zufallsstartwert für reproduzierbare Ergebnisse\n",
    ")\n",
    "\n",
    "# Geteilten Datensätze speichern\n",
    "train_path = \"../data/processed/train_dataset_liefertreue_2024.xlsx\"\n",
    "test_path = \"../data/processed/test_dataset_liefertreue_2024.xlsx\"\n",
    "\n",
    "train_data_df.to_excel(train_path, index=False)\n",
    "test_data_df.to_excel(test_path, index=False)\n",
    "\n",
    "print(f\"Trainingsdaten gespeichert unter: {train_path} (Anzahl: {train_data_df.shape[0]})\")\n",
    "print(f\"Testdaten gespeichert unter: {test_path} (Anzahl: {test_data_df.shape[0]})\")"
   ]
  },
  {
   "cell_type": "markdown",
   "metadata": {},
   "source": [
    "## Analysis"
   ]
  },
  {
   "cell_type": "markdown",
   "metadata": {},
   "source": [
    "### Descriptive statistics"
   ]
  },
  {
   "cell_type": "code",
   "execution_count": 23,
   "metadata": {},
   "outputs": [],
   "source": [
    "# Kategorische Variablen (z. B. “termintreue”, “jahreszeit”) in numerische Werte umzuwandeln:\n",
    "#cleaned_liefertreue_2024_df = pd.get_dummies(cleaned_liefertreue_2024_df, columns=[\"termintreue\", \"jahreszeit\"])"
   ]
  },
  {
   "cell_type": "code",
   "execution_count": 24,
   "metadata": {},
   "outputs": [
    {
     "data": {
      "text/html": [
       "<div>\n",
       "<style scoped>\n",
       "    .dataframe tbody tr th:only-of-type {\n",
       "        vertical-align: middle;\n",
       "    }\n",
       "\n",
       "    .dataframe tbody tr th {\n",
       "        vertical-align: top;\n",
       "    }\n",
       "\n",
       "    .dataframe thead th {\n",
       "        text-align: right;\n",
       "    }\n",
       "</style>\n",
       "<table border=\"1\" class=\"dataframe\">\n",
       "  <thead>\n",
       "    <tr style=\"text-align: right;\">\n",
       "      <th></th>\n",
       "      <th>lieferscheinnummer</th>\n",
       "      <th>lieferantennummer</th>\n",
       "      <th>lieferantenbezeichnung</th>\n",
       "      <th>materialnummer</th>\n",
       "      <th>materialbezeichnung</th>\n",
       "      <th>land</th>\n",
       "      <th>bestelldatum</th>\n",
       "      <th>lieferdatum_soll</th>\n",
       "      <th>wareneingangsdatum_we</th>\n",
       "      <th>soll_menge</th>\n",
       "      <th>we_menge</th>\n",
       "      <th>verspätungstage</th>\n",
       "      <th>liefertreue</th>\n",
       "      <th>termintreue</th>\n",
       "      <th>mengenabweichung_anteil</th>\n",
       "      <th>mengenabweichung</th>\n",
       "      <th>jahreszeit</th>\n",
       "    </tr>\n",
       "  </thead>\n",
       "  <tbody>\n",
       "    <tr>\n",
       "      <th>0</th>\n",
       "      <td>LS5412357</td>\n",
       "      <td>LA1031</td>\n",
       "      <td>SEW-EUR</td>\n",
       "      <td>A2341441</td>\n",
       "      <td>STEUERUNGEN</td>\n",
       "      <td>PL</td>\n",
       "      <td>2024-03-11</td>\n",
       "      <td>2024-04-09</td>\n",
       "      <td>2024-04-09</td>\n",
       "      <td>110</td>\n",
       "      <td>104</td>\n",
       "      <td>0</td>\n",
       "      <td>Ja</td>\n",
       "      <td>pünktlich</td>\n",
       "      <td>5.454545</td>\n",
       "      <td>-6</td>\n",
       "      <td>Frühling</td>\n",
       "    </tr>\n",
       "    <tr>\n",
       "      <th>1</th>\n",
       "      <td>LS9371283</td>\n",
       "      <td>LA1015</td>\n",
       "      <td>WIELAND-WERK</td>\n",
       "      <td>A1842836</td>\n",
       "      <td>KUPFERLEGIERUNGEN</td>\n",
       "      <td>DE</td>\n",
       "      <td>2024-07-15</td>\n",
       "      <td>2024-08-08</td>\n",
       "      <td>2024-08-11</td>\n",
       "      <td>198</td>\n",
       "      <td>210</td>\n",
       "      <td>3</td>\n",
       "      <td>Nein</td>\n",
       "      <td>verspätet</td>\n",
       "      <td>-6.060606</td>\n",
       "      <td>12</td>\n",
       "      <td>Sommer</td>\n",
       "    </tr>\n",
       "    <tr>\n",
       "      <th>2</th>\n",
       "      <td>LS6013338</td>\n",
       "      <td>LA1014</td>\n",
       "      <td>LEONI AG</td>\n",
       "      <td>A1624957</td>\n",
       "      <td>KABEL</td>\n",
       "      <td>CH</td>\n",
       "      <td>2024-03-19</td>\n",
       "      <td>2024-03-26</td>\n",
       "      <td>2024-03-26</td>\n",
       "      <td>94</td>\n",
       "      <td>88</td>\n",
       "      <td>0</td>\n",
       "      <td>Ja</td>\n",
       "      <td>pünktlich</td>\n",
       "      <td>6.382979</td>\n",
       "      <td>-6</td>\n",
       "      <td>Frühling</td>\n",
       "    </tr>\n",
       "    <tr>\n",
       "      <th>3</th>\n",
       "      <td>LS7058941</td>\n",
       "      <td>LA1018</td>\n",
       "      <td>SEW-EURODRIV</td>\n",
       "      <td>A8657694</td>\n",
       "      <td>GETRIEBEMOTOREN</td>\n",
       "      <td>DE</td>\n",
       "      <td>2024-08-12</td>\n",
       "      <td>2024-08-26</td>\n",
       "      <td>2024-08-31</td>\n",
       "      <td>250</td>\n",
       "      <td>237</td>\n",
       "      <td>5</td>\n",
       "      <td>Nein</td>\n",
       "      <td>verspätet</td>\n",
       "      <td>5.200000</td>\n",
       "      <td>-13</td>\n",
       "      <td>Sommer</td>\n",
       "    </tr>\n",
       "    <tr>\n",
       "      <th>4</th>\n",
       "      <td>LS2038973</td>\n",
       "      <td>LA1025</td>\n",
       "      <td>THYSSENKRUPP</td>\n",
       "      <td>A1864991</td>\n",
       "      <td>LENKSYSTEME</td>\n",
       "      <td>DE</td>\n",
       "      <td>2024-11-30</td>\n",
       "      <td>2024-12-21</td>\n",
       "      <td>2024-12-21</td>\n",
       "      <td>227</td>\n",
       "      <td>230</td>\n",
       "      <td>0</td>\n",
       "      <td>Ja</td>\n",
       "      <td>pünktlich</td>\n",
       "      <td>-1.321586</td>\n",
       "      <td>3</td>\n",
       "      <td>Winter</td>\n",
       "    </tr>\n",
       "  </tbody>\n",
       "</table>\n",
       "</div>"
      ],
      "text/plain": [
       "  lieferscheinnummer lieferantennummer lieferantenbezeichnung materialnummer  \\\n",
       "0          LS5412357            LA1031                SEW-EUR       A2341441   \n",
       "1          LS9371283            LA1015           WIELAND-WERK       A1842836   \n",
       "2          LS6013338            LA1014               LEONI AG       A1624957   \n",
       "3          LS7058941            LA1018           SEW-EURODRIV       A8657694   \n",
       "4          LS2038973            LA1025           THYSSENKRUPP       A1864991   \n",
       "\n",
       "  materialbezeichnung land bestelldatum lieferdatum_soll  \\\n",
       "0         STEUERUNGEN   PL   2024-03-11       2024-04-09   \n",
       "1   KUPFERLEGIERUNGEN   DE   2024-07-15       2024-08-08   \n",
       "2               KABEL   CH   2024-03-19       2024-03-26   \n",
       "3     GETRIEBEMOTOREN   DE   2024-08-12       2024-08-26   \n",
       "4         LENKSYSTEME   DE   2024-11-30       2024-12-21   \n",
       "\n",
       "  wareneingangsdatum_we  soll_menge  we_menge  verspätungstage liefertreue  \\\n",
       "0            2024-04-09         110       104                0          Ja   \n",
       "1            2024-08-11         198       210                3        Nein   \n",
       "2            2024-03-26          94        88                0          Ja   \n",
       "3            2024-08-31         250       237                5        Nein   \n",
       "4            2024-12-21         227       230                0          Ja   \n",
       "\n",
       "  termintreue  mengenabweichung_anteil  mengenabweichung jahreszeit  \n",
       "0   pünktlich                 5.454545                -6   Frühling  \n",
       "1   verspätet                -6.060606                12     Sommer  \n",
       "2   pünktlich                 6.382979                -6   Frühling  \n",
       "3   verspätet                 5.200000               -13     Sommer  \n",
       "4   pünktlich                -1.321586                 3     Winter  "
      ]
     },
     "execution_count": 24,
     "metadata": {},
     "output_type": "execute_result"
    }
   ],
   "source": [
    "cleaned_liefertreue_2024_df.head()"
   ]
  },
  {
   "cell_type": "markdown",
   "metadata": {},
   "source": [
    "#### **Statistik für numerische Spalten**"
   ]
  },
  {
   "cell_type": "code",
   "execution_count": 25,
   "metadata": {},
   "outputs": [
    {
     "name": "stdout",
     "output_type": "stream",
     "text": [
      "Beschreibende Statistik für numerische Spalten:\n"
     ]
    },
    {
     "data": {
      "text/html": [
       "<div>\n",
       "<style scoped>\n",
       "    .dataframe tbody tr th:only-of-type {\n",
       "        vertical-align: middle;\n",
       "    }\n",
       "\n",
       "    .dataframe tbody tr th {\n",
       "        vertical-align: top;\n",
       "    }\n",
       "\n",
       "    .dataframe thead th {\n",
       "        text-align: right;\n",
       "    }\n",
       "</style>\n",
       "<table border=\"1\" class=\"dataframe\">\n",
       "  <thead>\n",
       "    <tr style=\"text-align: right;\">\n",
       "      <th></th>\n",
       "      <th>bestelldatum</th>\n",
       "      <th>lieferdatum_soll</th>\n",
       "      <th>wareneingangsdatum_we</th>\n",
       "      <th>soll_menge</th>\n",
       "      <th>we_menge</th>\n",
       "      <th>verspätungstage</th>\n",
       "      <th>mengenabweichung_anteil</th>\n",
       "      <th>mengenabweichung</th>\n",
       "    </tr>\n",
       "  </thead>\n",
       "  <tbody>\n",
       "    <tr>\n",
       "      <th>count</th>\n",
       "      <td>28924</td>\n",
       "      <td>28924</td>\n",
       "      <td>28924</td>\n",
       "      <td>28924.000000</td>\n",
       "      <td>28924.000000</td>\n",
       "      <td>28924.000000</td>\n",
       "      <td>28924.000000</td>\n",
       "      <td>28924.000000</td>\n",
       "    </tr>\n",
       "    <tr>\n",
       "      <th>mean</th>\n",
       "      <td>2024-06-20 14:26:37.123495936</td>\n",
       "      <td>2024-07-05 23:55:58.041764608</td>\n",
       "      <td>2024-07-06 10:42:17.076476416</td>\n",
       "      <td>275.904232</td>\n",
       "      <td>275.366789</td>\n",
       "      <td>0.448831</td>\n",
       "      <td>0.264151</td>\n",
       "      <td>-0.537443</td>\n",
       "    </tr>\n",
       "    <tr>\n",
       "      <th>min</th>\n",
       "      <td>2024-01-01 00:00:00</td>\n",
       "      <td>2024-01-02 00:00:00</td>\n",
       "      <td>2024-01-02 00:00:00</td>\n",
       "      <td>50.000000</td>\n",
       "      <td>45.000000</td>\n",
       "      <td>0.000000</td>\n",
       "      <td>-9.979633</td>\n",
       "      <td>-50.000000</td>\n",
       "    </tr>\n",
       "    <tr>\n",
       "      <th>25%</th>\n",
       "      <td>2024-03-26 00:00:00</td>\n",
       "      <td>2024-04-11 00:00:00</td>\n",
       "      <td>2024-04-11 00:00:00</td>\n",
       "      <td>164.000000</td>\n",
       "      <td>162.000000</td>\n",
       "      <td>0.000000</td>\n",
       "      <td>-4.738450</td>\n",
       "      <td>-11.000000</td>\n",
       "    </tr>\n",
       "    <tr>\n",
       "      <th>50%</th>\n",
       "      <td>2024-06-20 00:00:00</td>\n",
       "      <td>2024-07-06 00:00:00</td>\n",
       "      <td>2024-07-06 00:00:00</td>\n",
       "      <td>275.000000</td>\n",
       "      <td>274.000000</td>\n",
       "      <td>0.000000</td>\n",
       "      <td>0.228050</td>\n",
       "      <td>-1.000000</td>\n",
       "    </tr>\n",
       "    <tr>\n",
       "      <th>75%</th>\n",
       "      <td>2024-09-14 00:00:00</td>\n",
       "      <td>2024-09-30 00:00:00</td>\n",
       "      <td>2024-09-30 00:00:00</td>\n",
       "      <td>388.000000</td>\n",
       "      <td>387.000000</td>\n",
       "      <td>0.000000</td>\n",
       "      <td>5.234160</td>\n",
       "      <td>10.000000</td>\n",
       "    </tr>\n",
       "    <tr>\n",
       "      <th>max</th>\n",
       "      <td>2024-12-14 00:00:00</td>\n",
       "      <td>2024-12-31 00:00:00</td>\n",
       "      <td>2024-12-31 00:00:00</td>\n",
       "      <td>500.000000</td>\n",
       "      <td>549.000000</td>\n",
       "      <td>5.000000</td>\n",
       "      <td>11.320755</td>\n",
       "      <td>49.000000</td>\n",
       "    </tr>\n",
       "    <tr>\n",
       "      <th>std</th>\n",
       "      <td>NaN</td>\n",
       "      <td>NaN</td>\n",
       "      <td>NaN</td>\n",
       "      <td>129.880551</td>\n",
       "      <td>131.024802</td>\n",
       "      <td>1.203340</td>\n",
       "      <td>5.771221</td>\n",
       "      <td>17.573285</td>\n",
       "    </tr>\n",
       "  </tbody>\n",
       "</table>\n",
       "</div>"
      ],
      "text/plain": [
       "                        bestelldatum               lieferdatum_soll  \\\n",
       "count                          28924                          28924   \n",
       "mean   2024-06-20 14:26:37.123495936  2024-07-05 23:55:58.041764608   \n",
       "min              2024-01-01 00:00:00            2024-01-02 00:00:00   \n",
       "25%              2024-03-26 00:00:00            2024-04-11 00:00:00   \n",
       "50%              2024-06-20 00:00:00            2024-07-06 00:00:00   \n",
       "75%              2024-09-14 00:00:00            2024-09-30 00:00:00   \n",
       "max              2024-12-14 00:00:00            2024-12-31 00:00:00   \n",
       "std                              NaN                            NaN   \n",
       "\n",
       "               wareneingangsdatum_we    soll_menge      we_menge  \\\n",
       "count                          28924  28924.000000  28924.000000   \n",
       "mean   2024-07-06 10:42:17.076476416    275.904232    275.366789   \n",
       "min              2024-01-02 00:00:00     50.000000     45.000000   \n",
       "25%              2024-04-11 00:00:00    164.000000    162.000000   \n",
       "50%              2024-07-06 00:00:00    275.000000    274.000000   \n",
       "75%              2024-09-30 00:00:00    388.000000    387.000000   \n",
       "max              2024-12-31 00:00:00    500.000000    549.000000   \n",
       "std                              NaN    129.880551    131.024802   \n",
       "\n",
       "       verspätungstage  mengenabweichung_anteil  mengenabweichung  \n",
       "count     28924.000000             28924.000000      28924.000000  \n",
       "mean          0.448831                 0.264151         -0.537443  \n",
       "min           0.000000                -9.979633        -50.000000  \n",
       "25%           0.000000                -4.738450        -11.000000  \n",
       "50%           0.000000                 0.228050         -1.000000  \n",
       "75%           0.000000                 5.234160         10.000000  \n",
       "max           5.000000                11.320755         49.000000  \n",
       "std           1.203340                 5.771221         17.573285  "
      ]
     },
     "execution_count": 25,
     "metadata": {},
     "output_type": "execute_result"
    }
   ],
   "source": [
    "# Statistik für numerische Spalten\n",
    "numerical_stats = cleaned_liefertreue_2024_df.describe()\n",
    "\n",
    "# Ausgabe der beschreibenden Statistik\n",
    "print(\"Beschreibende Statistik für numerische Spalten:\")\n",
    "numerical_stats.head(10)"
   ]
  },
  {
   "cell_type": "markdown",
   "metadata": {},
   "source": [
    "#### **Skalierung der numerischen Spalten**"
   ]
  },
  {
   "cell_type": "code",
   "execution_count": 26,
   "metadata": {},
   "outputs": [],
   "source": [
    "# Numerische Variablen (z. B. “soll_menge”, “we_menge”) zu skalieren, um den Wertebereich anzugleichen (z. B. mit Standardisierung oder Min-Max-Scaling):\n",
    "scaler = StandardScaler()\n",
    "numeric_columns = [\"soll_menge\", \"we_menge\", \"verspätungstage\"]\n",
    "\n",
    "scaled_liefertreue_2024_df = cleaned_liefertreue_2024_df.copy()\n",
    "scaled_liefertreue_2024_df[numeric_columns] = scaler.fit_transform(scaled_liefertreue_2024_df[numeric_columns])"
   ]
  },
  {
   "cell_type": "markdown",
   "metadata": {},
   "source": [
    "#### **Berechnung der Quantile für die Skalierte Daten**"
   ]
  },
  {
   "cell_type": "markdown",
   "metadata": {},
   "source": [
    "Die Berechnung der Quantile (25%, 50% oder Median, 75%) gibt dir ein Gefühl dafür, ob die Verteilung der Werte schief ist oder Ausreißer enthält."
   ]
  },
  {
   "cell_type": "code",
   "execution_count": 27,
   "metadata": {},
   "outputs": [
    {
     "name": "stdout",
     "output_type": "stream",
     "text": [
      "\n",
      "Quantile für numerische Spalten:\n",
      "      soll_menge  we_menge  verspätungstage\n",
      "0.25   -0.861608 -0.865246        -0.372995\n",
      "0.50   -0.006962 -0.010432        -0.372995\n",
      "0.75    0.863083  0.852015        -0.372995\n",
      "\n",
      "Interquartilsabstand (IQR):\n",
      "soll_menge         1.724691\n",
      "we_menge           1.717262\n",
      "verspätungstage    0.000000\n",
      "dtype: float64\n"
     ]
    }
   ],
   "source": [
    "# Quantile berechnen\n",
    "quantile_values = scaled_liefertreue_2024_df[numeric_columns].quantile([0.25, 0.5, 0.75])\n",
    "print(\"\\nQuantile für numerische Spalten:\")\n",
    "print(quantile_values)\n",
    "\n",
    "# Interquartilsabstand (IQR) berechnen\n",
    "Q1 = quantile_values.loc[0.25]\n",
    "Q3 = quantile_values.loc[0.75]\n",
    "IQR = Q3 - Q1\n",
    "\n",
    "print(\"\\nInterquartilsabstand (IQR):\")\n",
    "print(IQR)"
   ]
  },
  {
   "cell_type": "markdown",
   "metadata": {},
   "source": [
    "Interpretation: Die berechneten Quantile zeigen die Verteilung der skalierten Daten:\n",
    "- 25%-Quantil (0.25):\n",
    "    - Zeigt, dass 25% der Werte in den Spalten unter diesem Wert liegen.\n",
    "    - Für soll_menge ist das 25%-Quantil -0.861608, was bedeutet, dass 25% der skalierten Werte unter -0.861608 liegen.\n",
    "- 50%-Quantil (0.50):\n",
    "    - Entspricht dem Median der Werte. In den meisten Fällen liegt der Median nach Standardisierung nahe bei 0.\n",
    "    - Für soll_menge ist das 50%-Quantil -0.006962, was nahe 0 liegt.\n",
    "- 75%-Quantil (0.75):\n",
    "    - Zeigt, dass 75% der Werte in den Spalten unter diesem Wert liegen.\n",
    "    - Für soll_menge ist das 75%-Quantil 0.863083.\n",
    "\n",
    "IQR - Verspätungstage 0:\n",
    "\n",
    "Der IQR von verspätungstage ist 0, weil die Werte in dieser Spalte alle denselben Wert bei den mittleren 50% der Verteilung haben. Das bedeutet:\n",
    "- Das 25%-Quantil (Q1), das 50%-Quantil (Median), und das 75%-Quantil (Q3) haben denselben Wert (-0.372995).\n",
    "- Dies deutet darauf hin, dass die Spalte verspätungstage nach der Skalierung keine Variabilität in den mittleren 50% der Daten hat.\n",
    "\n",
    "Zusammenfassung:\n",
    "Die Quantile und der IQR zeigen dir, wie die Werte nach der Skalierung verteilt sind:\n",
    "- Wenn der IQR groß ist (wie bei soll_menge und we_menge), gibt es eine breitere Streuung der Werte.\n",
    "- Ein IQR von 0 (wie bei verspätungstage) deutet darauf hin, dass in den mittleren 50% der Daten keine Variabilität vorhanden ist.\n",
    "\n",
    "2. Ausreißeranalyse:\n",
    "\n",
    "Du kannst die Quantile verwenden, um Ausreißer zu identifizieren:\n",
    "- Werte, die außerhalb von  [Q1 - 1.5 \\times IQR, Q3 + 1.5 \\times IQR]  liegen, könnten als Ausreißer betrachtet werden.\n",
    "- Beispiel für soll_menge:\n",
    "- Untergrenze:  Q1 - 1.5 \\times IQR = -0.861608 - 1.5 \\times 1.724691 = -3.4486455 \n",
    "- Obergrenze:  Q3 + 1.5 \\times IQR = 0.863083 + 1.5 \\times 1.724691 = 3.4501205 \n",
    "- Werte außerhalb dieses Bereichs wären potenzielle Ausreißer.\n",
    "\n",
    "3. Entscheidung über weitere Schritte:\n",
    "- Die Spalten mit größerem IQR (soll_menge, we_menge) zeigen Variabilität, was bedeutet, dass die Skalierung funktioniert hat.\n",
    "- Für verspätungstage, wo der IQR 0 ist, solltest du prüfen, ob die Werte korrekt skaliert wurden, oder ob es vielleicht ein Problem bei den Ursprungsdaten gibt."
   ]
  },
  {
   "cell_type": "markdown",
   "metadata": {},
   "source": [
    "#### **Verteilung nach der Skalierung**"
   ]
  },
  {
   "cell_type": "code",
   "execution_count": 28,
   "metadata": {},
   "outputs": [
    {
     "data": {
      "image/png": "[encoded data removed]",
      "text/plain": [
       "<Figure size 800x400 with 1 Axes>"
      ]
     },
     "metadata": {},
     "output_type": "display_data"
    },
    {
     "data": {
      "image/png": "[encoded data removed]",
      "text/plain": [
       "<Figure size 800x400 with 1 Axes>"
      ]
     },
     "metadata": {},
     "output_type": "display_data"
    },
    {
     "data": {
      "image/png": "[encoded data removed]",
      "text/plain": [
       "<Figure size 800x400 with 1 Axes>"
      ]
     },
     "metadata": {},
     "output_type": "display_data"
    }
   ],
   "source": [
    "import matplotlib.pyplot as plt\n",
    "\n",
    "# Verteilung der numerischen Spalten plotten\n",
    "for col in numeric_columns:\n",
    "    plt.figure(figsize=(8, 4))\n",
    "    plt.hist(scaled_liefertreue_2024_df[col], bins=30, edgecolor='k', alpha=0.7)\n",
    "    plt.title(f\"Verteilung von {col} (nach Skalierung)\")\n",
    "    plt.xlabel(col)\n",
    "    plt.ylabel(\"Häufigkeit\")\n",
    "    plt.show()"
   ]
  },
  {
   "cell_type": "markdown",
   "metadata": {},
   "source": [
    "#### **Ausreißer identifizieren**"
   ]
  },
  {
   "cell_type": "markdown",
   "metadata": {},
   "source": [
    "**Boxplots für \"verspätungstage\" und \"WE-Menge\"**"
   ]
  },
  {
   "cell_type": "code",
   "execution_count": 29,
   "metadata": {},
   "outputs": [
    {
     "data": {
      "image/png": "[encoded data removed]",
      "text/plain": [
       "<Figure size 800x400 with 1 Axes>"
      ]
     },
     "metadata": {},
     "output_type": "display_data"
    }
   ],
   "source": [
    "# Erstellen eines Boxplots für \"Soll-Menge\" und \"WE-Menge\"\n",
    "plt.figure(figsize=(8,4))\n",
    "cleaned_liefertreue_2024_df.boxplot(column=[\"soll_menge\", \"we_menge\"])\n",
    "plt.title(\"Boxplot für Soll-Menge und WE-Menge\")\n",
    "plt.ylabel(\"Werte\")\n",
    "plt.grid(axis=\"y\", linestyle=\"--\", alpha=0.7)\n",
    "plt.show()"
   ]
  },
  {
   "cell_type": "code",
   "execution_count": 30,
   "metadata": {},
   "outputs": [
    {
     "data": {
      "image/png": "[encoded data removed]",
      "text/plain": [
       "<Figure size 800x400 with 1 Axes>"
      ]
     },
     "metadata": {},
     "output_type": "display_data"
    }
   ],
   "source": [
    "plt.figure(figsize=(8, 4))\n",
    "cleaned_liefertreue_2024_df.boxplot(column=[\"soll_menge\", \"we_menge\", \"verspätungstage\"])\n",
    "plt.title(\"Boxplot für Soll-Menge, WE-Menge und Verspätungstage\")\n",
    "plt.ylabel(\"Werte\")\n",
    "plt.grid(axis=\"y\", linestyle=\"--\", alpha=0.7)\n",
    "plt.show()"
   ]
  },
  {
   "cell_type": "markdown",
   "metadata": {},
   "source": [
    "**Liefertreue-Probleme**\n",
    "\n",
    "Die groeßere Abweichung in der WE-Menge im Vergleich zur Soll-Menge deutet darauf hin, dass Lieferanten möglicherweise nicht in der Lage sind, die vollständige Menge zuverlässig zu liefern.\n",
    "\n",
    "**Unvollständige Lieferungen**\n",
    "\n",
    "Die vielen niedrigen Ausreißer in der WE-Menge könnten auf eine hohe Anzahl von unvollständigen Lieferungen hindeuten, was zu einer geringeren OTIF-Rate (On-Time In-Full Rate) führen könnte."
   ]
  },
  {
   "cell_type": "markdown",
   "metadata": {},
   "source": [
    "### Exploratory data analysis"
   ]
  },
  {
   "cell_type": "code",
   "execution_count": 31,
   "metadata": {},
   "outputs": [
    {
     "name": "stdout",
     "output_type": "stream",
     "text": [
      "Datenprofil für den Liefertreue-Datensatz\n"
     ]
    },
    {
     "data": {
      "text/html": [
       "<div>\n",
       "<style scoped>\n",
       "    .dataframe tbody tr th:only-of-type {\n",
       "        vertical-align: middle;\n",
       "    }\n",
       "\n",
       "    .dataframe tbody tr th {\n",
       "        vertical-align: top;\n",
       "    }\n",
       "\n",
       "    .dataframe thead th {\n",
       "        text-align: right;\n",
       "    }\n",
       "</style>\n",
       "<table border=\"1\" class=\"dataframe\">\n",
       "  <thead>\n",
       "    <tr style=\"text-align: right;\">\n",
       "      <th></th>\n",
       "      <th>Spalte</th>\n",
       "      <th>Datentyp</th>\n",
       "      <th>Eindeutige Werte</th>\n",
       "      <th>Fehlende Werte</th>\n",
       "      <th>Nicht-Leere Werte</th>\n",
       "    </tr>\n",
       "  </thead>\n",
       "  <tbody>\n",
       "    <tr>\n",
       "      <th>0</th>\n",
       "      <td>lieferscheinnummer</td>\n",
       "      <td>object</td>\n",
       "      <td>28869</td>\n",
       "      <td>0</td>\n",
       "      <td>28924</td>\n",
       "    </tr>\n",
       "    <tr>\n",
       "      <th>1</th>\n",
       "      <td>lieferantennummer</td>\n",
       "      <td>object</td>\n",
       "      <td>21</td>\n",
       "      <td>0</td>\n",
       "      <td>28924</td>\n",
       "    </tr>\n",
       "    <tr>\n",
       "      <th>2</th>\n",
       "      <td>lieferantenbezeichnung</td>\n",
       "      <td>object</td>\n",
       "      <td>21</td>\n",
       "      <td>0</td>\n",
       "      <td>28924</td>\n",
       "    </tr>\n",
       "    <tr>\n",
       "      <th>3</th>\n",
       "      <td>materialnummer</td>\n",
       "      <td>object</td>\n",
       "      <td>32</td>\n",
       "      <td>0</td>\n",
       "      <td>28924</td>\n",
       "    </tr>\n",
       "    <tr>\n",
       "      <th>4</th>\n",
       "      <td>materialbezeichnung</td>\n",
       "      <td>object</td>\n",
       "      <td>25</td>\n",
       "      <td>0</td>\n",
       "      <td>28924</td>\n",
       "    </tr>\n",
       "    <tr>\n",
       "      <th>5</th>\n",
       "      <td>land</td>\n",
       "      <td>object</td>\n",
       "      <td>8</td>\n",
       "      <td>0</td>\n",
       "      <td>28924</td>\n",
       "    </tr>\n",
       "    <tr>\n",
       "      <th>6</th>\n",
       "      <td>bestelldatum</td>\n",
       "      <td>datetime64[ns]</td>\n",
       "      <td>349</td>\n",
       "      <td>0</td>\n",
       "      <td>28924</td>\n",
       "    </tr>\n",
       "    <tr>\n",
       "      <th>7</th>\n",
       "      <td>lieferdatum_soll</td>\n",
       "      <td>datetime64[ns]</td>\n",
       "      <td>365</td>\n",
       "      <td>0</td>\n",
       "      <td>28924</td>\n",
       "    </tr>\n",
       "    <tr>\n",
       "      <th>8</th>\n",
       "      <td>wareneingangsdatum_we</td>\n",
       "      <td>datetime64[ns]</td>\n",
       "      <td>365</td>\n",
       "      <td>0</td>\n",
       "      <td>28924</td>\n",
       "    </tr>\n",
       "    <tr>\n",
       "      <th>9</th>\n",
       "      <td>soll_menge</td>\n",
       "      <td>int64</td>\n",
       "      <td>451</td>\n",
       "      <td>0</td>\n",
       "      <td>28924</td>\n",
       "    </tr>\n",
       "    <tr>\n",
       "      <th>10</th>\n",
       "      <td>we_menge</td>\n",
       "      <td>int64</td>\n",
       "      <td>505</td>\n",
       "      <td>0</td>\n",
       "      <td>28924</td>\n",
       "    </tr>\n",
       "    <tr>\n",
       "      <th>11</th>\n",
       "      <td>verspätungstage</td>\n",
       "      <td>int64</td>\n",
       "      <td>6</td>\n",
       "      <td>0</td>\n",
       "      <td>28924</td>\n",
       "    </tr>\n",
       "  </tbody>\n",
       "</table>\n",
       "</div>"
      ],
      "text/plain": [
       "                    Spalte        Datentyp  Eindeutige Werte  Fehlende Werte  \\\n",
       "0       lieferscheinnummer          object             28869               0   \n",
       "1        lieferantennummer          object                21               0   \n",
       "2   lieferantenbezeichnung          object                21               0   \n",
       "3           materialnummer          object                32               0   \n",
       "4      materialbezeichnung          object                25               0   \n",
       "5                     land          object                 8               0   \n",
       "6             bestelldatum  datetime64[ns]               349               0   \n",
       "7         lieferdatum_soll  datetime64[ns]               365               0   \n",
       "8    wareneingangsdatum_we  datetime64[ns]               365               0   \n",
       "9               soll_menge           int64               451               0   \n",
       "10                we_menge           int64               505               0   \n",
       "11         verspätungstage           int64                 6               0   \n",
       "\n",
       "    Nicht-Leere Werte  \n",
       "0               28924  \n",
       "1               28924  \n",
       "2               28924  \n",
       "3               28924  \n",
       "4               28924  \n",
       "5               28924  \n",
       "6               28924  \n",
       "7               28924  \n",
       "8               28924  \n",
       "9               28924  \n",
       "10              28924  \n",
       "11              28924  "
      ]
     },
     "execution_count": 31,
     "metadata": {},
     "output_type": "execute_result"
    }
   ],
   "source": [
    "# Datenprofil für den Liefertreue-Datensatz\n",
    "data_profile = {\n",
    "    \"Spalte\": cleaned_liefertreue_2024_df.columns,\n",
    "    \"Datentyp\": cleaned_liefertreue_2024_df.dtypes.values,\n",
    "    \"Eindeutige Werte\": cleaned_liefertreue_2024_df.nunique().values,\n",
    "    \"Fehlende Werte\": cleaned_liefertreue_2024_df.isnull().sum().values,\n",
    "    \"Nicht-Leere Werte\": cleaned_liefertreue_2024_df.notnull().sum().values,\n",
    "}\n",
    "\n",
    "profile_df = pd.DataFrame(data_profile)\n",
    "\n",
    "print('Datenprofil für den Liefertreue-Datensatz')\n",
    "# Profiling anzeigen\n",
    "profile_df.head(12)"
   ]
  },
  {
   "cell_type": "code",
   "execution_count": 32,
   "metadata": {},
   "outputs": [
    {
     "name": "stdout",
     "output_type": "stream",
     "text": [
      "Form des Datensatzes: (28924, 17)\n",
      "<class 'pandas.core.frame.DataFrame'>\n",
      "Index: 28924 entries, 0 to 29999\n",
      "Data columns (total 17 columns):\n",
      " #   Column                   Non-Null Count  Dtype         \n",
      "---  ------                   --------------  -----         \n",
      " 0   lieferscheinnummer       28924 non-null  object        \n",
      " 1   lieferantennummer        28924 non-null  object        \n",
      " 2   lieferantenbezeichnung   28924 non-null  object        \n",
      " 3   materialnummer           28924 non-null  object        \n",
      " 4   materialbezeichnung      28924 non-null  object        \n",
      " 5   land                     28924 non-null  object        \n",
      " 6   bestelldatum             28924 non-null  datetime64[ns]\n",
      " 7   lieferdatum_soll         28924 non-null  datetime64[ns]\n",
      " 8   wareneingangsdatum_we    28924 non-null  datetime64[ns]\n",
      " 9   soll_menge               28924 non-null  int64         \n",
      " 10  we_menge                 28924 non-null  int64         \n",
      " 11  verspätungstage          28924 non-null  int64         \n",
      " 12  liefertreue              28924 non-null  object        \n",
      " 13  termintreue              28924 non-null  object        \n",
      " 14  mengenabweichung_anteil  28924 non-null  float64       \n",
      " 15  mengenabweichung         28924 non-null  int64         \n",
      " 16  jahreszeit               28924 non-null  object        \n",
      "dtypes: datetime64[ns](3), float64(1), int64(4), object(9)\n",
      "memory usage: 4.0+ MB\n",
      "None\n"
     ]
    }
   ],
   "source": [
    "print(f\"Form des Datensatzes: {cleaned_liefertreue_2024_df.shape}\")\n",
    "print(cleaned_liefertreue_2024_df.info())"
   ]
  },
  {
   "cell_type": "markdown",
   "metadata": {},
   "source": [
    "#### **Verteilung Anzahl Lieferungen nach Termintreue**"
   ]
  },
  {
   "cell_type": "code",
   "execution_count": 33,
   "metadata": {},
   "outputs": [
    {
     "data": {
      "image/png": "[encoded data removed]",
      "text/plain": [
       "<Figure size 800x400 with 1 Axes>"
      ]
     },
     "metadata": {},
     "output_type": "display_data"
    }
   ],
   "source": [
    "# Crosstab erstellen\n",
    "cross_tab = pd.crosstab(cleaned_liefertreue_2024_df[\"termintreue\"], cleaned_liefertreue_2024_df[\"liefertreue\"])\n",
    "\n",
    "# Plotten der Crosstab-Daten\n",
    "cross_tab.plot(kind=\"bar\", stacked=True, figsize=(8, 4), color=[\"darkgrey\", \"darkblue\"])\n",
    "plt.title(\"Verteilung Termintreue\")\n",
    "plt.xlabel(\"Termintreue\")\n",
    "plt.ylabel(\"Anzahl Lieferungen\")\n",
    "plt.xticks(rotation=0)\n",
    "plt.legend(title=\"liefertreue\", loc=\"upper right\")\n",
    "plt.grid(axis=\"y\", linestyle=\"--\", alpha=0.23)\n",
    "plt.show()"
   ]
  },
  {
   "cell_type": "markdown",
   "metadata": {},
   "source": [
    "#### **Berechnung der durchschnittlichen Verspätung pro Monat**"
   ]
  },
  {
   "cell_type": "code",
   "execution_count": 34,
   "metadata": {},
   "outputs": [
    {
     "data": {
      "image/png": "[encoded data removed]",
      "text/plain": [
       "<Figure size 800x400 with 1 Axes>"
      ]
     },
     "metadata": {},
     "output_type": "display_data"
    }
   ],
   "source": [
    "# Konvertierung \"bestelldatum\" in datetime\n",
    "cleaned_liefertreue_2024_df[\"liefermonat\"] = pd.to_datetime(\n",
    "    cleaned_liefertreue_2024_df[\"lieferdatum_soll\"], errors=\"coerce\"\n",
    ")\n",
    "\n",
    "# Überprüfung auf ungültige Werte in \"bestelldatum\"\n",
    "invalid_dates = cleaned_liefertreue_2024_df[cleaned_liefertreue_2024_df[\"lieferdatum_soll\"].isnull()]\n",
    "if not invalid_dates.empty:\n",
    "    print(\"Ungültige Werte in 'lieferdatum_soll':\")\n",
    "    print(invalid_dates)\n",
    "\n",
    "# Extrahiere den Monat aus \"bestelldatum\"\n",
    "cleaned_liefertreue_2024_df[\"liefermonat\"] = cleaned_liefertreue_2024_df[\"lieferdatum_soll\"].dt.month\n",
    "\n",
    "# Überprüfung der Spalte \"verspätungstage\"\n",
    "#print(\"Zusammenfassung der Verspätungstage:\")\n",
    "#print(cleaned_liefertreue_2024_df[\"verspätungstage\"].describe())\n",
    "\n",
    "# Gruppierung nach Monat und Berechnung der durchschnittlichen Verspätung\n",
    "monthly_summary = cleaned_liefertreue_2024_df.groupby(\"liefermonat\")[\"verspätungstage\"].mean()\n",
    "#print(\"\\nDurchschnittliche Verspätung pro Monat:\")\n",
    "#print(monthly_summary)\n",
    "\n",
    "# Plot\n",
    "plt.figure(figsize=(8, 4))\n",
    "monthly_summary.plot(kind=\"line\", marker=\"*\", color=\"darkblue\")\n",
    "plt.title(\"Durchschnittliche Verspätung pro Monat\", fontsize=14)\n",
    "plt.xlabel(\"Monat\", fontsize=12)\n",
    "plt.ylabel(\"Durchschnittliche Verspätungstage\", fontsize=12)\n",
    "plt.xticks(range(1, 13), labels=[\"Jan\", \"Feb\", \"Mär\", \"Apr\", \"Mai\", \"Jun\", \"Jul\", \"Aug\", \"Sep\", \"Okt\", \"Nov\", \"Dez\"], fontsize=10)\n",
    "plt.grid(axis=\"both\", linestyle=\"--\", alpha=0.7)\n",
    "plt.tight_layout()\n",
    "plt.show()"
   ]
  },
  {
   "cell_type": "markdown",
   "metadata": {},
   "source": [
    "#### **Top 5 Lieferanten mit den meisten Liefertreue-Probleme**"
   ]
  },
  {
   "cell_type": "code",
   "execution_count": 35,
   "metadata": {},
   "outputs": [
    {
     "data": {
      "image/png": "[encoded data removed]",
      "text/plain": [
       "<Figure size 800x400 with 1 Axes>"
      ]
     },
     "metadata": {},
     "output_type": "display_data"
    }
   ],
   "source": [
    "# Berechnung der Anzahl \"Nein\" (schlechte Liefertreue) pro Lieferant\n",
    "problematic_deliveries_by_supplier = cleaned_liefertreue_2024_df[\n",
    "    cleaned_liefertreue_2024_df[\"liefertreue\"] == \"Nein\"\n",
    "].groupby(\"lieferantenbezeichnung\").size()\n",
    "\n",
    "# Top 5 Lieferanten mit den meisten problematischen Lieferungen\n",
    "top_5_suppliers = problematic_deliveries_by_supplier.sort_values(ascending=False).head(5)\n",
    "\n",
    "colors = [\"#1976D2\"] * len(top_5_suppliers)  # Standardfarbe für alle Balken\n",
    "if len(top_5_suppliers) == 2:\n",
    "    colors = [\"#1976D2\", \"#63B2EE\"] \n",
    "    \n",
    "bars = plt.bar(top_5_suppliers.index, top_5_suppliers.values, color=colors)\n",
    "\n",
    "for bar in bars:\n",
    "    plt.text(\n",
    "        bar.get_x() + bar.get_width() / 2,  # X-Position: Mitte des Balkens\n",
    "        bar.get_height() + 0.5,             # Y-Position: knapp über dem Balken\n",
    "        int(bar.get_height()),              # Text (Anzahl der problematischen Lieferungen)\n",
    "        ha=\"center\", va=\"bottom\", fontsize=10, color=\"black\"  # Textausrichtung und Formatierung\n",
    "    )\n",
    "\n",
    "# Balkendiagramm erstellen\n",
    "top_5_suppliers.plot(kind=\"bar\", figsize=(8, 4), color=colors)\n",
    "plt.title(\"Top 5 Lieferanten mit den meisten Liefertreue-Problemen\")\n",
    "plt.xlabel(\"Lieferantenbezeichnung\")\n",
    "plt.ylabel(\"Anzahl problematischer Lieferungen\")\n",
    "plt.xticks(rotation=45)\n",
    "plt.grid(axis=\"y\", linestyle=\"--\", alpha=0.23)\n",
    "plt.tight_layout()\n",
    "plt.show()"
   ]
  },
  {
   "cell_type": "markdown",
   "metadata": {},
   "source": [
    "#### **Liefertreue nach Land**"
   ]
  },
  {
   "cell_type": "code",
   "execution_count": 36,
   "metadata": {},
   "outputs": [
    {
     "data": {
      "text/plain": [
       "<Figure size 800x400 with 0 Axes>"
      ]
     },
     "metadata": {},
     "output_type": "display_data"
    },
    {
     "data": {
      "image/png": "[encoded data removed]",
      "text/plain": [
       "<Figure size 640x480 with 1 Axes>"
      ]
     },
     "metadata": {},
     "output_type": "display_data"
    }
   ],
   "source": [
    "# Analyse Kategorische Daten und Länder\n",
    "\n",
    "# Berechnung der Anzahl von Liefertreue (\"Ja\" und \"Nein\") nach Land\n",
    "delivery_accuracy_by_country = cleaned_liefertreue_2024_df.groupby([\"land\", \"termintreue\"]).size().unstack()\n",
    "\n",
    "# Plot: Balkendiagramm für die Termintreue nach Land\n",
    "plt.figure(figsize=(8, 4))\n",
    "\n",
    "delivery_accuracy_by_country.plot(\n",
    "    kind=\"bar\",\n",
    "    stacked=False,\n",
    "    color=[\"#1976D2\", \"#D32F2F\", \"#FFB300\"],  # Farben für die Kategorien (z. B. pünktlich, verspätet, früh)\n",
    "    edgecolor=\"black\"\n",
    ")\n",
    "\n",
    "# Diagrammtitel und Achsentitel\n",
    "plt.title(\"Liefertermintreue nach Land\", fontsize=14)\n",
    "plt.xlabel(\"Land\", fontsize=12)\n",
    "plt.ylabel(\"Anzahl der Lieferungen\", fontsize=12)\n",
    "plt.xticks(rotation=0, fontsize=10)  # Keine Drehung der X-Achsen-Beschriftung\n",
    "plt.legend(title=\"Termintreue\", fontsize=10)\n",
    "plt.grid(axis=\"y\", linestyle=\"--\", alpha=0.7)  # Horizontales Gitter für bessere Lesbarkeit\n",
    "plt.tight_layout()  # Optimierung des Layouts\n",
    "plt.show()"
   ]
  },
  {
   "cell_type": "markdown",
   "metadata": {},
   "source": [
    "#### **Analyse der Datenverteilung - Histogramm**"
   ]
  },
  {
   "cell_type": "code",
   "execution_count": 37,
   "metadata": {},
   "outputs": [
    {
     "data": {
      "image/png": "[encoded data removed]",
      "text/plain": [
       "<Figure size 800x400 with 1 Axes>"
      ]
     },
     "metadata": {},
     "output_type": "display_data"
    },
    {
     "data": {
      "image/png": "[encoded data removed]",
      "text/plain": [
       "<Figure size 800x400 with 1 Axes>"
      ]
     },
     "metadata": {},
     "output_type": "display_data"
    },
    {
     "data": {
      "image/png": "[encoded data removed]",
      "text/plain": [
       "<Figure size 800x400 with 1 Axes>"
      ]
     },
     "metadata": {},
     "output_type": "display_data"
    }
   ],
   "source": [
    "# Liste der numerischen Spalten zur Untersuchung\n",
    "\n",
    "numerical_columns = [\"soll_menge\", \"we_menge\", \"verspätungstage\"] \n",
    "\n",
    "# Überprüfen, ob die Spalten im DataFrame existieren\n",
    "existing_columns = [col for col in numerical_columns if col in cleaned_liefertreue_2024_df.columns]\n",
    "\n",
    "# Histogramme für jede numerische Spalte erstellen\n",
    "for column in existing_columns:\n",
    "    plt.figure(figsize=(8, 4))\n",
    "    sns.histplot(\n",
    "        cleaned_liefertreue_2024_df[column], \n",
    "        kde=True,  # Kernel Density Estimation (Kurve)\n",
    "        bins=30, \n",
    "        edgecolor=\"black\", \n",
    "        color=\"#1976D2\"\n",
    "    )\n",
    "    plt.title(f\"Histogramm: {column}\", fontsize=14)\n",
    "    plt.xlabel(column, fontsize=12)\n",
    "    plt.ylabel(\"Häufigkeit\", fontsize=12)\n",
    "    plt.grid(axis=\"y\", linestyle=\"--\", alpha=0.5)\n",
    "    plt.tight_layout()  # Optimiert das Layout\n",
    "    plt.show()"
   ]
  },
  {
   "cell_type": "markdown",
   "metadata": {},
   "source": [
    "### **Relationships**"
   ]
  },
  {
   "cell_type": "markdown",
   "metadata": {},
   "source": [
    "Zusammenhänge zwischen Variable untersuchen, wie ob Korrelationen, Muster oder Abhängikeiten vorhanden sind"
   ]
  },
  {
   "cell_type": "code",
   "execution_count": 38,
   "metadata": {},
   "outputs": [
    {
     "data": {
      "text/html": [
       "<div>\n",
       "<style scoped>\n",
       "    .dataframe tbody tr th:only-of-type {\n",
       "        vertical-align: middle;\n",
       "    }\n",
       "\n",
       "    .dataframe tbody tr th {\n",
       "        vertical-align: top;\n",
       "    }\n",
       "\n",
       "    .dataframe thead th {\n",
       "        text-align: right;\n",
       "    }\n",
       "</style>\n",
       "<table border=\"1\" class=\"dataframe\">\n",
       "  <thead>\n",
       "    <tr style=\"text-align: right;\">\n",
       "      <th></th>\n",
       "      <th>lieferscheinnummer</th>\n",
       "      <th>lieferantennummer</th>\n",
       "      <th>lieferantenbezeichnung</th>\n",
       "      <th>materialnummer</th>\n",
       "      <th>materialbezeichnung</th>\n",
       "      <th>land</th>\n",
       "      <th>bestelldatum</th>\n",
       "      <th>lieferdatum_soll</th>\n",
       "      <th>wareneingangsdatum_we</th>\n",
       "      <th>soll_menge</th>\n",
       "      <th>we_menge</th>\n",
       "      <th>verspätungstage</th>\n",
       "      <th>liefertreue</th>\n",
       "      <th>termintreue</th>\n",
       "      <th>mengenabweichung_anteil</th>\n",
       "      <th>mengenabweichung</th>\n",
       "      <th>jahreszeit</th>\n",
       "      <th>liefermonat</th>\n",
       "    </tr>\n",
       "  </thead>\n",
       "  <tbody>\n",
       "    <tr>\n",
       "      <th>0</th>\n",
       "      <td>LS5412357</td>\n",
       "      <td>LA1031</td>\n",
       "      <td>SEW-EUR</td>\n",
       "      <td>A2341441</td>\n",
       "      <td>STEUERUNGEN</td>\n",
       "      <td>PL</td>\n",
       "      <td>2024-03-11</td>\n",
       "      <td>2024-04-09</td>\n",
       "      <td>2024-04-09</td>\n",
       "      <td>110</td>\n",
       "      <td>104</td>\n",
       "      <td>0</td>\n",
       "      <td>Ja</td>\n",
       "      <td>pünktlich</td>\n",
       "      <td>5.454545</td>\n",
       "      <td>-6</td>\n",
       "      <td>Frühling</td>\n",
       "      <td>4</td>\n",
       "    </tr>\n",
       "    <tr>\n",
       "      <th>1</th>\n",
       "      <td>LS9371283</td>\n",
       "      <td>LA1015</td>\n",
       "      <td>WIELAND-WERK</td>\n",
       "      <td>A1842836</td>\n",
       "      <td>KUPFERLEGIERUNGEN</td>\n",
       "      <td>DE</td>\n",
       "      <td>2024-07-15</td>\n",
       "      <td>2024-08-08</td>\n",
       "      <td>2024-08-11</td>\n",
       "      <td>198</td>\n",
       "      <td>210</td>\n",
       "      <td>3</td>\n",
       "      <td>Nein</td>\n",
       "      <td>verspätet</td>\n",
       "      <td>-6.060606</td>\n",
       "      <td>12</td>\n",
       "      <td>Sommer</td>\n",
       "      <td>8</td>\n",
       "    </tr>\n",
       "    <tr>\n",
       "      <th>2</th>\n",
       "      <td>LS6013338</td>\n",
       "      <td>LA1014</td>\n",
       "      <td>LEONI AG</td>\n",
       "      <td>A1624957</td>\n",
       "      <td>KABEL</td>\n",
       "      <td>CH</td>\n",
       "      <td>2024-03-19</td>\n",
       "      <td>2024-03-26</td>\n",
       "      <td>2024-03-26</td>\n",
       "      <td>94</td>\n",
       "      <td>88</td>\n",
       "      <td>0</td>\n",
       "      <td>Ja</td>\n",
       "      <td>pünktlich</td>\n",
       "      <td>6.382979</td>\n",
       "      <td>-6</td>\n",
       "      <td>Frühling</td>\n",
       "      <td>3</td>\n",
       "    </tr>\n",
       "    <tr>\n",
       "      <th>3</th>\n",
       "      <td>LS7058941</td>\n",
       "      <td>LA1018</td>\n",
       "      <td>SEW-EURODRIV</td>\n",
       "      <td>A8657694</td>\n",
       "      <td>GETRIEBEMOTOREN</td>\n",
       "      <td>DE</td>\n",
       "      <td>2024-08-12</td>\n",
       "      <td>2024-08-26</td>\n",
       "      <td>2024-08-31</td>\n",
       "      <td>250</td>\n",
       "      <td>237</td>\n",
       "      <td>5</td>\n",
       "      <td>Nein</td>\n",
       "      <td>verspätet</td>\n",
       "      <td>5.200000</td>\n",
       "      <td>-13</td>\n",
       "      <td>Sommer</td>\n",
       "      <td>8</td>\n",
       "    </tr>\n",
       "    <tr>\n",
       "      <th>4</th>\n",
       "      <td>LS2038973</td>\n",
       "      <td>LA1025</td>\n",
       "      <td>THYSSENKRUPP</td>\n",
       "      <td>A1864991</td>\n",
       "      <td>LENKSYSTEME</td>\n",
       "      <td>DE</td>\n",
       "      <td>2024-11-30</td>\n",
       "      <td>2024-12-21</td>\n",
       "      <td>2024-12-21</td>\n",
       "      <td>227</td>\n",
       "      <td>230</td>\n",
       "      <td>0</td>\n",
       "      <td>Ja</td>\n",
       "      <td>pünktlich</td>\n",
       "      <td>-1.321586</td>\n",
       "      <td>3</td>\n",
       "      <td>Winter</td>\n",
       "      <td>12</td>\n",
       "    </tr>\n",
       "  </tbody>\n",
       "</table>\n",
       "</div>"
      ],
      "text/plain": [
       "  lieferscheinnummer lieferantennummer lieferantenbezeichnung materialnummer  \\\n",
       "0          LS5412357            LA1031                SEW-EUR       A2341441   \n",
       "1          LS9371283            LA1015           WIELAND-WERK       A1842836   \n",
       "2          LS6013338            LA1014               LEONI AG       A1624957   \n",
       "3          LS7058941            LA1018           SEW-EURODRIV       A8657694   \n",
       "4          LS2038973            LA1025           THYSSENKRUPP       A1864991   \n",
       "\n",
       "  materialbezeichnung land bestelldatum lieferdatum_soll  \\\n",
       "0         STEUERUNGEN   PL   2024-03-11       2024-04-09   \n",
       "1   KUPFERLEGIERUNGEN   DE   2024-07-15       2024-08-08   \n",
       "2               KABEL   CH   2024-03-19       2024-03-26   \n",
       "3     GETRIEBEMOTOREN   DE   2024-08-12       2024-08-26   \n",
       "4         LENKSYSTEME   DE   2024-11-30       2024-12-21   \n",
       "\n",
       "  wareneingangsdatum_we  soll_menge  we_menge  verspätungstage liefertreue  \\\n",
       "0            2024-04-09         110       104                0          Ja   \n",
       "1            2024-08-11         198       210                3        Nein   \n",
       "2            2024-03-26          94        88                0          Ja   \n",
       "3            2024-08-31         250       237                5        Nein   \n",
       "4            2024-12-21         227       230                0          Ja   \n",
       "\n",
       "  termintreue  mengenabweichung_anteil  mengenabweichung jahreszeit  \\\n",
       "0   pünktlich                 5.454545                -6   Frühling   \n",
       "1   verspätet                -6.060606                12     Sommer   \n",
       "2   pünktlich                 6.382979                -6   Frühling   \n",
       "3   verspätet                 5.200000               -13     Sommer   \n",
       "4   pünktlich                -1.321586                 3     Winter   \n",
       "\n",
       "   liefermonat  \n",
       "0            4  \n",
       "1            8  \n",
       "2            3  \n",
       "3            8  \n",
       "4           12  "
      ]
     },
     "execution_count": 38,
     "metadata": {},
     "output_type": "execute_result"
    }
   ],
   "source": [
    "cleaned_liefertreue_2024_df.head()"
   ]
  },
  {
   "cell_type": "markdown",
   "metadata": {},
   "source": [
    "#### **Korrelationsmatrix**"
   ]
  },
  {
   "cell_type": "code",
   "execution_count": 39,
   "metadata": {},
   "outputs": [
    {
     "data": {
      "image/png": "[encoded data removed]",
      "text/plain": [
       "<Figure size 1000x800 with 2 Axes>"
      ]
     },
     "metadata": {},
     "output_type": "display_data"
    }
   ],
   "source": [
    "# Auswahl nur der numerischen Spalten\n",
    "numerical_df = cleaned_liefertreue_2024_df.select_dtypes(include=[\"float64\", \"int64\"])\n",
    "\n",
    "# Korrelationsmatrix berechnen\n",
    "correlation_matrix = numerical_df.corr()\n",
    "\n",
    "# Heatmap der Korrelationen erstellen\n",
    "plt.figure(figsize=(10, 8))  # Größeres Diagramm für bessere Lesbarkeit\n",
    "sns.heatmap(\n",
    "    correlation_matrix, \n",
    "    annot=True,           # Zeigt die Korrelationswerte direkt in den Feldern an\n",
    "    cmap=\"coolwarm\",      # Farbpalette für positive/negative Werte\n",
    "    fmt=\".2f\",            # Formatierung der Werte (zwei Dezimalstellen)\n",
    "    vmin=-1, vmax=1,      # Wertebereich der Korrelationen (-1 bis 1)\n",
    "    square=True,          # Quadratische Felder für ein symmetrisches Layout\n",
    "    linewidths=0.5,       # Linienstärke zwischen den Feldern\n",
    "    cbar_kws={\"shrink\": 0.8}  # Größe der Farblegende anpassen\n",
    ")\n",
    "plt.title(\"Korrelationsmatrix (nur numerische Werte)\", fontsize=14)\n",
    "plt.xticks(fontsize=10, rotation=45)  # X-Achsenbeschriftung drehen\n",
    "plt.yticks(fontsize=10)               # Y-Achsenbeschriftung\n",
    "plt.tight_layout()                    # Optimiert das Layout\n",
    "plt.show()"
   ]
  },
  {
   "cell_type": "markdown",
   "metadata": {},
   "source": [
    "**Heatmap der Korrelationen - Interpretation**\n",
    "\n",
    "Interpretation der Ergebnisse\n",
    "1.\tHohe positive Korrelation (z. B. 0.98):\n",
    "Eine fast perfekte positive Korrelation bedeutet, dass die Werte beider Variablen fast linear ansteigen. Beispiel: soll_menge und we_menge.\n",
    "2.\tHohe negative Korrelation (z. B. -0.8):\n",
    "Eine starke negative Korrelation bedeutet, dass eine Variable ansteigt, während die andere abnimmt. Beispiel: Könnte auftreten, wenn verspätungstage stark mit einer anderen Variable invers korreliert ist.\n",
    "3.\tSchwache oder keine Korrelation (z. B. 0.2):\n",
    "Dies deutet darauf hin, dass die beiden Variablen keine starke Beziehung zueinander haben.\n",
    "\n",
    "Heatmap:\n",
    " - Positive Korrelationen (z. B. zwischen soll_menge und we_menge) werden in Rot dargestellt.\n",
    " - Negative Korrelationen (falls vorhanden) werden in Blau dargestellt.\n",
    " - Werte nahe 1 zeigen eine starke positive Korrelation.\n",
    " - Werte nahe -1 zeigen eine starke negative Korrelation.\n",
    " - Werte nahe 0 zeigen, dass es keine Korrelation gibt."
   ]
  },
  {
   "cell_type": "code",
   "execution_count": 40,
   "metadata": {},
   "outputs": [
    {
     "data": {
      "text/plain": [
       "<Figure size 800x400 with 0 Axes>"
      ]
     },
     "metadata": {},
     "output_type": "display_data"
    },
    {
     "data": {
      "image/png": "[encoded data removed]",
      "text/plain": [
       "<Figure size 983.361x600 with 1 Axes>"
      ]
     },
     "metadata": {},
     "output_type": "display_data"
    }
   ],
   "source": [
    "# Scatterplot mit Regressionslinie\n",
    "# Beziehung zwischen Soll_Menge und WE_M# - Eine lineare Beziehung (dargestellt durch die Regressionslinie) deutet darauf hin, dass die WE-Menge in der Regel proportional zur Soll-Menge ist. Das wäre ein Zeichen für gut funktionierende Prozesse.\n",
    "plt.figure(figsize=(8, 4))\n",
    "sns.lmplot(data=cleaned_liefertreue_2024_df, x=\"soll_menge\", y=\"we_menge\", hue=\"liefertreue\", height=6, aspect=1.5)\n",
    "plt.title(\"Scatterplot: Soll-Menge vs. WE-Menge\", fontsize=14)\n",
    "plt.show()"
   ]
  },
  {
   "cell_type": "markdown",
   "metadata": {},
   "source": [
    "Bemerkung: \n",
    "\n",
    "1: Starke positive Korrelation\n",
    " - Die Punkte liegen eng entlang der Regressionslinie.\n",
    " - Die WE-Menge ist proportional zur Soll-Menge.\n",
    " - Liefertreue (“Ja”) zeigt, dass pünktliche Lieferungen meist in Übereinstimmung mit der Soll-Menge erfolgen.\n",
    "\n",
    "2: Schwache oder keine Korrelation\n",
    " - Die Punkte sind stark gestreut und haben keinen erkennbaren Trend.\n",
    " - Es gibt keine klare Beziehung zwischen Soll-Menge und WE-Menge.\n",
    " - Dies könnte auf inkonsistente Prozesse bei Lieferanten hinweisen.\n",
    "\n",
    "3: Auffällige Streuung nach Liefertreue\n",
    " - Lieferungen mit schlechter Liefertreue (“Nein”) weichen stärker von der Soll-Menge ab.\n",
    " - Dies deutet darauf hin, dass verspätete Lieferungen häufiger auch Probleme bei der Übereinstimmung der Mengen haben."
   ]
  },
  {
   "cell_type": "markdown",
   "metadata": {},
   "source": [
    "## Model"
   ]
  },
  {
   "cell_type": "markdown",
   "metadata": {},
   "source": [
    "### Select model"
   ]
  },
  {
   "cell_type": "markdown",
   "metadata": {},
   "source": [
    "Die logistische Regression ist eine geeignete Wahl für dieses Problem, da die Zielvariable liefertreue binär ist (Ja/Nein). Sie eignet sich gut, um die Beziehung zwischen den Eingangsvariablen (z. B. soll_menge, we_menge, verspätungstage) und der Zielvariable zu modellieren, und liefert interpretable Ergebnisse. Zudem ist sie effizient und robust bei linearen Zusammenhängen und bietet Informationen zur Bedeutung der einzelnen Eingangsvariablen.\n",
    "\n",
    " - Eingangsvariablen: soll_menge, we_menge, verspätungstage, land, termintreue.\n",
    " - Zielvariable: liefertreue (Ja/Nein).\n",
    " - Die logistische Regression kann verwendet werden, um vorherzusagen, ob eine Lieferung pünktlich sein wird, basierend auf diesen Merkmalen."
   ]
  },
  {
   "cell_type": "markdown",
   "metadata": {},
   "source": [
    "### Training and validation"
   ]
  },
  {
   "cell_type": "code",
   "execution_count": 41,
   "metadata": {},
   "outputs": [
    {
     "name": "stdout",
     "output_type": "stream",
     "text": [
      "Features und Zielvariable aus Trainings- und Testdaten erfolgreich extrahiert.\n"
     ]
    }
   ],
   "source": [
    "# Features und Zielvariable aus Trainings- und Testdaten extrahieren\n",
    "X_train = train_data_df[[\"soll_menge\", \"we_menge\", \"verspätungstage\"]]  \n",
    "y_train = train_data_df[\"liefertreue\"].map({\"Ja\": 1, \"Nein\": 0})  \n",
    "\n",
    "X_test = test_data_df[[\"soll_menge\", \"we_menge\", \"verspätungstage\"]]  \n",
    "y_test = test_data_df[\"liefertreue\"].map({\"Ja\": 1, \"Nein\": 0})  \n",
    "\n",
    "print(\"Features und Zielvariable aus Trainings- und Testdaten erfolgreich extrahiert.\")"
   ]
  },
  {
   "cell_type": "code",
   "execution_count": 42,
   "metadata": {},
   "outputs": [
    {
     "name": "stdout",
     "output_type": "stream",
     "text": [
      "Features und Zielvariable aus Trainings- und Testdaten erfolgreich extrahiert.\n"
     ]
    }
   ],
   "source": [
    "# Dummy-Kodierung für kategorische Variablen (jahreszeit, land)\n",
    "train_data_encoded = pd.get_dummies(train_data_df, columns=[\"jahreszeit\", \"land\"], drop_first=True)\n",
    "test_data_encoded = pd.get_dummies(test_data_df, columns=[\"jahreszeit\", \"land\"], drop_first=True)\n",
    "\n",
    "# Sicherstellen, dass beide Datensätze dieselben Spalten haben (falls Unterschiede auftreten)\n",
    "train_data_encoded, test_data_encoded = train_data_encoded.align(test_data_encoded, join=\"left\", axis=1, fill_value=0)\n",
    "\n",
    "# Features und Zielvariable extrahieren\n",
    "X_train = train_data_encoded[[\"soll_menge\", \"we_menge\", \"verspätungstage\"] +\n",
    "                             [col for col in train_data_encoded.columns if col.startswith(\"jahreszeit_\") or col.startswith(\"land_\")]]\n",
    "y_train = train_data_encoded[\"liefertreue\"].map({\"Ja\": 1, \"Nein\": 0})\n",
    "\n",
    "X_test = test_data_encoded[[\"soll_menge\", \"we_menge\", \"verspätungstage\"] +\n",
    "                           [col for col in test_data_encoded.columns if col.startswith(\"jahreszeit_\") or col.startswith(\"land_\")]]\n",
    "y_test = test_data_encoded[\"liefertreue\"].map({\"Ja\": 1, \"Nein\": 0})\n",
    "\n",
    "print(\"Features und Zielvariable aus Trainings- und Testdaten erfolgreich extrahiert.\")"
   ]
  },
  {
   "cell_type": "code",
   "execution_count": 43,
   "metadata": {},
   "outputs": [
    {
     "data": {
      "text/html": [
       "<div>\n",
       "<style scoped>\n",
       "    .dataframe tbody tr th:only-of-type {\n",
       "        vertical-align: middle;\n",
       "    }\n",
       "\n",
       "    .dataframe tbody tr th {\n",
       "        vertical-align: top;\n",
       "    }\n",
       "\n",
       "    .dataframe thead th {\n",
       "        text-align: right;\n",
       "    }\n",
       "</style>\n",
       "<table border=\"1\" class=\"dataframe\">\n",
       "  <thead>\n",
       "    <tr style=\"text-align: right;\">\n",
       "      <th></th>\n",
       "      <th>lieferscheinnummer</th>\n",
       "      <th>lieferantennummer</th>\n",
       "      <th>lieferantenbezeichnung</th>\n",
       "      <th>materialnummer</th>\n",
       "      <th>materialbezeichnung</th>\n",
       "      <th>land</th>\n",
       "      <th>bestelldatum</th>\n",
       "      <th>lieferdatum_soll</th>\n",
       "      <th>wareneingangsdatum_we</th>\n",
       "      <th>soll_menge</th>\n",
       "      <th>we_menge</th>\n",
       "      <th>verspätungstage</th>\n",
       "      <th>liefertreue</th>\n",
       "      <th>termintreue</th>\n",
       "      <th>mengenabweichung_anteil</th>\n",
       "      <th>mengenabweichung</th>\n",
       "      <th>jahreszeit</th>\n",
       "    </tr>\n",
       "  </thead>\n",
       "  <tbody>\n",
       "    <tr>\n",
       "      <th>19636</th>\n",
       "      <td>LS3573007</td>\n",
       "      <td>LA1000</td>\n",
       "      <td>ROBERT BOSCH</td>\n",
       "      <td>A4790913</td>\n",
       "      <td>UNIVERSALAUTOMOBILZULIEFERER</td>\n",
       "      <td>DE</td>\n",
       "      <td>2024-02-18</td>\n",
       "      <td>2024-03-04</td>\n",
       "      <td>2024-03-04</td>\n",
       "      <td>78</td>\n",
       "      <td>71</td>\n",
       "      <td>0</td>\n",
       "      <td>Ja</td>\n",
       "      <td>pünktlich</td>\n",
       "      <td>8.974359</td>\n",
       "      <td>-7</td>\n",
       "      <td>Frühling</td>\n",
       "    </tr>\n",
       "    <tr>\n",
       "      <th>14162</th>\n",
       "      <td>LS8921828</td>\n",
       "      <td>LA1029</td>\n",
       "      <td>FRITZ DRÄXLM</td>\n",
       "      <td>A3308310</td>\n",
       "      <td>ELEKTRONIK</td>\n",
       "      <td>NL</td>\n",
       "      <td>2024-06-05</td>\n",
       "      <td>2024-06-19</td>\n",
       "      <td>2024-06-19</td>\n",
       "      <td>97</td>\n",
       "      <td>99</td>\n",
       "      <td>0</td>\n",
       "      <td>Ja</td>\n",
       "      <td>pünktlich</td>\n",
       "      <td>-2.061856</td>\n",
       "      <td>2</td>\n",
       "      <td>Sommer</td>\n",
       "    </tr>\n",
       "    <tr>\n",
       "      <th>25182</th>\n",
       "      <td>LS2378876</td>\n",
       "      <td>LA1000</td>\n",
       "      <td>ROBERT BOSCH</td>\n",
       "      <td>A4790913</td>\n",
       "      <td>UNIVERSALAUTOMOBILZULIEFERER</td>\n",
       "      <td>DE</td>\n",
       "      <td>2024-01-22</td>\n",
       "      <td>2024-02-19</td>\n",
       "      <td>2024-02-19</td>\n",
       "      <td>203</td>\n",
       "      <td>185</td>\n",
       "      <td>0</td>\n",
       "      <td>Ja</td>\n",
       "      <td>pünktlich</td>\n",
       "      <td>8.866995</td>\n",
       "      <td>-18</td>\n",
       "      <td>Winter</td>\n",
       "    </tr>\n",
       "    <tr>\n",
       "      <th>1818</th>\n",
       "      <td>LS2802445</td>\n",
       "      <td>LA1014</td>\n",
       "      <td>LEONI AG</td>\n",
       "      <td>A1624957</td>\n",
       "      <td>KABEL</td>\n",
       "      <td>CH</td>\n",
       "      <td>2024-05-28</td>\n",
       "      <td>2024-06-23</td>\n",
       "      <td>2024-06-23</td>\n",
       "      <td>131</td>\n",
       "      <td>139</td>\n",
       "      <td>0</td>\n",
       "      <td>Ja</td>\n",
       "      <td>pünktlich</td>\n",
       "      <td>-6.106870</td>\n",
       "      <td>8</td>\n",
       "      <td>Sommer</td>\n",
       "    </tr>\n",
       "    <tr>\n",
       "      <th>17124</th>\n",
       "      <td>LS3418446</td>\n",
       "      <td>LA1001</td>\n",
       "      <td>CONTINENTAL</td>\n",
       "      <td>A5332867</td>\n",
       "      <td>UNIVERSALZULIEFERER</td>\n",
       "      <td>AT</td>\n",
       "      <td>2024-08-01</td>\n",
       "      <td>2024-08-07</td>\n",
       "      <td>2024-08-07</td>\n",
       "      <td>425</td>\n",
       "      <td>406</td>\n",
       "      <td>0</td>\n",
       "      <td>Ja</td>\n",
       "      <td>pünktlich</td>\n",
       "      <td>4.470588</td>\n",
       "      <td>-19</td>\n",
       "      <td>Sommer</td>\n",
       "    </tr>\n",
       "  </tbody>\n",
       "</table>\n",
       "</div>"
      ],
      "text/plain": [
       "      lieferscheinnummer lieferantennummer lieferantenbezeichnung  \\\n",
       "19636          LS3573007            LA1000           ROBERT BOSCH   \n",
       "14162          LS8921828            LA1029           FRITZ DRÄXLM   \n",
       "25182          LS2378876            LA1000           ROBERT BOSCH   \n",
       "1818           LS2802445            LA1014               LEONI AG   \n",
       "17124          LS3418446            LA1001            CONTINENTAL   \n",
       "\n",
       "      materialnummer           materialbezeichnung land bestelldatum  \\\n",
       "19636       A4790913  UNIVERSALAUTOMOBILZULIEFERER   DE   2024-02-18   \n",
       "14162       A3308310                    ELEKTRONIK   NL   2024-06-05   \n",
       "25182       A4790913  UNIVERSALAUTOMOBILZULIEFERER   DE   2024-01-22   \n",
       "1818        A1624957                         KABEL   CH   2024-05-28   \n",
       "17124       A5332867           UNIVERSALZULIEFERER   AT   2024-08-01   \n",
       "\n",
       "      lieferdatum_soll wareneingangsdatum_we  soll_menge  we_menge  \\\n",
       "19636       2024-03-04            2024-03-04          78        71   \n",
       "14162       2024-06-19            2024-06-19          97        99   \n",
       "25182       2024-02-19            2024-02-19         203       185   \n",
       "1818        2024-06-23            2024-06-23         131       139   \n",
       "17124       2024-08-07            2024-08-07         425       406   \n",
       "\n",
       "       verspätungstage liefertreue termintreue  mengenabweichung_anteil  \\\n",
       "19636                0          Ja   pünktlich                 8.974359   \n",
       "14162                0          Ja   pünktlich                -2.061856   \n",
       "25182                0          Ja   pünktlich                 8.866995   \n",
       "1818                 0          Ja   pünktlich                -6.106870   \n",
       "17124                0          Ja   pünktlich                 4.470588   \n",
       "\n",
       "       mengenabweichung jahreszeit  \n",
       "19636                -7   Frühling  \n",
       "14162                 2     Sommer  \n",
       "25182               -18     Winter  \n",
       "1818                  8     Sommer  \n",
       "17124               -19     Sommer  "
      ]
     },
     "execution_count": 43,
     "metadata": {},
     "output_type": "execute_result"
    }
   ],
   "source": [
    "train_data_df.head()"
   ]
  },
  {
   "cell_type": "code",
   "execution_count": 44,
   "metadata": {},
   "outputs": [
    {
     "data": {
      "text/html": [
       "<div>\n",
       "<style scoped>\n",
       "    .dataframe tbody tr th:only-of-type {\n",
       "        vertical-align: middle;\n",
       "    }\n",
       "\n",
       "    .dataframe tbody tr th {\n",
       "        vertical-align: top;\n",
       "    }\n",
       "\n",
       "    .dataframe thead th {\n",
       "        text-align: right;\n",
       "    }\n",
       "</style>\n",
       "<table border=\"1\" class=\"dataframe\">\n",
       "  <thead>\n",
       "    <tr style=\"text-align: right;\">\n",
       "      <th></th>\n",
       "      <th>lieferscheinnummer</th>\n",
       "      <th>lieferantennummer</th>\n",
       "      <th>lieferantenbezeichnung</th>\n",
       "      <th>materialnummer</th>\n",
       "      <th>materialbezeichnung</th>\n",
       "      <th>land</th>\n",
       "      <th>bestelldatum</th>\n",
       "      <th>lieferdatum_soll</th>\n",
       "      <th>wareneingangsdatum_we</th>\n",
       "      <th>soll_menge</th>\n",
       "      <th>we_menge</th>\n",
       "      <th>verspätungstage</th>\n",
       "      <th>liefertreue</th>\n",
       "      <th>termintreue</th>\n",
       "      <th>mengenabweichung_anteil</th>\n",
       "      <th>mengenabweichung</th>\n",
       "      <th>jahreszeit</th>\n",
       "    </tr>\n",
       "  </thead>\n",
       "  <tbody>\n",
       "    <tr>\n",
       "      <th>14242</th>\n",
       "      <td>LS9262113</td>\n",
       "      <td>LA1025</td>\n",
       "      <td>THYSSENKRUPP</td>\n",
       "      <td>A5857723</td>\n",
       "      <td>BLECK</td>\n",
       "      <td>DE</td>\n",
       "      <td>2024-09-25</td>\n",
       "      <td>2024-10-06</td>\n",
       "      <td>2024-10-06</td>\n",
       "      <td>391</td>\n",
       "      <td>417</td>\n",
       "      <td>0</td>\n",
       "      <td>Ja</td>\n",
       "      <td>pünktlich</td>\n",
       "      <td>-6.649616</td>\n",
       "      <td>26</td>\n",
       "      <td>Herbst</td>\n",
       "    </tr>\n",
       "    <tr>\n",
       "      <th>17213</th>\n",
       "      <td>LS6622846</td>\n",
       "      <td>LA1018</td>\n",
       "      <td>SEW-EURODRIV</td>\n",
       "      <td>A8657694</td>\n",
       "      <td>GETRIEBEMOTOREN</td>\n",
       "      <td>DE</td>\n",
       "      <td>2024-06-06</td>\n",
       "      <td>2024-06-22</td>\n",
       "      <td>2024-06-22</td>\n",
       "      <td>342</td>\n",
       "      <td>374</td>\n",
       "      <td>0</td>\n",
       "      <td>Ja</td>\n",
       "      <td>pünktlich</td>\n",
       "      <td>-9.356725</td>\n",
       "      <td>32</td>\n",
       "      <td>Sommer</td>\n",
       "    </tr>\n",
       "    <tr>\n",
       "      <th>5126</th>\n",
       "      <td>LS3392530</td>\n",
       "      <td>LA1031</td>\n",
       "      <td>SEW-EUR</td>\n",
       "      <td>A5491705</td>\n",
       "      <td>FREQUENZUMRICHTER</td>\n",
       "      <td>PL</td>\n",
       "      <td>2024-03-26</td>\n",
       "      <td>2024-04-24</td>\n",
       "      <td>2024-04-29</td>\n",
       "      <td>78</td>\n",
       "      <td>82</td>\n",
       "      <td>5</td>\n",
       "      <td>Nein</td>\n",
       "      <td>verspätet</td>\n",
       "      <td>-5.128205</td>\n",
       "      <td>4</td>\n",
       "      <td>Frühling</td>\n",
       "    </tr>\n",
       "    <tr>\n",
       "      <th>24425</th>\n",
       "      <td>LS8476165</td>\n",
       "      <td>LA1013</td>\n",
       "      <td>VOITH GMBH &amp;</td>\n",
       "      <td>A1532724</td>\n",
       "      <td>WASSERKRAFTANLAGEN</td>\n",
       "      <td>BE</td>\n",
       "      <td>2024-08-11</td>\n",
       "      <td>2024-09-05</td>\n",
       "      <td>2024-09-05</td>\n",
       "      <td>493</td>\n",
       "      <td>486</td>\n",
       "      <td>0</td>\n",
       "      <td>Ja</td>\n",
       "      <td>pünktlich</td>\n",
       "      <td>1.419878</td>\n",
       "      <td>-7</td>\n",
       "      <td>Herbst</td>\n",
       "    </tr>\n",
       "    <tr>\n",
       "      <th>1664</th>\n",
       "      <td>LS9714984</td>\n",
       "      <td>LA1007</td>\n",
       "      <td>INFINEON TEC</td>\n",
       "      <td>A2294182</td>\n",
       "      <td>ELEKTRONIK</td>\n",
       "      <td>CZ</td>\n",
       "      <td>2024-11-10</td>\n",
       "      <td>2024-11-15</td>\n",
       "      <td>2024-11-15</td>\n",
       "      <td>443</td>\n",
       "      <td>430</td>\n",
       "      <td>0</td>\n",
       "      <td>Ja</td>\n",
       "      <td>pünktlich</td>\n",
       "      <td>2.934537</td>\n",
       "      <td>-13</td>\n",
       "      <td>Herbst</td>\n",
       "    </tr>\n",
       "  </tbody>\n",
       "</table>\n",
       "</div>"
      ],
      "text/plain": [
       "      lieferscheinnummer lieferantennummer lieferantenbezeichnung  \\\n",
       "14242          LS9262113            LA1025           THYSSENKRUPP   \n",
       "17213          LS6622846            LA1018           SEW-EURODRIV   \n",
       "5126           LS3392530            LA1031                SEW-EUR   \n",
       "24425          LS8476165            LA1013           VOITH GMBH &   \n",
       "1664           LS9714984            LA1007           INFINEON TEC   \n",
       "\n",
       "      materialnummer materialbezeichnung land bestelldatum lieferdatum_soll  \\\n",
       "14242       A5857723               BLECK   DE   2024-09-25       2024-10-06   \n",
       "17213       A8657694     GETRIEBEMOTOREN   DE   2024-06-06       2024-06-22   \n",
       "5126        A5491705   FREQUENZUMRICHTER   PL   2024-03-26       2024-04-24   \n",
       "24425       A1532724  WASSERKRAFTANLAGEN   BE   2024-08-11       2024-09-05   \n",
       "1664        A2294182          ELEKTRONIK   CZ   2024-11-10       2024-11-15   \n",
       "\n",
       "      wareneingangsdatum_we  soll_menge  we_menge  verspätungstage  \\\n",
       "14242            2024-10-06         391       417                0   \n",
       "17213            2024-06-22         342       374                0   \n",
       "5126             2024-04-29          78        82                5   \n",
       "24425            2024-09-05         493       486                0   \n",
       "1664             2024-11-15         443       430                0   \n",
       "\n",
       "      liefertreue termintreue  mengenabweichung_anteil  mengenabweichung  \\\n",
       "14242          Ja   pünktlich                -6.649616                26   \n",
       "17213          Ja   pünktlich                -9.356725                32   \n",
       "5126         Nein   verspätet                -5.128205                 4   \n",
       "24425          Ja   pünktlich                 1.419878                -7   \n",
       "1664           Ja   pünktlich                 2.934537               -13   \n",
       "\n",
       "      jahreszeit  \n",
       "14242     Herbst  \n",
       "17213     Sommer  \n",
       "5126    Frühling  \n",
       "24425     Herbst  \n",
       "1664      Herbst  "
      ]
     },
     "execution_count": 44,
     "metadata": {},
     "output_type": "execute_result"
    }
   ],
   "source": [
    "test_data_df.head()"
   ]
  },
  {
   "cell_type": "markdown",
   "metadata": {},
   "source": [
    "#### **Dummy-Daten anzeigen**"
   ]
  },
  {
   "cell_type": "code",
   "execution_count": 45,
   "metadata": {},
   "outputs": [
    {
     "name": "stdout",
     "output_type": "stream",
     "text": [
      "Dummy-Daten (nur Dummy-Variablen):\n",
      "       jahreszeit_Herbst  jahreszeit_Sommer  jahreszeit_Winter  land_BE  \\\n",
      "19636              False              False              False    False   \n",
      "14162              False               True              False    False   \n",
      "25182              False              False               True    False   \n",
      "1818               False               True              False    False   \n",
      "17124              False               True              False    False   \n",
      "\n",
      "       land_CH  land_CZ  land_DE  land_FR  land_NL  land_PL  \n",
      "19636    False    False     True    False    False    False  \n",
      "14162    False    False    False    False     True    False  \n",
      "25182    False    False     True    False    False    False  \n",
      "1818      True    False    False    False    False    False  \n",
      "17124    False    False    False    False    False    False  \n"
     ]
    }
   ],
   "source": [
    "# Nur die Dummy-Variablen im DataFrame anzeigen\n",
    "dummy_data = train_data_encoded[[col for col in train_data_encoded.columns if col.startswith(\"jahreszeit_\") or col.startswith(\"land_\")]]\n",
    "print(\"Dummy-Daten (nur Dummy-Variablen):\")\n",
    "print(dummy_data.head())"
   ]
  },
  {
   "cell_type": "markdown",
   "metadata": {},
   "source": [
    "### Fit model"
   ]
  },
  {
   "cell_type": "code",
   "execution_count": 46,
   "metadata": {},
   "outputs": [
    {
     "name": "stdout",
     "output_type": "stream",
     "text": [
      "Requirement already satisfied: scikit-learn in /Users/priscilastromsdorfer/opt/anaconda3/envs/analytics/lib/python3.12/site-packages (1.6.0)\n",
      "Requirement already satisfied: numpy>=1.19.5 in /Users/priscilastromsdorfer/opt/anaconda3/envs/analytics/lib/python3.12/site-packages (from scikit-learn) (2.2.0)\n",
      "Requirement already satisfied: scipy>=1.6.0 in /Users/priscilastromsdorfer/opt/anaconda3/envs/analytics/lib/python3.12/site-packages (from scikit-learn) (1.14.1)\n",
      "Requirement already satisfied: joblib>=1.2.0 in /Users/priscilastromsdorfer/opt/anaconda3/envs/analytics/lib/python3.12/site-packages (from scikit-learn) (1.4.2)\n",
      "Requirement already satisfied: threadpoolctl>=3.1.0 in /Users/priscilastromsdorfer/opt/anaconda3/envs/analytics/lib/python3.12/site-packages (from scikit-learn) (3.5.0)\n"
     ]
    }
   ],
   "source": [
    "!pip install scikit-learn"
   ]
  },
  {
   "cell_type": "code",
   "execution_count": 47,
   "metadata": {},
   "outputs": [
    {
     "name": "stdout",
     "output_type": "stream",
     "text": [
      "Logistisches Regressionsmodell wurde erfolgreich mit skalierten Daten trainiert.\n",
      "Klassifikationsbericht:\n",
      "              precision    recall  f1-score   support\n",
      "\n",
      "           0       1.00      1.00      1.00      1265\n",
      "           1       1.00      1.00      1.00      7413\n",
      "\n",
      "    accuracy                           1.00      8678\n",
      "   macro avg       1.00      1.00      1.00      8678\n",
      "weighted avg       1.00      1.00      1.00      8678\n",
      "\n",
      "Konfusionsmatrix:\n",
      "[[1265    0]\n",
      " [   0 7413]]\n"
     ]
    }
   ],
   "source": [
    "# Verwendung von Trainingsdaten (train_data_df) für das Modelltraining\n",
    "from sklearn.linear_model import LogisticRegression\n",
    "\n",
    "# Standardisierung der numerischen Features\n",
    "scaler = StandardScaler()\n",
    "X_train_scaled = scaler.fit_transform(X_train)\n",
    "X_test_scaled = scaler.transform(X_test)\n",
    "\n",
    "# Trainiere das Modell mit den skalierten Daten\n",
    "model = LogisticRegression()\n",
    "model.fit(X_train_scaled, y_train)\n",
    "\n",
    "print(\"Logistisches Regressionsmodell wurde erfolgreich mit skalierten Daten trainiert.\")\n",
    "model\n",
    "\n",
    "# Vorhersage und Evaluierung\n",
    "y_pred = model.predict(X_test_scaled)\n",
    "print(\"Klassifikationsbericht:\")\n",
    "print(classification_report(y_test, y_pred))\n",
    "\n",
    "# Konfusionsmatrix\n",
    "conf_matrix = confusion_matrix(y_test, y_pred)\n",
    "print(\"Konfusionsmatrix:\")\n",
    "print(conf_matrix)"
   ]
  },
  {
   "cell_type": "code",
   "execution_count": 48,
   "metadata": {},
   "outputs": [
    {
     "name": "stdout",
     "output_type": "stream",
     "text": [
      "Koeffizienten der logistischen Regression:\n",
      "              Feature  Koeffizient\n",
      "7             land_CH     0.042498\n",
      "8             land_CZ     0.036729\n",
      "11            land_NL     0.033585\n",
      "1            we_menge     0.017909\n",
      "5   jahreszeit_Winter     0.015056\n",
      "0          soll_menge     0.010763\n",
      "10            land_FR     0.006000\n",
      "12            land_PL    -0.000746\n",
      "3   jahreszeit_Herbst    -0.000899\n",
      "4   jahreszeit_Sommer    -0.005686\n",
      "9             land_DE    -0.024922\n",
      "6             land_BE    -0.038329\n",
      "2     verspätungstage   -12.808870\n"
     ]
    }
   ],
   "source": [
    "# Anzeige der Modell-Koeffizienten\n",
    "coefficients = pd.DataFrame({\n",
    "    \"Feature\": X_train.columns,\n",
    "    \"Koeffizient\": model.coef_[0]\n",
    "}).sort_values(by=\"Koeffizient\", ascending=False)\n",
    "\n",
    "print(\"Koeffizienten der logistischen Regression:\")\n",
    "print(coefficients)"
   ]
  },
  {
   "cell_type": "markdown",
   "metadata": {},
   "source": [
    "interpretation der Koeffizienten:"
   ]
  },
  {
   "cell_type": "markdown",
   "metadata": {},
   "source": [
    "Bemerkung: \n",
    "- Positive Koeffizienten bedeuten, dass der entsprechende Wert die Wahrscheinlichkeit für die Zielvariable (Ja) erhöht.\n",
    "- Negative Koeffizienten bedeuten, dass der entsprechende Wert die Wahrscheinlichkeit für die Zielvariable (Nein) erhöht."
   ]
  },
  {
   "cell_type": "markdown",
   "metadata": {},
   "source": [
    "### **Evaluation on test set**"
   ]
  },
  {
   "cell_type": "code",
   "execution_count": 49,
   "metadata": {},
   "outputs": [
    {
     "name": "stdout",
     "output_type": "stream",
     "text": [
      "Klassifikationsbericht:\n",
      "              precision    recall  f1-score   support\n",
      "\n",
      "           0       1.00      0.95      0.97      1265\n",
      "           1       0.99      1.00      1.00      7413\n",
      "\n",
      "    accuracy                           0.99      8678\n",
      "   macro avg       1.00      0.97      0.98      8678\n",
      "weighted avg       0.99      0.99      0.99      8678\n",
      "\n",
      "Konfusionsmatrix:\n",
      "[[1197   68]\n",
      " [   0 7413]]\n"
     ]
    },
    {
     "name": "stderr",
     "output_type": "stream",
     "text": [
      "/Users/priscilastromsdorfer/opt/anaconda3/envs/analytics/lib/python3.12/site-packages/sklearn/utils/validation.py:2732: UserWarning: X has feature names, but LogisticRegression was fitted without feature names\n",
      "  warnings.warn(\n"
     ]
    },
    {
     "data": {
      "image/png": "[encoded data removed]",
      "text/plain": [
       "<Figure size 640x480 with 2 Axes>"
      ]
     },
     "metadata": {},
     "output_type": "display_data"
    }
   ],
   "source": [
    "\n",
    "# Die Testdaten (test_data_df) werden für die Vorhersage und Bewertung verwendet.\n",
    "\n",
    "# Vorhersagen auf den Testdaten\n",
    "y_pred = model.predict(X_test)\n",
    "\n",
    "# Klassifikationsbericht\n",
    "print(\"Klassifikationsbericht:\")\n",
    "print(classification_report(y_test, y_pred))\n",
    "\n",
    "# Konfusionsmatrix\n",
    "conf_matrix = confusion_matrix(y_test, y_pred)\n",
    "print(\"Konfusionsmatrix:\")\n",
    "print(conf_matrix)\n",
    "\n",
    "# Visualisierung der Konfusionsmatrix (optional)\n",
    "sns.heatmap(conf_matrix, annot=True, fmt=\"d\", cmap=\"Blues\", xticklabels=[\"Nein\", \"Ja\"], yticklabels=[\"Nein\", \"Ja\"])\n",
    "plt.title(\"Konfusionsmatrix\")\n",
    "plt.xlabel(\"Vorhergesagte Werte\")\n",
    "plt.ylabel(\"Tatsächliche Werte\")\n",
    "\n",
    "plt.savefig(\"../reports/images/koeffizienten_liefertreue.png\")\n",
    "plt.show()\n"
   ]
  },
  {
   "cell_type": "markdown",
   "metadata": {},
   "source": [
    "Klassifikationsbericht:\n",
    " - Metriken wie Precision, Recall, F1-Score und Accuracy helfen dir, die Modellleistung zu bewerten.\n",
    "\n",
    "Konfusionsmatrix:\n",
    " - Zeigt, wie viele Vorhersagen korrekt und wie viele falsch waren:\n",
    " - True Positives (TP): Korrekt vorhergesagte Ja-Werte.\n",
    " - True Negatives (TN): Korrekt vorhergesagte Nein-Werte.\n",
    " - False Positives (FP): Nein-Werte, die fälschlicherweise als Ja vorhergesagt wurden.\n",
    " - False Negatives (FN): Ja-Werte, die fälschlicherweise als Nein vorhergesagt wurden."
   ]
  },
  {
   "cell_type": "markdown",
   "metadata": {},
   "source": [
    "### **Wahrscheinlichkeiten abrufen**"
   ]
  },
  {
   "cell_type": "code",
   "execution_count": 50,
   "metadata": {},
   "outputs": [
    {
     "name": "stdout",
     "output_type": "stream",
     "text": [
      "       Tatsächliche Werte  Vorhergesagte Wahrscheinlichkeit (Ja)\n",
      "14242                   1                           9.999990e-01\n",
      "17213                   1                           9.999963e-01\n",
      "5126                    0                           1.346275e-26\n",
      "24425                   1                           9.999999e-01\n",
      "1664                    1                           9.999996e-01\n"
     ]
    },
    {
     "name": "stderr",
     "output_type": "stream",
     "text": [
      "/Users/priscilastromsdorfer/opt/anaconda3/envs/analytics/lib/python3.12/site-packages/sklearn/utils/validation.py:2732: UserWarning: X has feature names, but LogisticRegression was fitted without feature names\n",
      "  warnings.warn(\n"
     ]
    }
   ],
   "source": [
    "# Wahrscheinlichkeiten abrufen\n",
    "y_pred_probs = model.predict_proba(X_test)[:, 1]  # Wahrscheinlichkeit für die Klasse \"Ja\"\n",
    "test_results = pd.DataFrame({\n",
    "    \"Tatsächliche Werte\": y_test,\n",
    "    \"Vorhergesagte Wahrscheinlichkeit (Ja)\": y_pred_probs\n",
    "})\n",
    "print(test_results.head())"
   ]
  },
  {
   "cell_type": "markdown",
   "metadata": {},
   "source": [
    "| Tatsächliche Werte | Vorhergesagte Wahrscheinlichkeit (Ja) | Interpretation                                                                 |\n",
    "|--------------------|---------------------------------------|-------------------------------------------------------------------------------|\n",
    "| 1                  | 9.999990e-01 (≈ 1.0)                | Das Modell sagt mit sehr hoher Wahrscheinlichkeit (~99.9999%) voraus, dass dies ein \"Ja\"-Fall ist, was korrekt ist. |\n",
    "| 1                  | 9.999963e-01 (≈ 1.0)                | Auch hier ist das Modell fast zu 100 % sicher, dass dies ein \"Ja\"-Fall ist, was ebenfalls korrekt ist.              |\n",
    "| 0                  | 1.346275e-26 (≈ 0.0)                | Das Modell ist sich extrem sicher (~0.0% Wahrscheinlichkeit für \"Ja\") und sagt korrekt \"Nein\" voraus.               |\n",
    "| 1                  | 9.999999e-01 (≈ 1.0)                | Das Modell sagt \"Ja\" mit fast 100 % Sicherheit voraus, was richtig ist.                                            |\n",
    "| 1                  | 9.999996e-01 (≈ 1.0)                | Wieder eine korrekte Vorhersage, dass dies ein \"Ja\"-Fall ist, mit einer Wahrscheinlichkeit von 99.99996 %.          |"
   ]
  },
  {
   "cell_type": "markdown",
   "metadata": {},
   "source": [
    "Interpretation der Spalten\n",
    "\n",
    "Tatsächliche Werte:\n",
    " - Diese Spalte zeigt die tatsächlichen Klassenwerte aus den Testdaten:\n",
    " - 1 steht für \"Ja\" (Liefertreue vorhanden).\n",
    " - 0 steht für \"Nein\" (Liefertreue nicht vorhanden).\n",
    "\n",
    "\n",
    "Vorhergesagte Wahrscheinlichkeit (Ja):\n",
    " - Dies ist die Wahrscheinlichkeit, die das Modell der Klasse \"Ja\" zuweist.\n",
    " - Sie liegt immer im Bereich [0, 1]:\n",
    " - Werte nahe 1: Das Modell ist sich sicher, dass die Klasse \"Ja\" korrekt ist.\n",
    " - Werte nahe 0: Das Modell ist sich sicher, dass die Klasse \"Nein\" korrekt ist."
   ]
  },
  {
   "cell_type": "markdown",
   "metadata": {},
   "source": [
    "Wahrscheinlichkeiten: \n",
    "    \n",
    "Das Modell zeigt hohe Sicherheit in seinen Vorhersagen, da die Wahrscheinlichkeiten sehr nahe bei 1.0 (für \"Ja\") oder 0.0 (für \"Nein\") liegen.\n",
    "\n",
    "Die Auswertung der Wahrscheinlichkeiten erlaubt es,:\n",
    " - die Sicherheit des Modells zu analysieren,\n",
    " - potenziell schwierige Fälle zu identifizieren,\n",
    " - den Schwellenwert anzupassen, um die Sensitivität oder Spezifität zu steuern."
   ]
  },
  {
   "cell_type": "markdown",
   "metadata": {},
   "source": [
    "### **Save model**\n"
   ]
  },
  {
   "cell_type": "markdown",
   "metadata": {},
   "source": [
    "\n",
    "Save your model in the folder `models/`. Use a meaningful name and a timestamp."
   ]
  },
  {
   "cell_type": "code",
   "execution_count": 51,
   "metadata": {},
   "outputs": [
    {
     "name": "stdout",
     "output_type": "stream",
     "text": [
      "Modell wurde gespeichert unter: logistic_regression_model_liefertreue.pkl\n",
      "Gespeichertes Modell wurde erfolgreich geladen.\n"
     ]
    }
   ],
   "source": [
    "# Modell speichern\n",
    "model_path = \"logistic_regression_model_liefertreue.pkl\"\n",
    "joblib.dump(model, model_path)\n",
    "print(f\"Modell wurde gespeichert unter: {model_path}\")\n",
    "\n",
    "# Modell laden\n",
    "loaded_model = joblib.load(model_path)\n",
    "print(\"Gespeichertes Modell wurde erfolgreich geladen.\")"
   ]
  },
  {
   "cell_type": "markdown",
   "metadata": {},
   "source": [
    "### **Chi-Quadrat Test**"
   ]
  },
  {
   "cell_type": "markdown",
   "metadata": {},
   "source": [
    "#### **Chi-Quadrat Test zwischen Land und Liefertreue**"
   ]
  },
  {
   "cell_type": "code",
   "execution_count": 52,
   "metadata": {},
   "outputs": [
    {
     "name": "stdout",
     "output_type": "stream",
     "text": [
      "Chi-Quadrat-Test Ergebnisse:\n",
      "Chi-Quadrat-Statistik: 2.8522134334790685\n",
      "p-Wert: 0.8983287717893658\n",
      "Freiheitsgrade: 7\n",
      "\n",
      "Erwartete Häufigkeiten (falls keine Abhängigkeit besteht):\n",
      "[[ 1539.72652469   270.27347531]\n",
      " [ 1538.02516941   269.97483059]\n",
      " [ 2314.69385286   406.30614714]\n",
      " [ 1543.12923524   270.87076476]\n",
      " [10670.90029042  1873.09970958]\n",
      " [ 2296.82962246   403.17037754]\n",
      " [ 1558.44143272   273.55856728]\n",
      " [ 3143.25387222   551.74612778]]\n",
      "\n",
      "Ergebnis: Es gibt keinen signifikanten Zusammenhang zwischen den Variablen (p >= 0.05).\n"
     ]
    }
   ],
   "source": [
    "from scipy.stats import chi2_contingency\n",
    "\n",
    "# Kontingenztabelle erstellen (z. B. Liefertreue nach Land)\n",
    "contingency_table = pd.crosstab(cleaned_liefertreue_2024_df[\"land\"], cleaned_liefertreue_2024_df[\"liefertreue\"])\n",
    "\n",
    "# Chi-Quadrat-Test durchführen\n",
    "chi2, p, dof, expected = chi2_contingency(contingency_table)\n",
    "\n",
    "# Ergebnisse ausgeben\n",
    "print(\"Chi-Quadrat-Test Ergebnisse:\")\n",
    "print(f\"Chi-Quadrat-Statistik: {chi2}\")\n",
    "print(f\"p-Wert: {p}\")\n",
    "print(f\"Freiheitsgrade: {dof}\")\n",
    "print(\"\\nErwartete Häufigkeiten (falls keine Abhängigkeit besteht):\")\n",
    "print(expected)\n",
    "\n",
    "# Interpretation basierend auf p-Wert\n",
    "if p < 0.05:\n",
    "    print(\"\\nErgebnis: Es besteht ein signifikanter Zusammenhang zwischen den Variablen (p < 0.05).\")\n",
    "else:\n",
    "    print(\"\\nErgebnis: Es gibt keinen signifikanten Zusammenhang zwischen den Variablen (p >= 0.05).\")"
   ]
  },
  {
   "cell_type": "markdown",
   "metadata": {},
   "source": [
    "| **Metrik**              | **Ergebnis**                                                                                      |\n",
    "|--------------------------|--------------------------------------------------------------------------------------------------|\n",
    "| **Chi-Quadrat-Statistik** | 2.852 - Geringe Abweichung zwischen beobachteten und erwarteten Häufigkeiten.                    |\n",
    "| **p-Wert**               | 0.898 - Kein signifikanter Zusammenhang (p > 0.05).                                              |\n",
    "| **Freiheitsgrade**       | 7 - Basierend auf der Anzahl der Kategorien der getesteten Variablen.                            |\n",
    "| **Erwartete Häufigkeiten** | Frequenzen, die bei vollständiger Unabhängigkeit der Variablen zu erwarten wären.                |\n",
    "| **Interpretation**       | Es gibt keinen statistisch signifikanten Zusammenhang zwischen den getesteten Variablen.         |"
   ]
  },
  {
   "cell_type": "markdown",
   "metadata": {},
   "source": [
    "#### **Chi-Quadrat Test zwischen Jahreszeit und Liefertreue**"
   ]
  },
  {
   "cell_type": "code",
   "execution_count": 53,
   "metadata": {},
   "outputs": [
    {
     "name": "stdout",
     "output_type": "stream",
     "text": [
      "Chi-Quadrat-Test Ergebnisse:\n",
      "Chi-Quadrat-Statistik: 3.859496376323788\n",
      "p-Wert: 0.27704113793354596\n",
      "Freiheitsgrade: 3\n",
      "\n",
      "Erwartete Häufigkeiten (falls keine Abhängigkeit besteht):\n",
      "[[6668.46200387 1170.53799613]\n",
      " [6264.39012585 1099.60987415]\n",
      " [6613.16795741 1160.83204259]\n",
      " [5058.97991288  888.02008712]]\n",
      "\n",
      "Ergebnis: Es gibt keinen signifikanten Zusammenhang zwischen den Variablen (p >= 0.05).\n"
     ]
    }
   ],
   "source": [
    "# Kontingenztabelle erstellen (z. B. Liefertreue nach Land)\n",
    "contingency_table2 = pd.crosstab(cleaned_liefertreue_2024_df[\"jahreszeit\"], cleaned_liefertreue_2024_df[\"liefertreue\"])\n",
    "\n",
    "# Chi-Quadrat-Test durchführen\n",
    "chi2, p, dof, expected = chi2_contingency(contingency_table2)\n",
    "\n",
    "# Ergebnisse ausgeben\n",
    "print(\"Chi-Quadrat-Test Ergebnisse:\")\n",
    "print(f\"Chi-Quadrat-Statistik: {chi2}\")\n",
    "print(f\"p-Wert: {p}\")\n",
    "print(f\"Freiheitsgrade: {dof}\")\n",
    "print(\"\\nErwartete Häufigkeiten (falls keine Abhängigkeit besteht):\")\n",
    "print(expected)\n",
    "\n",
    "# Interpretation basierend auf p-Wert\n",
    "if p < 0.05:\n",
    "    print(\"\\nErgebnis: Es besteht ein signifikanter Zusammenhang zwischen den Variablen (p < 0.05).\")\n",
    "else:\n",
    "    print(\"\\nErgebnis: Es gibt keinen signifikanten Zusammenhang zwischen den Variablen (p >= 0.05).\")"
   ]
  },
  {
   "cell_type": "markdown",
   "metadata": {},
   "source": [
    "#### **Chi-Quadrat Test zwischen Termintreue und Liefertreue**"
   ]
  },
  {
   "cell_type": "code",
   "execution_count": 54,
   "metadata": {},
   "outputs": [
    {
     "name": "stdout",
     "output_type": "stream",
     "text": [
      "Chi-Quadrat-Test Ergebnisse:\n",
      "Chi-Quadrat-Statistik: 28916.128081664036\n",
      "p-Wert: 0.0\n",
      "Freiheitsgrade: 1\n",
      "\n",
      "Erwartete Häufigkeiten (falls keine Abhängigkeit besteht):\n",
      "[[20930.9232817  3674.0767183]\n",
      " [ 3674.0767183   644.9232817]]\n",
      "\n",
      "Ergebnis: Es besteht ein signifikanter Zusammenhang zwischen den Variablen (p < 0.05).\n"
     ]
    }
   ],
   "source": [
    "# Kontingenztabelle erstellen (z. B. Liefertreue nach Land)\n",
    "contingency_table2 = pd.crosstab(cleaned_liefertreue_2024_df[\"termintreue\"], cleaned_liefertreue_2024_df[\"liefertreue\"])\n",
    "\n",
    "# Chi-Quadrat-Test durchführen\n",
    "chi2, p, dof, expected = chi2_contingency(contingency_table2)\n",
    "\n",
    "# Ergebnisse ausgeben\n",
    "print(\"Chi-Quadrat-Test Ergebnisse:\")\n",
    "print(f\"Chi-Quadrat-Statistik: {chi2}\")\n",
    "print(f\"p-Wert: {p}\")\n",
    "print(f\"Freiheitsgrade: {dof}\")\n",
    "print(\"\\nErwartete Häufigkeiten (falls keine Abhängigkeit besteht):\")\n",
    "print(expected)\n",
    "\n",
    "# Interpretation basierend auf p-Wert\n",
    "if p < 0.05:\n",
    "    print(\"\\nErgebnis: Es besteht ein signifikanter Zusammenhang zwischen den Variablen (p < 0.05).\")\n",
    "else:\n",
    "    print(\"\\nErgebnis: Es gibt keinen signifikanten Zusammenhang zwischen den Variablen (p >= 0.05).\")"
   ]
  },
  {
   "cell_type": "markdown",
   "metadata": {},
   "source": [
    "| **Metrik**              | **Ergebnis**                                                                                      |\n",
    "|--------------------------|--------------------------------------------------------------------------------------------------|\n",
    "| **Chi-Quadrat-Statistik** | 28916.13 - Sehr hohe Abweichung zwischen den beobachteten und erwarteten Häufigkeiten.           |\n",
    "| **p-Wert**               | 0.0 - Ein extrem signifikanter Zusammenhang zwischen `termintreue` und `liefertreue` (p < 0.05). |\n",
    "| **Freiheitsgrade**       | 1 - Basierend auf der Größe der Kontingenztabelle.                                               |\n",
    "| **Erwartete Häufigkeiten** | [[20930.92, 3674.08], [3674.08, 644.92]] - Frequenzen, die bei vollständiger Unabhängigkeit erwartet würden. |\n",
    "| **Interpretation**       | Es besteht ein hoch signifikanter Zusammenhang zwischen den Variablen `termintreue` und `liefertreue`. Die Verteilung der Werte zeigt, dass die Termintreue eng mit der Liefertreue verknüpft ist. |\n",
    "\n",
    "Die Ergebnisse bestätigen, dass die Termintreue ein starker Prädiktor für die Liefertreue ist. Wenn eine Lieferung verspätet oder früh erfolgt, ist die Wahrscheinlichkeit für fehlende Liefertreue (Nein) signifikant höher. "
   ]
  },
  {
   "cell_type": "markdown",
   "metadata": {},
   "source": [
    "## Conclusions"
   ]
  },
  {
   "cell_type": "code",
   "execution_count": 55,
   "metadata": {},
   "outputs": [
    {
     "name": "stdout",
     "output_type": "stream",
     "text": [
      "Einfluss der Features auf die Liefertreue:\n",
      "              Feature  Koeffizient\n",
      "7             land_CH     0.042498\n",
      "8             land_CZ     0.036729\n",
      "11            land_NL     0.033585\n",
      "1            we_menge     0.017909\n",
      "5   jahreszeit_Winter     0.015056\n",
      "0          soll_menge     0.010763\n",
      "10            land_FR     0.006000\n",
      "12            land_PL    -0.000746\n",
      "3   jahreszeit_Herbst    -0.000899\n",
      "4   jahreszeit_Sommer    -0.005686\n",
      "9             land_DE    -0.024922\n",
      "6             land_BE    -0.038329\n",
      "2     verspätungstage   -12.808870\n"
     ]
    },
    {
     "data": {
      "image/png": "[encoded data removed]",
      "text/plain": [
       "<Figure size 800x400 with 1 Axes>"
      ]
     },
     "metadata": {},
     "output_type": "display_data"
    }
   ],
   "source": [
    "# Analyse der Koeffizienten\n",
    "# hilft, den Einfluss der einzelnen Features auf die Zielvariable (Liefertreue) zu interpretieren.\n",
    "\n",
    "# Erstellen eines DataFrames mit den Koeffizienten\n",
    "coefficients = pd.DataFrame({\n",
    "    \"Feature\": X_train.columns,    # Namen der Features\n",
    "    \"Koeffizient\": model.coef_[0]  # Die Koeffizienten des Modells\n",
    "})\n",
    "\n",
    "# Sortieren der Koeffizienten nach ihrem Einfluss\n",
    "coefficients = coefficients.sort_values(by=\"Koeffizient\", ascending=False)\n",
    "\n",
    "# Ausgabe der Koeffizienten\n",
    "print(\"Einfluss der Features auf die Liefertreue:\")\n",
    "print(coefficients)\n",
    "\n",
    "# Optional: Visualisierung der Koeffizienten als Balkendiagramm\n",
    "plt.figure(figsize=(8, 4))\n",
    "coefficients.set_index(\"Feature\")[\"Koeffizient\"].plot(kind=\"bar\", color=\"#1976D2\", edgecolor=\"black\")\n",
    "plt.title(\"Einfluss der Features auf die Liefertreue (Koeffizienten)\", fontsize=14)\n",
    "plt.xlabel(\"Feature\", fontsize=12)\n",
    "plt.ylabel(\"Koeffizient\", fontsize=12)\n",
    "plt.xticks(rotation=45, fontsize=10)\n",
    "plt.grid(axis=\"y\", linestyle=\"--\", alpha=0.7)\n",
    "plt.tight_layout()\n",
    "plt.show()"
   ]
  },
  {
   "cell_type": "markdown",
   "metadata": {},
   "source": [
    "model.coef_:\n",
    " - Die logistische Regression gibt die Koeffizienten für jedes Feature im Modell zurück.\n",
    " - Positive Koeffizienten: Ein Anstieg des Wertes dieses Features erhöht die Wahrscheinlichkeit, dass die Zielvariable den Wert 1 (Ja) hat.\n",
    " - Negative Koeffizienten: Ein Anstieg des Wertes dieses Features reduziert die Wahrscheinlichkeit, dass die Zielvariable den Wert 1 (Ja) hat."
   ]
  },
  {
   "cell_type": "code",
   "execution_count": 56,
   "metadata": {},
   "outputs": [
    {
     "name": "stdout",
     "output_type": "stream",
     "text": [
      "Positive Einflussfaktoren:\n",
      "              Feature  Koeffizient\n",
      "7             land_CH     0.042498\n",
      "8             land_CZ     0.036729\n",
      "11            land_NL     0.033585\n",
      "1            we_menge     0.017909\n",
      "5   jahreszeit_Winter     0.015056\n",
      "0          soll_menge     0.010763\n",
      "10            land_FR     0.006000\n",
      "Negative Einflussfaktoren:\n",
      "              Feature  Koeffizient\n",
      "12            land_PL    -0.000746\n",
      "3   jahreszeit_Herbst    -0.000899\n",
      "4   jahreszeit_Sommer    -0.005686\n",
      "9             land_DE    -0.024922\n",
      "6             land_BE    -0.038329\n",
      "2     verspätungstage   -12.808870\n"
     ]
    }
   ],
   "source": [
    "positive_influence = coefficients[coefficients[\"Koeffizient\"] > 0]\n",
    "negative_influence = coefficients[coefficients[\"Koeffizient\"] < 0]\n",
    "print(\"Positive Einflussfaktoren:\")\n",
    "print(positive_influence)\n",
    "print(\"Negative Einflussfaktoren:\")\n",
    "print(negative_influence)"
   ]
  },
  {
   "cell_type": "markdown",
   "metadata": {},
   "source": [
    "Zusammenhang:\n",
    " - Positive Koeffizienten: Erhöhen die Wahrscheinlichkeit für Liefertreue = \"Ja\".\n",
    " - Negative Koeffizienten: Reduzieren die Wahrscheinlichkeit für Liefertreue = \"Ja\"."
   ]
  },
  {
   "cell_type": "markdown",
   "metadata": {},
   "source": [
    "### Conclusion"
   ]
  },
  {
   "cell_type": "markdown",
   "metadata": {},
   "source": [
    "**Zusammenfassung - 14.01.25**\n",
    "\n",
    "| **Feature**           | **Koeffizient** | **Einfluss**                                                                                 |\n",
    "|------------------------|-----------------|---------------------------------------------------------------------------------------------|\n",
    "| verspätungstage        | -12.81          | Stärkster negativer Einfluss. Jede zusätzliche Verspätungstag reduziert die Liefertreue stark. |\n",
    "| we_menge               | 0.018           | Moderat positiver Einfluss. Höhere gelieferte Mengen verbessern die Wahrscheinlichkeit der Liefertreue. |\n",
    "| soll_menge             | 0.011           | Gering positiver Einfluss. Größere Bestellungen korrelieren leicht mit besserer Liefertreue. |\n",
    "| land_CH (Schweiz)      | 0.043           | Leichter positiver Einfluss. Gute logistische Leistung.                                      |\n",
    "| land_CZ (Tschechien)   | 0.037           | Leichter positiver Einfluss. Gute logistische Leistung.                                      |\n",
    "| land_NL (Niederlande)  | 0.034           | Leichter positiver Einfluss. Gute logistische Leistung.                                      |\n",
    "| land_BE (Belgien)      | -0.038          | Leichter negativer Einfluss. Potenzielle regionale Herausforderungen.                       |\n",
    "| land_DE (Deutschland)  | -0.025          | Leichter negativer Einfluss. Potenzielle regionale Herausforderungen.                       |\n",
    "| jahreszeit_Winter      | 0.015           | Leichter positiver Einfluss. Möglicherweise bessere Planung in der Winterperiode.           |\n",
    "| jahreszeit_Sommer      | -0.006          | Gering negativer Einfluss. Urlaubszeiten könnten Liefertreue leicht beeinträchtigen.         |\n",
    "| jahreszeit_Herbst      | -0.001          | Minimal negativer Einfluss.                                                                 |\n",
    "\n",
    "**Entscheidender Einflussfaktor: verspätungstage**\n",
    " - Koeffizient: -12.81\n",
    "\n",
    "Bedeutung:\n",
    " - Die verspätungstage (Tage der Verzögerung) haben mit Abstand den stärksten negativen Einfluss auf die Liefertreue.\n",
    " - Je mehr Tage eine Lieferung verspätet ist, desto geringer ist die Wahrscheinlichkeit, dass sie als “pünktlich” (Liefertreue = Ja) eingestuft wird.\n",
    " - Dieser starke negative Einfluss ist logisch, da Verspätungen ein klarer Indikator für fehlende Liefertreue sind.\n",
    "\n",
    "**Handlungsempfehlung** \n",
    "\n",
    "Um die Liefertreue nachhaltig zu verbessern, sollten gezielte Maßnahmen in den folgenden Bereichen umgesetzt werden:\n",
    "1.\tVerspätungen minimieren:\n",
    "Der drastische negative Einfluss der verspätungstage verdeutlicht die Dringlichkeit, die Lieferprozesse zu optimieren, um Verspätungen zu vermeiden. Lieferanten und Regionen mit häufiger verspäteten Lieferungen sollten identifiziert und spezifische Verbesserungspläne entwickelt werden.\n",
    "2.\tRegionale Maßnahmen:\n",
    "Besonderes Augenmerk sollte auf Länder mit negativem Einfluss gelegt werden, wie beispielsweise Deutschland und Belgien. Eine detaillierte Analyse der Lieferperformance in diesen Regionen kann helfen, gezielte Verbesserungsmaßnahmen einzuleiten.\n",
    "3.\tSaisonale Planung:\n",
    "Da sich im Sommer eine leichte Verschlechterung der Liefertreue zeigt, sollte die Planung in dieser Jahreszeit effizienter gestaltet werden. Dies könnte die Auswirkungen von Urlaubszeiten und saisonalen Schwankungen auf die Lieferkette minimieren.\n",
    "4.\tMengenplanung:\n",
    "Die Sicherstellung vollständiger Lieferungen ist von zentraler Bedeutung, da sowohl die bestellte als auch die gelieferte Menge einen positiven Effekt auf die Liefertreue haben. Effiziente Mengenplanung und Überwachung können die Zuverlässigkeit der Lieferungen erhöhen.\n",
    "\n",
    "In einer zunehmend vernetzten und komplexen Wirtschaft ist eine reibungslos funktionierende Lieferkette entscheidend, um Produktionsziele zu erreichen und die Wettbewerbsfähigkeit zu sichern. Lieferengpässe und Produktionsunterbrechungen stellen dabei nicht nur ein erhebliches finanzielles Risiko dar, sondern gefährden auch die Reputation des Unternehmens und die Kundenzufriedenheit.\n",
    "\n",
    "Die Analyse der Liefertreue zeigt klar auf, dass Faktoren wie verspätete Lieferungen, unvollständige Mengen und regionale Unterschiede signifikante Auswirkungen auf die Zuverlässigkeit der Lieferkette haben können. Diese Schwachstellen dürfen nicht unterschätzt werden. Ein Versäumnis, rechtzeitig Gegenmaßnahmen einzuleiten, kann gravierende Folgen für den gesamten Produktionsprozess haben.\n",
    "\n",
    "Daher sollte die Supply-Chain-Abteilung das Thema Liefertreue mit höchster Priorität angehen. Dies umfasst nicht nur die Identifikation und Analyse von Problemfeldern, sondern auch die Umsetzung konkreter Maßnahmen zur Prozessoptimierung. Lieferantenbeziehungen müssen proaktiv gestaltet, Engpässe frühzeitig erkannt und saisonale sowie regionale Herausforderungen besser berücksichtigt werden.\n",
    "\n",
    "Nur durch eine ernsthafte Auseinandersetzung mit diesen Themen kann sichergestellt werden, dass die Lieferkette robust bleibt und das Unternehmen langfristig erfolgreich ist. Es ist Zeit, die Lieferkette nicht als bloße Unterstützung, sondern als strategischen Erfolgsfaktor zu betrachten.\n"
   ]
  },
  {
   "cell_type": "markdown",
   "metadata": {},
   "source": [
    "### Dataframe als PKL und Excel-Speichern"
   ]
  },
  {
   "cell_type": "code",
   "execution_count": 57,
   "metadata": {},
   "outputs": [
    {
     "name": "stdout",
     "output_type": "stream",
     "text": [
      "DataFrame gespeichert unter: ../data/pkl/final_liefertreue_dataset_2024.pkl\n",
      "DataFrame als Excel-Datei gespeichert unter: ../data/processed/final_liefertreue_dataset_2024.xlsx\n"
     ]
    }
   ],
   "source": [
    "# Speichern des DataFrames\n",
    "export_path = \"../data/pkl/final_liefertreue_dataset_2024.pkl\"\n",
    "joblib.dump(cleaned_liefertreue_2024_df, export_path)\n",
    "print(f\"DataFrame gespeichert unter: {export_path}\")\n",
    "\n",
    "# Speichern als .xlsx-Datei (Excel)\n",
    "excel_path = \"../data/processed/final_liefertreue_dataset_2024.xlsx\"\n",
    "cleaned_liefertreue_2024_df.to_excel(excel_path, index=False)\n",
    "print(f\"DataFrame als Excel-Datei gespeichert unter: {excel_path}\")"
   ]
  },
  {
   "cell_type": "markdown",
   "metadata": {},
   "source": [
    "### HTML Speichern"
   ]
  },
  {
   "cell_type": "code",
   "execution_count": 58,
   "metadata": {},
   "outputs": [
    {
     "name": "stdout",
     "output_type": "stream",
     "text": [
      "[NbConvertApp] Converting notebook final-analysis.ipynb to html\n",
      "[NbConvertApp] Writing 1289604 bytes to final-analysis.html\n"
     ]
    }
   ],
   "source": [
    "!jupyter nbconvert --to html final-analysis.ipynb"
   ]
  },
  {
   "cell_type": "code",
   "execution_count": null,
   "metadata": {},
   "outputs": [],
   "source": []
  }
 ],
 "metadata": {
  "kernelspec": {
   "display_name": "analytics",
   "language": "python",
   "name": "python3"
  },
  "language_info": {
   "codemirror_mode": {
    "name": "ipython",
    "version": 3
   },
   "file_extension": ".py",
   "mimetype": "text/x-python",
   "name": "python",
   "nbconvert_exporter": "python",
   "pygments_lexer": "ipython3",
   "version": "3.12.8"
  },
  "orig_nbformat": 4
 },
 "nbformat": 4,
 "nbformat_minor": 2
}
